{
 "cells": [
  {
   "cell_type": "code",
   "execution_count": 1,
   "id": "44fcf031",
   "metadata": {},
   "outputs": [],
   "source": [
    "from astropy.io import ascii\n",
    "import numpy as np\n",
    "import matplotlib.pyplot as plt\n",
    "\n",
    "import pysiaf\n",
    "import miricoord.imager.mirim_tools as mt"
   ]
  },
  {
   "cell_type": "code",
   "execution_count": 2,
   "id": "b504d938",
   "metadata": {},
   "outputs": [
    {
     "name": "stdout",
     "output_type": "stream",
     "text": [
      "SIAF version:  PRDOPSSOC-039\n",
      "miricoord version:  cdp7\n"
     ]
    }
   ],
   "source": [
    "siaf=pysiaf.Siaf('MIRI')\n",
    "print('SIAF version: ',pysiaf.JWST_PRD_VERSION)\n",
    "print('miricoord version: ',mt.version())"
   ]
  },
  {
   "cell_type": "code",
   "execution_count": 3,
   "id": "ecc7071a",
   "metadata": {},
   "outputs": [],
   "source": [
    "# Output file in Ideal coordinates\n",
    "outfile = 'MiriCoronDithers.txt'"
   ]
  },
  {
   "cell_type": "markdown",
   "id": "a8bb551f",
   "metadata": {},
   "source": [
    "## Convert 4QPM LFLAT ##"
   ]
  },
  {
   "cell_type": "code",
   "execution_count": 4,
   "id": "1b5de535",
   "metadata": {},
   "outputs": [],
   "source": [
    "infile = '1043-MIRI-056-4QM-LFLAT-dedicatedscanpattern.txt' # input file in pixel offsets"
   ]
  },
  {
   "cell_type": "code",
   "execution_count": 5,
   "id": "5cb11edc",
   "metadata": {},
   "outputs": [],
   "source": [
    "# Read in desired offsets in pixels\n",
    "data=ascii.read(infile)\n",
    "number,dx,dy=data['Nr'].data,data['Xpix'].data,data['Ypix'].data\n",
    "number=number+1 # PRD likes to be 1-indexed"
   ]
  },
  {
   "cell_type": "code",
   "execution_count": 6,
   "id": "ee1ef6d8",
   "metadata": {},
   "outputs": [
    {
     "name": "stdout",
     "output_type": "stream",
     "text": [
      "SIAF version:  PRDOPSSOC-039\n",
      "SIAF version:  PRDOPSSOC-039\n",
      "SIAF version:  PRDOPSSOC-039\n"
     ]
    }
   ],
   "source": [
    "# Define reference aperture that we'll use to construct the Ideal coordinates\n",
    "aper='MIRIM_CORON1065'\n",
    "# Bounding Box of real aperture\n",
    "xbound1065=[siaf[aper].XIdlVert1,siaf[aper].XIdlVert2,siaf[aper].XIdlVert3,siaf[aper].XIdlVert4,siaf[aper].XIdlVert1]\n",
    "ybound1065=[siaf[aper].YIdlVert1,siaf[aper].YIdlVert2,siaf[aper].YIdlVert3,siaf[aper].YIdlVert4,siaf[aper].YIdlVert1]\n",
    "# Get the detector coordinates of this aperture's reference point (origin of Ideal frame)\n",
    "xcen,ycen=siaf[aper].XDetRef,siaf[aper].YDetRef # 1-indexed\n",
    "# Convert desired pixel offsets to pixel values\n",
    "x,y=xcen+dx,ycen+dy\n",
    "# Convert to v2, v3 (inputs need to be 0-indexed, so subtract 1)\n",
    "v2,v3=mt.xytov2v3(x-1,y-1,'F770W')\n",
    "# Convert to Ideal\n",
    "xi1065,yi1065=mt.v2v3toIdeal(v2,v3,aper)\n",
    "\n",
    "aper='MIRIM_CORON1140'\n",
    "# Bounding Box of real aperture\n",
    "xbound1140=[siaf[aper].XIdlVert1,siaf[aper].XIdlVert2,siaf[aper].XIdlVert3,siaf[aper].XIdlVert4,siaf[aper].XIdlVert1]\n",
    "ybound1140=[siaf[aper].YIdlVert1,siaf[aper].YIdlVert2,siaf[aper].YIdlVert3,siaf[aper].YIdlVert4,siaf[aper].YIdlVert1]\n",
    "# Get the detector coordinates of this aperture's reference point (origin of Ideal frame)\n",
    "xcen,ycen=siaf[aper].XDetRef,siaf[aper].YDetRef # 1-indexed\n",
    "# Convert desired pixel offsets to pixel values\n",
    "x,y=xcen+dx,ycen+dy\n",
    "# Convert to v2, v3 (inputs need to be 0-indexed, so subtract 1)\n",
    "v2,v3=mt.xytov2v3(x-1,y-1,'F770W')\n",
    "# Convert to Ideal\n",
    "xi1140,yi1140=mt.v2v3toIdeal(v2,v3,aper)\n",
    "\n",
    "aper='MIRIM_CORON1550'\n",
    "# Bounding Box of real aperture\n",
    "xbound1550=[siaf[aper].XIdlVert1,siaf[aper].XIdlVert2,siaf[aper].XIdlVert3,siaf[aper].XIdlVert4,siaf[aper].XIdlVert1]\n",
    "ybound1550=[siaf[aper].YIdlVert1,siaf[aper].YIdlVert2,siaf[aper].YIdlVert3,siaf[aper].YIdlVert4,siaf[aper].YIdlVert1]\n",
    "# Get the detector coordinates of this aperture's reference point (origin of Ideal frame)\n",
    "xcen,ycen=siaf[aper].XDetRef,siaf[aper].YDetRef # 1-indexed\n",
    "# Convert desired pixel offsets to pixel values\n",
    "x,y=xcen+dx,ycen+dy\n",
    "# Convert to v2, v3 (inputs need to be 0-indexed, so subtract 1)\n",
    "v2,v3=mt.xytov2v3(x-1,y-1,'F770W')\n",
    "# Convert to Ideal\n",
    "xi1550,yi1550=mt.v2v3toIdeal(v2,v3,aper)"
   ]
  },
  {
   "cell_type": "code",
   "execution_count": 7,
   "id": "112f532f",
   "metadata": {},
   "outputs": [],
   "source": [
    "# Print results to output file\n",
    "\n",
    "print(\"\",file=open(outfile,\"w\"))\n",
    "print(\"LFLAT_CORON1065\",file=open(outfile,\"a\"))\n",
    "for ii in range(0,len(xi1065)):\n",
    "    print(\"{0:<3}{1:>10.6f}     {2:>10.6f}\".format(number[ii],xi1065[ii],yi1065[ii]),file=open(outfile,\"a\"))\n",
    "    \n",
    "print(\"\",file=open(outfile,\"a\"))\n",
    "print(\"LFLAT_CORON1140\",file=open(outfile,\"a\"))\n",
    "for ii in range(0,len(xi1140)):\n",
    "    print(\"{0:<3}{1:>10.6f}     {2:>10.6f}\".format(number[ii],xi1140[ii],yi1140[ii]),file=open(outfile,\"a\"))\n",
    "    \n",
    "print(\"\",file=open(outfile,\"a\"))\n",
    "print(\"LFLAT_CORON1550\",file=open(outfile,\"a\"))\n",
    "for ii in range(0,len(xi1550)):\n",
    "    print(\"{0:<3}{1:>10.6f}     {2:>10.6f}\".format(number[ii],xi1550[ii],yi1550[ii]),file=open(outfile,\"a\"))"
   ]
  },
  {
   "cell_type": "code",
   "execution_count": 8,
   "id": "dcc85a0d",
   "metadata": {},
   "outputs": [
    {
     "data": {
      "text/plain": [
       "Text(0, 0.5, 'YIdeal (arcsec)')"
      ]
     },
     "execution_count": 8,
     "metadata": {},
     "output_type": "execute_result"
    },
    {
     "data": {
      "image/png": "[encoded data removed]",
      "text/plain": [
       "<Figure size 432x288 with 1 Axes>"
      ]
     },
     "metadata": {
      "needs_background": "light"
     },
     "output_type": "display_data"
    }
   ],
   "source": [
    "# Plot results\n",
    "plt.plot(xbound1065,ybound1065)\n",
    "plt.plot(xbound1140,ybound1140)\n",
    "plt.plot(xbound1550,ybound1550)\n",
    "\n",
    "plt.plot(xi1065,yi1065,'s',label='1065')\n",
    "plt.plot(xi1140,yi1140,'s',label='1140')\n",
    "plt.plot(xi1550,yi1550,'s',label='1550')\n",
    "plt.legend()\n",
    "plt.title(outfile)\n",
    "plt.xlabel('XIdeal (arcsec)')\n",
    "plt.ylabel('YIdeal (arcsec)')"
   ]
  },
  {
   "cell_type": "code",
   "execution_count": null,
   "id": "140a62fc",
   "metadata": {},
   "outputs": [],
   "source": []
  },
  {
   "cell_type": "markdown",
   "id": "5a377c88",
   "metadata": {},
   "source": [
    "## Convert Lyot LFLAT ##"
   ]
  },
  {
   "cell_type": "code",
   "execution_count": 9,
   "id": "0dd9786e",
   "metadata": {},
   "outputs": [],
   "source": [
    "infile = '1043-MIRI-056-LYOT-LFLAT-dedicatedscanpattern.txt' # input file in pixel offsets"
   ]
  },
  {
   "cell_type": "code",
   "execution_count": 10,
   "id": "d778b4ff",
   "metadata": {},
   "outputs": [],
   "source": [
    "# Read in desired offsets in pixels\n",
    "data=ascii.read(infile)\n",
    "num,dx,dy=data['Nr'].data,data['Xpix'].data,data['Ypix'].data\n",
    "num=num+1 # PRD likes to be 1-indexed"
   ]
  },
  {
   "cell_type": "code",
   "execution_count": 11,
   "id": "e524fb55",
   "metadata": {},
   "outputs": [
    {
     "name": "stdout",
     "output_type": "stream",
     "text": [
      "SIAF version:  PRDOPSSOC-039\n"
     ]
    }
   ],
   "source": [
    "# Define reference aperture that we'll use to construct the Ideal coordinates\n",
    "aper='MIRIM_CORONLYOT'\n",
    "# Bounding Box of real aperture\n",
    "xboundlyot=[siaf[aper].XIdlVert1,siaf[aper].XIdlVert2,siaf[aper].XIdlVert3,siaf[aper].XIdlVert4,siaf[aper].XIdlVert1]\n",
    "yboundlyot=[siaf[aper].YIdlVert1,siaf[aper].YIdlVert2,siaf[aper].YIdlVert3,siaf[aper].YIdlVert4,siaf[aper].YIdlVert1]\n",
    "# Get the detector coordinates of this aperture's reference point (origin of Ideal frame)\n",
    "xcen,ycen=siaf[aper].XDetRef,siaf[aper].YDetRef # 1-indexed\n",
    "# Convert desired pixel offsets to pixel values\n",
    "x,y=xcen+dx,ycen+dy\n",
    "# Convert to v2, v3 (inputs need to be 0-indexed, so subtract 1)\n",
    "v2,v3=mt.xytov2v3(x-1,y-1,'F770W')\n",
    "# Convert to Ideal\n",
    "xilyot,yilyot=mt.v2v3toIdeal(v2,v3,aper)"
   ]
  },
  {
   "cell_type": "code",
   "execution_count": 12,
   "id": "99506a00",
   "metadata": {},
   "outputs": [],
   "source": [
    "# Print results to a file\n",
    "print(\"\",file=open(outfile,\"a\"))\n",
    "print(\"LFLAT_CORONLYOT\",file=open(outfile,\"a\"))\n",
    "for ii in range(0,len(xilyot)):\n",
    "    print(\"{0:<3}{1:>10.6f}     {2:>10.6f}\".format(number[ii],xilyot[ii],yilyot[ii]),file=open(outfile,\"a\"))"
   ]
  },
  {
   "cell_type": "code",
   "execution_count": 13,
   "id": "550fdd3b",
   "metadata": {},
   "outputs": [
    {
     "data": {
      "text/plain": [
       "Text(0, 0.5, 'YIdeal (arcsec)')"
      ]
     },
     "execution_count": 13,
     "metadata": {},
     "output_type": "execute_result"
    },
    {
     "data": {
      "image/png": "[encoded data removed]",
      "text/plain": [
       "<Figure size 432x288 with 1 Axes>"
      ]
     },
     "metadata": {
      "needs_background": "light"
     },
     "output_type": "display_data"
    }
   ],
   "source": [
    "# Plot results\n",
    "plt.plot(xboundlyot,yboundlyot)\n",
    "plt.plot(xilyot,yilyot,'s',label='Lyot')\n",
    "plt.legend()\n",
    "plt.title(outfile)\n",
    "plt.xlabel('XIdeal (arcsec)')\n",
    "plt.ylabel('YIdeal (arcsec)')"
   ]
  },
  {
   "cell_type": "code",
   "execution_count": null,
   "id": "40700a35",
   "metadata": {},
   "outputs": [],
   "source": []
  },
  {
   "cell_type": "markdown",
   "id": "c07cc6fb",
   "metadata": {},
   "source": [
    "## Convert 4QPM PFLAT ##"
   ]
  },
  {
   "cell_type": "code",
   "execution_count": 14,
   "id": "3a3acbc8",
   "metadata": {},
   "outputs": [],
   "source": [
    "infile = '1043-MIRI-056-4QM-PFLAT-dedicatedscanpattern.txt' # input file in pixel offsets"
   ]
  },
  {
   "cell_type": "code",
   "execution_count": 15,
   "id": "23736217",
   "metadata": {},
   "outputs": [],
   "source": [
    "# Read in desired offsets in pixels\n",
    "data=ascii.read(infile)\n",
    "num,dx,dy=data['Nr'].data,data['Xpix'].data,data['Ypix'].data\n",
    "num=num+1 # PRD likes to be 1-indexed"
   ]
  },
  {
   "cell_type": "code",
   "execution_count": 16,
   "id": "21706798",
   "metadata": {},
   "outputs": [
    {
     "name": "stdout",
     "output_type": "stream",
     "text": [
      "SIAF version:  PRDOPSSOC-039\n",
      "SIAF version:  PRDOPSSOC-039\n",
      "SIAF version:  PRDOPSSOC-039\n"
     ]
    }
   ],
   "source": [
    "# Define reference aperture that we'll use to construct the Ideal coordinates\n",
    "aper='MIRIM_CORON1065'\n",
    "# Bounding Box of real aperture\n",
    "xbound1065=[siaf[aper].XIdlVert1,siaf[aper].XIdlVert2,siaf[aper].XIdlVert3,siaf[aper].XIdlVert4,siaf[aper].XIdlVert1]\n",
    "ybound1065=[siaf[aper].YIdlVert1,siaf[aper].YIdlVert2,siaf[aper].YIdlVert3,siaf[aper].YIdlVert4,siaf[aper].YIdlVert1]\n",
    "# Get the detector coordinates of this aperture's reference point (origin of Ideal frame)\n",
    "xcen,ycen=siaf[aper].XDetRef,siaf[aper].YDetRef # 1-indexed\n",
    "# Convert desired pixel offsets to pixel values\n",
    "x,y=xcen+dx,ycen+dy\n",
    "# Convert to v2, v3 (inputs need to be 0-indexed, so subtract 1)\n",
    "v2,v3=mt.xytov2v3(x-1,y-1,'F770W')\n",
    "# Convert to Ideal\n",
    "xi1065,yi1065=mt.v2v3toIdeal(v2,v3,aper)\n",
    "\n",
    "aper='MIRIM_CORON1140'\n",
    "# Bounding Box of real aperture\n",
    "xbound1140=[siaf[aper].XIdlVert1,siaf[aper].XIdlVert2,siaf[aper].XIdlVert3,siaf[aper].XIdlVert4,siaf[aper].XIdlVert1]\n",
    "ybound1140=[siaf[aper].YIdlVert1,siaf[aper].YIdlVert2,siaf[aper].YIdlVert3,siaf[aper].YIdlVert4,siaf[aper].YIdlVert1]\n",
    "# Get the detector coordinates of this aperture's reference point (origin of Ideal frame)\n",
    "xcen,ycen=siaf[aper].XDetRef,siaf[aper].YDetRef # 1-indexed\n",
    "# Convert desired pixel offsets to pixel values\n",
    "x,y=xcen+dx,ycen+dy\n",
    "# Convert to v2, v3 (inputs need to be 0-indexed, so subtract 1)\n",
    "v2,v3=mt.xytov2v3(x-1,y-1,'F770W')\n",
    "# Convert to Ideal\n",
    "xi1140,yi1140=mt.v2v3toIdeal(v2,v3,aper)\n",
    "\n",
    "aper='MIRIM_CORON1550'\n",
    "# Bounding Box of real aperture\n",
    "xbound1550=[siaf[aper].XIdlVert1,siaf[aper].XIdlVert2,siaf[aper].XIdlVert3,siaf[aper].XIdlVert4,siaf[aper].XIdlVert1]\n",
    "ybound1550=[siaf[aper].YIdlVert1,siaf[aper].YIdlVert2,siaf[aper].YIdlVert3,siaf[aper].YIdlVert4,siaf[aper].YIdlVert1]\n",
    "# Get the detector coordinates of this aperture's reference point (origin of Ideal frame)\n",
    "xcen,ycen=siaf[aper].XDetRef,siaf[aper].YDetRef # 1-indexed\n",
    "# Convert desired pixel offsets to pixel values\n",
    "x,y=xcen+dx,ycen+dy\n",
    "# Convert to v2, v3 (inputs need to be 0-indexed, so subtract 1)\n",
    "v2,v3=mt.xytov2v3(x-1,y-1,'F770W')\n",
    "# Convert to Ideal\n",
    "xi1550,yi1550=mt.v2v3toIdeal(v2,v3,aper)"
   ]
  },
  {
   "cell_type": "code",
   "execution_count": 17,
   "id": "e6b35a32",
   "metadata": {},
   "outputs": [],
   "source": [
    "# Print results to output file\n",
    "\n",
    "print(\"\",file=open(outfile,\"a\"))\n",
    "print(\"PFLAT_CORON1065\",file=open(outfile,\"a\"))\n",
    "for ii in range(0,len(xi1065)):\n",
    "    print(\"{0:<3}{1:>10.6f}     {2:>10.6f}\".format(number[ii],xi1065[ii],yi1065[ii]),file=open(outfile,\"a\"))\n",
    "    \n",
    "print(\"\",file=open(outfile,\"a\"))\n",
    "print(\"PFLAT_CORON1140\",file=open(outfile,\"a\"))\n",
    "for ii in range(0,len(xi1140)):\n",
    "    print(\"{0:<3}{1:>10.6f}     {2:>10.6f}\".format(number[ii],xi1140[ii],yi1140[ii]),file=open(outfile,\"a\"))\n",
    "    \n",
    "print(\"\",file=open(outfile,\"a\"))\n",
    "print(\"PFLAT_CORON1550\",file=open(outfile,\"a\"))\n",
    "for ii in range(0,len(xi1550)):\n",
    "    print(\"{0:<3}{1:>10.6f}     {2:>10.6f}\".format(number[ii],xi1550[ii],yi1550[ii]),file=open(outfile,\"a\"))"
   ]
  },
  {
   "cell_type": "code",
   "execution_count": 18,
   "id": "f274a246",
   "metadata": {},
   "outputs": [
    {
     "data": {
      "text/plain": [
       "Text(0, 0.5, 'YIdeal (arcsec)')"
      ]
     },
     "execution_count": 18,
     "metadata": {},
     "output_type": "execute_result"
    },
    {
     "data": {
      "image/png": "[encoded data removed]",
      "text/plain": [
       "<Figure size 432x288 with 1 Axes>"
      ]
     },
     "metadata": {
      "needs_background": "light"
     },
     "output_type": "display_data"
    }
   ],
   "source": [
    "# Plot results\n",
    "plt.plot(xbound1065,ybound1065)\n",
    "plt.plot(xbound1140,ybound1140)\n",
    "plt.plot(xbound1550,ybound1550)\n",
    "\n",
    "plt.plot(xi1065,yi1065,'s',label='1065')\n",
    "plt.plot(xi1140,yi1140,'s',label='1140')\n",
    "plt.plot(xi1550,yi1550,'s',label='1550')\n",
    "plt.legend()\n",
    "plt.title(outfile)\n",
    "plt.xlabel('XIdeal (arcsec)')\n",
    "plt.ylabel('YIdeal (arcsec)')"
   ]
  },
  {
   "cell_type": "code",
   "execution_count": null,
   "id": "f6fb3bf1",
   "metadata": {},
   "outputs": [],
   "source": []
  },
  {
   "cell_type": "markdown",
   "id": "f28e2fe5",
   "metadata": {},
   "source": [
    "## Convert Lyot PFLAT ##"
   ]
  },
  {
   "cell_type": "code",
   "execution_count": 19,
   "id": "a0fe8ad9",
   "metadata": {},
   "outputs": [],
   "source": [
    "infile = '1043-MIRI-056-LYOT-PFLAT-dedicatedscanpattern.txt' # input file in pixel offsets"
   ]
  },
  {
   "cell_type": "code",
   "execution_count": 20,
   "id": "a4f5d2ad",
   "metadata": {},
   "outputs": [],
   "source": [
    "# Read in desired offsets in pixels\n",
    "data=ascii.read(infile)\n",
    "num,dx,dy=data['Nr'].data,data['Xpix'].data,data['Ypix'].data\n",
    "num=num+1 # PRD likes to be 1-indexed"
   ]
  },
  {
   "cell_type": "code",
   "execution_count": 21,
   "id": "fa83968a",
   "metadata": {},
   "outputs": [
    {
     "name": "stdout",
     "output_type": "stream",
     "text": [
      "SIAF version:  PRDOPSSOC-039\n"
     ]
    }
   ],
   "source": [
    "# Define reference aperture that we'll use to construct the Ideal coordinates\n",
    "aper='MIRIM_CORONLYOT'\n",
    "# Bounding Box of real aperture\n",
    "xboundlyot=[siaf[aper].XIdlVert1,siaf[aper].XIdlVert2,siaf[aper].XIdlVert3,siaf[aper].XIdlVert4,siaf[aper].XIdlVert1]\n",
    "yboundlyot=[siaf[aper].YIdlVert1,siaf[aper].YIdlVert2,siaf[aper].YIdlVert3,siaf[aper].YIdlVert4,siaf[aper].YIdlVert1]\n",
    "# Get the detector coordinates of this aperture's reference point (origin of Ideal frame)\n",
    "xcen,ycen=siaf[aper].XDetRef,siaf[aper].YDetRef # 1-indexed\n",
    "# Convert desired pixel offsets to pixel values\n",
    "x,y=xcen+dx,ycen+dy\n",
    "# Convert to v2, v3 (inputs need to be 0-indexed, so subtract 1)\n",
    "v2,v3=mt.xytov2v3(x-1,y-1,'F770W')\n",
    "# Convert to Ideal\n",
    "xilyot,yilyot=mt.v2v3toIdeal(v2,v3,aper)"
   ]
  },
  {
   "cell_type": "code",
   "execution_count": 22,
   "id": "903e4659",
   "metadata": {},
   "outputs": [],
   "source": [
    "# Print results to a file\n",
    "print(\"\",file=open(outfile,\"a\"))\n",
    "print(\"PFLAT_CORONLYOT\",file=open(outfile,\"a\"))\n",
    "for ii in range(0,len(xilyot)):\n",
    "    print(\"{0:<3}{1:>10.6f}     {2:>10.6f}\".format(number[ii],xilyot[ii],yilyot[ii]),file=open(outfile,\"a\"))"
   ]
  },
  {
   "cell_type": "code",
   "execution_count": 23,
   "id": "3fd644a0",
   "metadata": {},
   "outputs": [
    {
     "data": {
      "text/plain": [
       "Text(0, 0.5, 'YIdeal (arcsec)')"
      ]
     },
     "execution_count": 23,
     "metadata": {},
     "output_type": "execute_result"
    },
    {
     "data": {
      "image/png": "[encoded data removed]",
      "text/plain": [
       "<Figure size 432x288 with 1 Axes>"
      ]
     },
     "metadata": {
      "needs_background": "light"
     },
     "output_type": "display_data"
    }
   ],
   "source": [
    "# Plot results\n",
    "plt.plot(xboundlyot,yboundlyot)\n",
    "plt.plot(xilyot,yilyot,'s',label='Lyot')\n",
    "plt.legend()\n",
    "plt.title(outfile)\n",
    "plt.xlabel('XIdeal (arcsec)')\n",
    "plt.ylabel('YIdeal (arcsec)')"
   ]
  },
  {
   "cell_type": "code",
   "execution_count": null,
   "id": "2a5be271",
   "metadata": {},
   "outputs": [],
   "source": []
  }
 ],
 "metadata": {
  "kernelspec": {
   "display_name": "Python 3 (ipykernel)",
   "language": "python",
   "name": "python3"
  },
  "language_info": {
   "codemirror_mode": {
    "name": "ipython",
    "version": 3
   },
   "file_extension": ".py",
   "mimetype": "text/x-python",
   "name": "python",
   "nbconvert_exporter": "python",
   "pygments_lexer": "ipython3",
   "version": "3.9.6"
  }
 },
 "nbformat": 4,
 "nbformat_minor": 5
}
