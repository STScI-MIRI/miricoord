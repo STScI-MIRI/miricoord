{
 "cells": [
  {
   "cell_type": "code",
   "execution_count": 1,
   "id": "44fcf031",
   "metadata": {},
   "outputs": [],
   "source": [
    "from astropy.io import ascii\n",
    "import numpy as np\n",
    "import matplotlib.pyplot as plt\n",
    "\n",
    "import pysiaf\n",
    "import miricoord.imager.mirim_tools as mt"
   ]
  },
  {
   "cell_type": "code",
   "execution_count": 2,
   "id": "b504d938",
   "metadata": {},
   "outputs": [
    {
     "name": "stdout",
     "output_type": "stream",
     "text": [
      "SIAF version:  PRDOPSSOC-039\n",
      "miricoord version:  cdp7\n"
     ]
    }
   ],
   "source": [
    "siaf=pysiaf.Siaf('MIRI')\n",
    "print('SIAF version: ',pysiaf.JWST_PRD_VERSION)\n",
    "print('miricoord version: ',mt.version())"
   ]
  },
  {
   "cell_type": "code",
   "execution_count": null,
   "id": "ecc7071a",
   "metadata": {},
   "outputs": [],
   "source": []
  },
  {
   "cell_type": "markdown",
   "id": "a8bb551f",
   "metadata": {},
   "source": [
    "## Convert 4QPM LFLAT ##"
   ]
  },
  {
   "cell_type": "code",
   "execution_count": 3,
   "id": "1b5de535",
   "metadata": {},
   "outputs": [],
   "source": [
    "infile = '1043-MIRI-056-4QM-LFLAT-dedicatedscanpattern.txt' # input file in pixel offsets\n",
    "outfile = '4QPM-LFLAT.txt' # output file in Ideal coordinates"
   ]
  },
  {
   "cell_type": "code",
   "execution_count": 4,
   "id": "5cb11edc",
   "metadata": {},
   "outputs": [],
   "source": [
    "# Read in desired offsets in pixels\n",
    "data=ascii.read(infile)\n",
    "number,dx,dy=data['Nr'].data,data['Xpix'].data,data['Ypix'].data\n",
    "number=number+1 # PRD likes to be 1-indexed"
   ]
  },
  {
   "cell_type": "code",
   "execution_count": 5,
   "id": "ee1ef6d8",
   "metadata": {},
   "outputs": [
    {
     "name": "stdout",
     "output_type": "stream",
     "text": [
      "SIAF version:  PRDOPSSOC-039\n"
     ]
    }
   ],
   "source": [
    "# Define reference aperture that we'll use to construct the Ideal coordinates\n",
    "aper='MIRIM_CORON1140'\n",
    "# Get the detector coordinates of this aperture's reference point (origin of Ideal frame)\n",
    "xcen,ycen=siaf[aper].XDetRef,siaf[aper].YDetRef # 1-indexed\n",
    "# Convert desired pixel offsets to pixel values\n",
    "x,y=xcen+dx,ycen+dy\n",
    "# Convert to v2, v3 (inputs need to be 0-indexed, so subtract 1)\n",
    "v2,v3=mt.xytov2v3(x-1,y-1,'F770W')\n",
    "# Convert to Ideal\n",
    "xi,yi=mt.v2v3toIdeal(v2,v3,aper)"
   ]
  },
  {
   "cell_type": "code",
   "execution_count": 6,
   "id": "112f532f",
   "metadata": {},
   "outputs": [],
   "source": [
    "# Print results to a file\n",
    "print(\"{0:<3}{1:>10.6f}     {2:>10.6f}\".format(number[0],xi[0],yi[0]),file=open(outfile,\"w\"))\n",
    "for ii in range(1,len(xi)):\n",
    "    print(\"{0:<3}{1:>10.6f}     {2:>10.6f}\".format(number[ii],xi[ii],yi[ii]),file=open(outfile,\"a\"))"
   ]
  },
  {
   "cell_type": "code",
   "execution_count": 7,
   "id": "b3fbbcdc",
   "metadata": {},
   "outputs": [
    {
     "name": "stdout",
     "output_type": "stream",
     "text": [
      "1   -0.000000       0.000000\n",
      "2    1.539787      -1.659032\n",
      "3    2.444246       2.990636\n",
      "4   -2.861462       2.321947\n",
      "5   -3.057211       7.193950\n",
      "6   -8.569351       8.623290\n",
      "7   -8.602654       2.758482\n",
      "8   -9.959755      -3.427717\n",
      "9   -8.656873      -8.607919\n",
      "10  -6.319314      -4.641638\n",
      "11   6.597329      -9.175415\n",
      "12   8.589837      -8.625857\n",
      "13   9.714696      -2.877593\n",
      "14   9.307817       6.321733\n",
      "15   8.654999       8.651504\n",
      "16   5.672909       8.537166\n"
     ]
    }
   ],
   "source": [
    "# Print results to screen\n",
    "print(\"{0:<3}{1:>10.6f}     {2:>10.6f}\".format(number[0],xi[0],yi[0]))\n",
    "for ii in range(1,len(xi)):\n",
    "    print(\"{0:<3}{1:>10.6f}     {2:>10.6f}\".format(number[ii],xi[ii],yi[ii]))"
   ]
  },
  {
   "cell_type": "code",
   "execution_count": 8,
   "id": "dcc85a0d",
   "metadata": {},
   "outputs": [
    {
     "data": {
      "text/plain": [
       "Text(0, 0.5, 'YIdeal (arcsec)')"
      ]
     },
     "execution_count": 8,
     "metadata": {},
     "output_type": "execute_result"
    },
    {
     "data": {
      "image/png": "[encoded data removed]",
      "text/plain": [
       "<Figure size 432x288 with 1 Axes>"
      ]
     },
     "metadata": {
      "needs_background": "light"
     },
     "output_type": "display_data"
    }
   ],
   "source": [
    "# Plot results\n",
    "plt.plot(xi,yi,'s')\n",
    "plt.title(outfile)\n",
    "plt.xlabel('XIdeal (arcsec)')\n",
    "plt.ylabel('YIdeal (arcsec)')"
   ]
  },
  {
   "cell_type": "markdown",
   "id": "58561fa3",
   "metadata": {},
   "source": [
    "### QA Check: Compare to pixel shifts in different 4QPM ###"
   ]
  },
  {
   "cell_type": "code",
   "execution_count": 9,
   "id": "69ad2caa",
   "metadata": {},
   "outputs": [
    {
     "name": "stdout",
     "output_type": "stream",
     "text": [
      "SIAF version:  PRDOPSSOC-039\n",
      "MIRIM_CORON1065\n",
      "SIAF version:  PRDOPSSOC-039\n",
      "MIRIM_CORON1140\n",
      "SIAF version:  PRDOPSSOC-039\n",
      "MIRIM_CORON1550\n"
     ]
    }
   ],
   "source": [
    "# Convert back to pixel shifts\n",
    "aper='MIRIM_CORON1065'\n",
    "v2,v3=mt.Idealtov2v3(xi,yi,aper)\n",
    "xout,yout=mt.v2v3toxy(v2,v3,'F770W')\n",
    "dxout1065,dyout1065=xout-(siaf[aper].XDetRef-1),yout-(siaf[aper].YDetRef-1)\n",
    "\n",
    "aper='MIRIM_CORON1140'\n",
    "v2,v3=mt.Idealtov2v3(xi,yi,aper)\n",
    "xout,yout=mt.v2v3toxy(v2,v3,'F770W')\n",
    "dxout1140,dyout1140=xout-(siaf[aper].XDetRef-1),yout-(siaf[aper].YDetRef-1)\n",
    "\n",
    "aper='MIRIM_CORON1550'\n",
    "v2,v3=mt.Idealtov2v3(xi,yi,aper)\n",
    "xout,yout=mt.v2v3toxy(v2,v3,'F770W')\n",
    "dxout1550,dyout1550=xout-(siaf[aper].XDetRef-1),yout-(siaf[aper].YDetRef-1)"
   ]
  },
  {
   "cell_type": "code",
   "execution_count": 10,
   "id": "16817175",
   "metadata": {},
   "outputs": [
    {
     "data": {
      "text/plain": [
       "<matplotlib.legend.Legend at 0x7ff7386f9d90>"
      ]
     },
     "execution_count": 10,
     "metadata": {},
     "output_type": "execute_result"
    },
    {
     "data": {
      "image/png": "[encoded data removed]",
      "text/plain": [
       "<Figure size 432x288 with 1 Axes>"
      ]
     },
     "metadata": {
      "needs_background": "light"
     },
     "output_type": "display_data"
    }
   ],
   "source": [
    "# Plot differences in pixel shifts from what was originally specified\n",
    "plt.plot(dxout1065-dx,dyout1065-dy,'s',label='1065')\n",
    "plt.plot(dxout1140-dx,dyout1140-dy,'s',label='1140')\n",
    "plt.plot(dxout1550-dx,dyout1550-dy,'s',label='1550')\n",
    "plt.xlabel(r'$\\Delta$ X shift')\n",
    "plt.ylabel(r'$\\Delta$ Y shift')\n",
    "plt.legend()"
   ]
  },
  {
   "cell_type": "code",
   "execution_count": null,
   "id": "99506a00",
   "metadata": {},
   "outputs": [],
   "source": []
  },
  {
   "cell_type": "markdown",
   "id": "c07cc6fb",
   "metadata": {},
   "source": [
    "## Convert 4QPM PFLAT ##"
   ]
  },
  {
   "cell_type": "code",
   "execution_count": 11,
   "id": "3a3acbc8",
   "metadata": {},
   "outputs": [],
   "source": [
    "infile = '1043-MIRI-056-4QM-PFLAT-dedicatedscanpattern.txt' # input file in pixel offsets\n",
    "outfile = '4QPM-PFLAT.txt' # output file in Ideal coordinates"
   ]
  },
  {
   "cell_type": "code",
   "execution_count": 12,
   "id": "23736217",
   "metadata": {},
   "outputs": [],
   "source": [
    "# Read in desired offsets in pixels\n",
    "data=ascii.read(infile)\n",
    "num,dx,dy=data['Nr'].data,data['Xpix'].data,data['Ypix'].data\n",
    "num=num+1 # PRD likes to be 1-indexed"
   ]
  },
  {
   "cell_type": "code",
   "execution_count": 13,
   "id": "21706798",
   "metadata": {},
   "outputs": [
    {
     "name": "stdout",
     "output_type": "stream",
     "text": [
      "SIAF version:  PRDOPSSOC-039\n"
     ]
    }
   ],
   "source": [
    "# Define reference aperture that we'll use to construct the Ideal coordinates\n",
    "aper='MIRIM_CORON1140'\n",
    "# Get the detector coordinates of this aperture's reference point (origin of Ideal frame)\n",
    "xcen,ycen=siaf[aper].XDetRef,siaf[aper].YDetRef # 1-indexed\n",
    "# Convert desired pixel offsets to pixel values\n",
    "x,y=xcen+dx,ycen+dy\n",
    "# Convert to v2, v3 (inputs need to be 0-indexed, so subtract 1)\n",
    "v2,v3=mt.xytov2v3(x-1,y-1,'F770W')\n",
    "# Convert to Ideal\n",
    "xi,yi=mt.v2v3toIdeal(v2,v3,aper)"
   ]
  },
  {
   "cell_type": "code",
   "execution_count": 14,
   "id": "e6b35a32",
   "metadata": {},
   "outputs": [],
   "source": [
    "# Print results to a file\n",
    "print(\"{0:<3}{1:>10.6f}     {2:>10.6f}\".format(number[0],xi[0],yi[0]),file=open(outfile,\"w\"))\n",
    "for ii in range(1,len(xi)):\n",
    "    print(\"{0:<3}{1:>10.6f}     {2:>10.6f}\".format(number[ii],xi[ii],yi[ii]),file=open(outfile,\"a\"))"
   ]
  },
  {
   "cell_type": "code",
   "execution_count": 15,
   "id": "a3f27716",
   "metadata": {},
   "outputs": [
    {
     "name": "stdout",
     "output_type": "stream",
     "text": [
      "1   -0.000000       0.000000\n",
      "2    1.319705      -1.437831\n",
      "3    2.110795       2.547329\n",
      "4   -2.421229       1.990321\n",
      "5   -2.621388       6.086816\n",
      "6   -7.252303       7.297281\n",
      "7   -7.279690       2.317630\n",
      "8   -8.410447      -2.875857\n",
      "9   -7.325307      -7.287464\n",
      "10  -5.321856      -3.979629\n",
      "11   5.606786      -7.739346\n",
      "12   7.267004      -7.299184\n",
      "13   8.279098      -2.434298\n",
      "14   7.867615       5.322340\n",
      "15   7.323931       7.318605\n",
      "16   4.783271       7.204987\n"
     ]
    }
   ],
   "source": [
    "# Print results to screen\n",
    "print(\"{0:<3}{1:>10.6f}     {2:>10.6f}\".format(number[0],xi[0],yi[0]))\n",
    "for ii in range(1,len(xi)):\n",
    "    print(\"{0:<3}{1:>10.6f}     {2:>10.6f}\".format(number[ii],xi[ii],yi[ii]))"
   ]
  },
  {
   "cell_type": "code",
   "execution_count": 16,
   "id": "f274a246",
   "metadata": {},
   "outputs": [
    {
     "data": {
      "text/plain": [
       "Text(0, 0.5, 'YIdeal (arcsec)')"
      ]
     },
     "execution_count": 16,
     "metadata": {},
     "output_type": "execute_result"
    },
    {
     "data": {
      "image/png": "[encoded data removed]",
      "text/plain": [
       "<Figure size 432x288 with 1 Axes>"
      ]
     },
     "metadata": {
      "needs_background": "light"
     },
     "output_type": "display_data"
    }
   ],
   "source": [
    "# Plot results\n",
    "plt.plot(xi,yi,'s')\n",
    "plt.title(outfile)\n",
    "plt.xlabel('XIdeal (arcsec)')\n",
    "plt.ylabel('YIdeal (arcsec)')"
   ]
  },
  {
   "cell_type": "code",
   "execution_count": null,
   "id": "f6fb3bf1",
   "metadata": {},
   "outputs": [],
   "source": []
  },
  {
   "cell_type": "markdown",
   "id": "d36cc68f",
   "metadata": {},
   "source": [
    "## Convert Lyot LFLAT ##"
   ]
  },
  {
   "cell_type": "code",
   "execution_count": 17,
   "id": "b9de397e",
   "metadata": {},
   "outputs": [],
   "source": [
    "infile = '1043-MIRI-056-LYOT-LFLAT-dedicatedscanpattern.txt' # input file in pixel offsets\n",
    "outfile = 'LYOT-LFLAT.txt' # output file in Ideal coordinates"
   ]
  },
  {
   "cell_type": "code",
   "execution_count": 18,
   "id": "9f3784e8",
   "metadata": {},
   "outputs": [],
   "source": [
    "# Read in desired offsets in pixels\n",
    "data=ascii.read(infile)\n",
    "num,dx,dy=data['Nr'].data,data['Xpix'].data,data['Ypix'].data\n",
    "num=num+1 # PRD likes to be 1-indexed"
   ]
  },
  {
   "cell_type": "code",
   "execution_count": 19,
   "id": "5296372a",
   "metadata": {},
   "outputs": [
    {
     "name": "stdout",
     "output_type": "stream",
     "text": [
      "SIAF version:  PRDOPSSOC-039\n"
     ]
    }
   ],
   "source": [
    "# Define reference aperture that we'll use to construct the Ideal coordinates\n",
    "aper='MIRIM_CORONLYOT'\n",
    "# Get the detector coordinates of this aperture's reference point (origin of Ideal frame)\n",
    "xcen,ycen=siaf[aper].XDetRef,siaf[aper].YDetRef # 1-indexed\n",
    "# Convert desired pixel offsets to pixel values\n",
    "x,y=xcen+dx,ycen+dy\n",
    "# Convert to v2, v3 (inputs need to be 0-indexed, so subtract 1)\n",
    "v2,v3=mt.xytov2v3(x-1,y-1,'F770W')\n",
    "# Convert to Ideal\n",
    "xi,yi=mt.v2v3toIdeal(v2,v3,aper)"
   ]
  },
  {
   "cell_type": "code",
   "execution_count": 20,
   "id": "16b26f11",
   "metadata": {},
   "outputs": [],
   "source": [
    "# Print results to a file\n",
    "print(\"{0:<3}{1:>10.6f}     {2:>10.6f}\".format(number[0],xi[0],yi[0]),file=open(outfile,\"w\"))\n",
    "for ii in range(1,len(xi)):\n",
    "    print(\"{0:<3}{1:>10.6f}     {2:>10.6f}\".format(number[ii],xi[ii],yi[ii]),file=open(outfile,\"a\"))"
   ]
  },
  {
   "cell_type": "code",
   "execution_count": 21,
   "id": "eea45925",
   "metadata": {},
   "outputs": [
    {
     "name": "stdout",
     "output_type": "stream",
     "text": [
      "1    0.000000      -0.000000\n",
      "2    1.527488      -1.646378\n",
      "3    2.430251       2.988223\n",
      "4   -2.840251       2.299032\n",
      "5   -4.558035       8.784708\n",
      "6  -10.580645      10.615876\n",
      "7  -10.182215       4.236012\n",
      "8  -11.564585      -5.143308\n",
      "9  -10.725485     -10.769191\n",
      "10  -7.836590      -6.333512\n",
      "11   8.288767     -10.784146\n",
      "12  10.596551     -10.665586\n",
      "13  11.392942      -4.364149\n",
      "14  10.895695       7.979709\n",
      "15  10.687321      10.729097\n",
      "16   5.637318       8.508455\n"
     ]
    }
   ],
   "source": [
    "# Print results to screen\n",
    "print(\"{0:<3}{1:>10.6f}     {2:>10.6f}\".format(number[0],xi[0],yi[0]))\n",
    "for ii in range(1,len(xi)):\n",
    "    print(\"{0:<3}{1:>10.6f}     {2:>10.6f}\".format(number[ii],xi[ii],yi[ii]))"
   ]
  },
  {
   "cell_type": "code",
   "execution_count": 22,
   "id": "9e5d9c85",
   "metadata": {},
   "outputs": [
    {
     "data": {
      "text/plain": [
       "Text(0, 0.5, 'YIdeal (arcsec)')"
      ]
     },
     "execution_count": 22,
     "metadata": {},
     "output_type": "execute_result"
    },
    {
     "data": {
      "image/png": "[encoded data removed]",
      "text/plain": [
       "<Figure size 432x288 with 1 Axes>"
      ]
     },
     "metadata": {
      "needs_background": "light"
     },
     "output_type": "display_data"
    }
   ],
   "source": [
    "# Plot results\n",
    "plt.plot(xi,yi,'s')\n",
    "plt.title(outfile)\n",
    "plt.xlabel('XIdeal (arcsec)')\n",
    "plt.ylabel('YIdeal (arcsec)')"
   ]
  },
  {
   "cell_type": "code",
   "execution_count": null,
   "id": "c0159f1e",
   "metadata": {},
   "outputs": [],
   "source": []
  },
  {
   "cell_type": "markdown",
   "id": "f28e2fe5",
   "metadata": {},
   "source": [
    "## Convert Lyot PFLAT ##"
   ]
  },
  {
   "cell_type": "code",
   "execution_count": 23,
   "id": "a0fe8ad9",
   "metadata": {},
   "outputs": [],
   "source": [
    "infile = '1043-MIRI-056-LYOT-PFLAT-dedicatedscanpattern.txt' # input file in pixel offsets\n",
    "outfile = 'LYOT-PFLAT.txt' # output file in Ideal coordinates"
   ]
  },
  {
   "cell_type": "code",
   "execution_count": 24,
   "id": "a4f5d2ad",
   "metadata": {},
   "outputs": [],
   "source": [
    "# Read in desired offsets in pixels\n",
    "data=ascii.read(infile)\n",
    "num,dx,dy=data['Nr'].data,data['Xpix'].data,data['Ypix'].data\n",
    "num=num+1 # PRD likes to be 1-indexed"
   ]
  },
  {
   "cell_type": "code",
   "execution_count": 25,
   "id": "fa83968a",
   "metadata": {},
   "outputs": [
    {
     "name": "stdout",
     "output_type": "stream",
     "text": [
      "SIAF version:  PRDOPSSOC-039\n"
     ]
    }
   ],
   "source": [
    "# Define reference aperture that we'll use to construct the Ideal coordinates\n",
    "aper='MIRIM_CORONLYOT'\n",
    "# Get the detector coordinates of this aperture's reference point (origin of Ideal frame)\n",
    "xcen,ycen=siaf[aper].XDetRef,siaf[aper].YDetRef # 1-indexed\n",
    "# Convert desired pixel offsets to pixel values\n",
    "x,y=xcen+dx,ycen+dy\n",
    "# Convert to v2, v3 (inputs need to be 0-indexed, so subtract 1)\n",
    "v2,v3=mt.xytov2v3(x-1,y-1,'F770W')\n",
    "# Convert to Ideal\n",
    "xi,yi=mt.v2v3toIdeal(v2,v3,aper)"
   ]
  },
  {
   "cell_type": "code",
   "execution_count": 26,
   "id": "903e4659",
   "metadata": {},
   "outputs": [],
   "source": [
    "# Print results to a file\n",
    "print(\"{0:<3}{1:>10.6f}     {2:>10.6f}\".format(number[0],xi[0],yi[0]),file=open(outfile,\"w\"))\n",
    "for ii in range(1,len(xi)):\n",
    "    print(\"{0:<3}{1:>10.6f}     {2:>10.6f}\".format(number[ii],xi[ii],yi[ii]),file=open(outfile,\"a\"))"
   ]
  },
  {
   "cell_type": "code",
   "execution_count": 27,
   "id": "fb6c61b8",
   "metadata": {},
   "outputs": [
    {
     "name": "stdout",
     "output_type": "stream",
     "text": [
      "1    0.000000      -0.000000\n",
      "2    1.309164      -1.426867\n",
      "3    2.098812       2.545848\n",
      "4   -2.403191       1.970944\n",
      "5   -3.907436       7.468234\n",
      "6   -8.944905       8.977024\n",
      "7   -8.649547       3.585389\n",
      "8   -9.800915      -4.359321\n",
      "9   -9.064565      -9.101744\n",
      "10  -6.621280      -5.332646\n",
      "11   6.978528      -9.130659\n",
      "12   8.956354      -9.012704\n",
      "13   9.639622      -3.707871\n",
      "14   9.246740       6.762802\n",
      "15   9.037210       9.072936\n",
      "16   4.754176       7.183893\n"
     ]
    }
   ],
   "source": [
    "# Print results to screen\n",
    "print(\"{0:<3}{1:>10.6f}     {2:>10.6f}\".format(number[0],xi[0],yi[0]))\n",
    "for ii in range(1,len(xi)):\n",
    "    print(\"{0:<3}{1:>10.6f}     {2:>10.6f}\".format(number[ii],xi[ii],yi[ii]))"
   ]
  },
  {
   "cell_type": "code",
   "execution_count": 28,
   "id": "3fd644a0",
   "metadata": {},
   "outputs": [
    {
     "data": {
      "text/plain": [
       "Text(0, 0.5, 'YIdeal (arcsec)')"
      ]
     },
     "execution_count": 28,
     "metadata": {},
     "output_type": "execute_result"
    },
    {
     "data": {
      "image/png": "[encoded data removed]",
      "text/plain": [
       "<Figure size 432x288 with 1 Axes>"
      ]
     },
     "metadata": {
      "needs_background": "light"
     },
     "output_type": "display_data"
    }
   ],
   "source": [
    "# Plot results\n",
    "plt.plot(xi,yi,'s')\n",
    "plt.title(outfile)\n",
    "plt.xlabel('XIdeal (arcsec)')\n",
    "plt.ylabel('YIdeal (arcsec)')"
   ]
  },
  {
   "cell_type": "code",
   "execution_count": null,
   "id": "2a5be271",
   "metadata": {},
   "outputs": [],
   "source": []
  }
 ],
 "metadata": {
  "kernelspec": {
   "display_name": "Python 3 (ipykernel)",
   "language": "python",
   "name": "python3"
  },
  "language_info": {
   "codemirror_mode": {
    "name": "ipython",
    "version": 3
   },
   "file_extension": ".py",
   "mimetype": "text/x-python",
   "name": "python",
   "nbconvert_exporter": "python",
   "pygments_lexer": "ipython3",
   "version": "3.9.6"
  }
 },
 "nbformat": 4,
 "nbformat_minor": 5
}
