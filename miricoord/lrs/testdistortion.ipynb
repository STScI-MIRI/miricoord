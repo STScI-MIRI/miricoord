{
 "cells": [
  {
   "cell_type": "markdown",
   "metadata": {},
   "source": [
    "## Test the MIRI LRS distortion solution (standalone and JWST pipeline versions)  ##"
   ]
  },
  {
   "cell_type": "markdown",
   "metadata": {},
   "source": [
    "### Set basic environment stuff ###"
   ]
  },
  {
   "cell_type": "code",
   "execution_count": 1,
   "metadata": {},
   "outputs": [],
   "source": [
    "import os as os\n",
    "import numpy as np\n",
    "from numpy.testing import assert_allclose\n",
    "import pdb as pdb\n",
    "import pysiaf\n",
    "\n",
    "siaf = pysiaf.Siaf('MIRI')"
   ]
  },
  {
   "cell_type": "markdown",
   "metadata": {},
   "source": [
    "Import the MIRI coordinates code from https://github.com/STScI-MIRI/miricoord and ensure that it is on the PYTHONPATH.  Also ensure that the local data directory environmental variable is set:"
   ]
  },
  {
   "cell_type": "markdown",
   "metadata": {},
   "source": [
    "setenv MIRICOORD_DATA_DIR /YourLocalPathToData/ (this is where io will happen)"
   ]
  },
  {
   "cell_type": "code",
   "execution_count": 2,
   "metadata": {},
   "outputs": [],
   "source": [
    "data_dir=os.path.expandvars('$MIRICOORD_DATA_DIR')"
   ]
  },
  {
   "cell_type": "markdown",
   "metadata": {},
   "source": [
    "### First we'll test the standalone distortion solution (lrs_tools) ###"
   ]
  },
  {
   "cell_type": "code",
   "execution_count": 3,
   "metadata": {},
   "outputs": [],
   "source": [
    "import miricoord.miricoord.lrs.lrs_tools as lt"
   ]
  },
  {
   "cell_type": "code",
   "execution_count": 4,
   "metadata": {},
   "outputs": [],
   "source": [
    "# If we wanted to set to the CDP-7beta3 version (i.e., use the cdp7b3 spatial distortion) we could say\n",
    "# lt.set_toolversion('cdp7beta3')\n",
    "# But we won't, since we now want to use CDP-7 as the default"
   ]
  },
  {
   "cell_type": "code",
   "execution_count": 5,
   "metadata": {},
   "outputs": [
    {
     "data": {
      "text/plain": [
       "(-378.8320735948545, -344.944543495699, array(8.4104062))"
      ]
     },
     "execution_count": 5,
     "metadata": {},
     "output_type": "execute_result"
    }
   ],
   "source": [
    "# Slitless prism reference point is 37.5, 300.0 in the 0-indexed subarray frame\n",
    "x,y=37.5,300.\n",
    "v2,v3,lam=lt.xytov2v3lam(x,y,'slitless')\n",
    "v2,v3,lam"
   ]
  },
  {
   "cell_type": "markdown",
   "metadata": {},
   "source": []
  },
  {
   "cell_type": "code",
   "execution_count": 6,
   "metadata": {},
   "outputs": [
    {
     "data": {
      "text/plain": [
       "(-378.267807, -344.638097)"
      ]
     },
     "execution_count": 6,
     "metadata": {},
     "output_type": "execute_result"
    }
   ],
   "source": [
    "# Compare the location to SIAF\n",
    "siaf['MIRIM_SLITLESSPRISM'].V2Ref,siaf['MIRIM_SLITLESSPRISM'].V3Ref"
   ]
  },
  {
   "cell_type": "markdown",
   "metadata": {},
   "source": [
    "(Right now this disagrees since the SIAF hasn't been updated to CDP-7 yet)"
   ]
  },
  {
   "cell_type": "code",
   "execution_count": 7,
   "metadata": {},
   "outputs": [
    {
     "data": {
      "text/plain": [
       "(-415.06904663621884, -400.57592043385023, array(8.4104062))"
      ]
     },
     "execution_count": 7,
     "metadata": {},
     "output_type": "execute_result"
    }
   ],
   "source": [
    "# Slit reference point is 325.13, 299.7 in the 0-indexed full array\n",
    "x,y=325.13, 299.7\n",
    "v2,v3,lam=lt.xytov2v3lam(x,y,'slit')\n",
    "v2,v3,lam"
   ]
  },
  {
   "cell_type": "code",
   "execution_count": 8,
   "metadata": {},
   "outputs": [
    {
     "data": {
      "text/plain": [
       "(-414.33, -400.69)"
      ]
     },
     "execution_count": 8,
     "metadata": {},
     "output_type": "execute_result"
    }
   ],
   "source": [
    "# Compare the location to SIAF\n",
    "siaf['MIRIM_SLIT'].V2Ref,siaf['MIRIM_SLIT'].V3Ref"
   ]
  },
  {
   "cell_type": "markdown",
   "metadata": {},
   "source": [
    "(Right now this disagrees since the SIAF hasn't been updated to CDP-7 yet)"
   ]
  },
  {
   "cell_type": "code",
   "execution_count": 9,
   "metadata": {},
   "outputs": [],
   "source": [
    "# Run a full set of tests on both slit and slitless locations\n",
    "lt.testtransform()"
   ]
  },
  {
   "cell_type": "code",
   "execution_count": null,
   "metadata": {},
   "outputs": [],
   "source": []
  },
  {
   "cell_type": "code",
   "execution_count": null,
   "metadata": {},
   "outputs": [],
   "source": []
  },
  {
   "cell_type": "markdown",
   "metadata": {},
   "source": [
    "### Now we'll test the pipeline distortion solution (lrs_pipetools) ###"
   ]
  },
  {
   "cell_type": "code",
   "execution_count": 10,
   "metadata": {},
   "outputs": [
    {
     "data": {
      "text/plain": [
       "'cdp7'"
      ]
     },
     "execution_count": 10,
     "metadata": {},
     "output_type": "execute_result"
    }
   ],
   "source": [
    "# Note that this only exists for CDP-7, not CDP7-beta3\n",
    "import miricoord.miricoord.lrs.lrs_pipetools as lpt\n",
    "lpt.version()"
   ]
  },
  {
   "cell_type": "markdown",
   "metadata": {},
   "source": [
    "# Slit reference point is 325.13, 299.7 in the 0-indexed full array\n",
    "x,y=325.13, 299.7\n",
    "v2,v3,lam=lpt.xytov2v3lam(x,y,'slit')\n",
    "v2,v3,lam"
   ]
  },
  {
   "cell_type": "code",
   "execution_count": 11,
   "metadata": {},
   "outputs": [
    {
     "data": {
      "text/plain": [
       "(325.1311360515483, 299.7010034434561)"
      ]
     },
     "execution_count": 11,
     "metadata": {},
     "output_type": "execute_result"
    }
   ],
   "source": [
    "# Test an inverse transform\n",
    "xnew,ynew=lpt.v2v3lamtoxy(v2,v3,lam,'slit')\n",
    "xnew,ynew"
   ]
  },
  {
   "cell_type": "code",
   "execution_count": 12,
   "metadata": {},
   "outputs": [
    {
     "data": {
      "text/plain": [
       "(-378.8320736785982, -344.9445433053003, 8.410391308079335)"
      ]
     },
     "execution_count": 12,
     "metadata": {},
     "output_type": "execute_result"
    }
   ],
   "source": [
    "# Slitless prism reference point is 37.5, 300.0 in the 0-indexed subarray frame\n",
    "x,y=37.5,300.\n",
    "v2,v3,lam=lpt.xytov2v3lam(x,y,'slitless')\n",
    "v2,v3,lam"
   ]
  },
  {
   "cell_type": "code",
   "execution_count": 13,
   "metadata": {},
   "outputs": [],
   "source": [
    "# Test all forward/backward transforms for both slit and slitless\n",
    "lpt.testtransform()"
   ]
  },
  {
   "cell_type": "code",
   "execution_count": null,
   "metadata": {},
   "outputs": [],
   "source": []
  },
  {
   "cell_type": "markdown",
   "metadata": {},
   "source": [
    "### Use simulated files to test the pipeline distortion and bounding boxes"
   ]
  },
  {
   "cell_type": "code",
   "execution_count": 14,
   "metadata": {},
   "outputs": [],
   "source": [
    "from jwst import datamodels"
   ]
  },
  {
   "cell_type": "code",
   "execution_count": 15,
   "metadata": {},
   "outputs": [],
   "source": [
    "data_dir=os.path.expandvars('$MIRICOORD_DATA_DIR')\n",
    "slitfile=data_dir+'cdp7test/lrsslit_exp1_assign_wcs.fits'\n",
    "slitlessfile=data_dir+'cdp7test/lrsslitless_exp1_assign_wcs.fits'"
   ]
  },
  {
   "cell_type": "code",
   "execution_count": 16,
   "metadata": {},
   "outputs": [
    {
     "data": {
      "text/plain": [
       "(-415.0690466121227, -400.575920398547, 8.410391308079335)"
      ]
     },
     "execution_count": 16,
     "metadata": {},
     "output_type": "execute_result"
    }
   ],
   "source": [
    "# Slit\n",
    "im=datamodels.ImageModel(slitfile)\n",
    "x,y=325.13,299.7\n",
    "v2,v3,lam=im.meta.wcs.transform(\"detector\", \"v2v3\", x,y)\n",
    "v2,v3,lam"
   ]
  },
  {
   "cell_type": "code",
   "execution_count": 17,
   "metadata": {},
   "outputs": [
    {
     "data": {
      "text/plain": [
       "((302.5, 346.5), (6.5, 396.5))"
      ]
     },
     "execution_count": 17,
     "metadata": {},
     "output_type": "execute_result"
    }
   ],
   "source": [
    "# Slit bounding box\n",
    "im.meta.wcs.bounding_box"
   ]
  },
  {
   "cell_type": "code",
   "execution_count": 18,
   "metadata": {},
   "outputs": [
    {
     "data": {
      "text/plain": [
       "(-412.8640711137313, -400.7593300860553, 8.41295143734446)"
      ]
     },
     "execution_count": 18,
     "metadata": {},
     "output_type": "execute_result"
    }
   ],
   "source": [
    "# This should be different v2, and nearly same v3,lam\n",
    "x,y=305.13,299.7\n",
    "v2,v3,lam=im.meta.wcs.transform(\"detector\", \"v2v3\", x,y)\n",
    "v2,v3,lam"
   ]
  },
  {
   "cell_type": "code",
   "execution_count": 19,
   "metadata": {},
   "outputs": [
    {
     "data": {
      "text/plain": [
       "(nan, nan, nan)"
      ]
     },
     "execution_count": 19,
     "metadata": {},
     "output_type": "execute_result"
    }
   ],
   "source": [
    "# This should be outside bounding box\n",
    "x,y=301.13,299.7\n",
    "v2,v3,lam=im.meta.wcs.transform(\"detector\", \"v2v3\", x,y)\n",
    "v2,v3,lam"
   ]
  },
  {
   "cell_type": "code",
   "execution_count": null,
   "metadata": {},
   "outputs": [],
   "source": []
  },
  {
   "cell_type": "code",
   "execution_count": 20,
   "metadata": {},
   "outputs": [
    {
     "data": {
      "text/plain": [
       "(-378.8320736785982, -344.9445433053003, 8.410391308079335)"
      ]
     },
     "execution_count": 20,
     "metadata": {},
     "output_type": "execute_result"
    }
   ],
   "source": [
    "# Slitless\n",
    "im=datamodels.ImageModel(slitlessfile)\n",
    "x,y=37.5,300.\n",
    "v2,v3,lam=im.meta.wcs.transform(\"detector\", \"v2v3\", x,y)\n",
    "v2,v3,lam"
   ]
  },
  {
   "cell_type": "code",
   "execution_count": 21,
   "metadata": {},
   "outputs": [
    {
     "data": {
      "text/plain": [
       "((3.5, 71.5), (6.5, 397.5))"
      ]
     },
     "execution_count": 21,
     "metadata": {},
     "output_type": "execute_result"
    }
   ],
   "source": [
    "# Slitless bounding box\n",
    "im.meta.wcs.bounding_box"
   ]
  },
  {
   "cell_type": "code",
   "execution_count": 22,
   "metadata": {},
   "outputs": [
    {
     "data": {
      "text/plain": [
       "(-375.27427691576145, -345.26988277998987, 8.414551518135166)"
      ]
     },
     "execution_count": 22,
     "metadata": {},
     "output_type": "execute_result"
    }
   ],
   "source": [
    "# This should be different v2, and nearly same v3,lam\n",
    "x,y=5,300.\n",
    "v2,v3,lam=im.meta.wcs.transform(\"detector\", \"v2v3\", x,y)\n",
    "v2,v3,lam"
   ]
  },
  {
   "cell_type": "code",
   "execution_count": 23,
   "metadata": {},
   "outputs": [
    {
     "data": {
      "text/plain": [
       "(nan, nan, nan)"
      ]
     },
     "execution_count": 23,
     "metadata": {},
     "output_type": "execute_result"
    }
   ],
   "source": [
    "# This should be outside bounding box\n",
    "x,y=2.5,300.\n",
    "v2,v3,lam=im.meta.wcs.transform(\"detector\", \"v2v3\", x,y)\n",
    "v2,v3,lam"
   ]
  },
  {
   "cell_type": "code",
   "execution_count": null,
   "metadata": {},
   "outputs": [],
   "source": []
  },
  {
   "cell_type": "markdown",
   "metadata": {},
   "source": [
    "### Make some images showing isopleths of the LRS solution"
   ]
  },
  {
   "cell_type": "code",
   "execution_count": 24,
   "metadata": {},
   "outputs": [],
   "source": [
    "from astropy.io import fits\n",
    "from numpy import matlib as mb\n",
    "import matplotlib as mpl\n",
    "import matplotlib.pyplot as plt"
   ]
  },
  {
   "cell_type": "code",
   "execution_count": 25,
   "metadata": {},
   "outputs": [],
   "source": [
    "# Slit\n",
    "im=datamodels.ImageModel(slitfile)\n",
    "xrow=np.mgrid[0:im.meta.subarray.xsize]\n",
    "yrow=np.mgrid[0:im.meta.subarray.ysize]\n",
    "xall=mb.repmat(xrow,im.meta.subarray.ysize,1)\n",
    "hdux = fits.PrimaryHDU(data=xall)\n",
    "#hdux.writeto(data_dir+'cdp7test/xall.fits',overwrite=True)\n",
    "yall=mb.repmat(yrow,im.meta.subarray.xsize,1)\n",
    "yall=np.transpose(yall)\n",
    "hduy = fits.PrimaryHDU(data=yall)\n",
    "#hduy.writeto(data_dir+'cdp7test/yall.fits',overwrite=True)\n",
    "v2all,v3all,lamall=im.meta.wcs.transform(\"detector\",\"v2v3\",xall,yall)"
   ]
  },
  {
   "cell_type": "code",
   "execution_count": 26,
   "metadata": {},
   "outputs": [
    {
     "data": {
      "text/plain": [
       "<matplotlib.colorbar.Colorbar at 0xb2b8da128>"
      ]
     },
     "execution_count": 26,
     "metadata": {},
     "output_type": "execute_result"
    },
    {
     "data": {
      "image/png": "[encoded data removed]",
      "text/plain": [
       "<Figure size 500x500 with 2 Axes>"
      ]
     },
     "metadata": {
      "needs_background": "light"
     },
     "output_type": "display_data"
    }
   ],
   "source": [
    "plt.figure(figsize=(2,2),dpi=250)\n",
    "plt.title('V2')\n",
    "plt.imshow(v2all,origin='lower')\n",
    "plt.colorbar(fraction=0.046, pad=0.04)"
   ]
  },
  {
   "cell_type": "code",
   "execution_count": 27,
   "metadata": {},
   "outputs": [
    {
     "data": {
      "text/plain": [
       "<matplotlib.colorbar.Colorbar at 0xb2a5a2400>"
      ]
     },
     "execution_count": 27,
     "metadata": {},
     "output_type": "execute_result"
    },
    {
     "data": {
      "image/png": "[encoded data removed]",
      "text/plain": [
       "<Figure size 500x500 with 2 Axes>"
      ]
     },
     "metadata": {
      "needs_background": "light"
     },
     "output_type": "display_data"
    }
   ],
   "source": [
    "plt.figure(figsize=(2,2),dpi=250)\n",
    "plt.title('V3')\n",
    "plt.imshow(v3all,origin='lower')\n",
    "plt.colorbar(fraction=0.046, pad=0.04)"
   ]
  },
  {
   "cell_type": "code",
   "execution_count": 28,
   "metadata": {},
   "outputs": [
    {
     "data": {
      "text/plain": [
       "<matplotlib.colorbar.Colorbar at 0xb2a552400>"
      ]
     },
     "execution_count": 28,
     "metadata": {},
     "output_type": "execute_result"
    },
    {
     "data": {
      "image/png": "[encoded data removed]",
      "text/plain": [
       "<Figure size 500x500 with 2 Axes>"
      ]
     },
     "metadata": {
      "needs_background": "light"
     },
     "output_type": "display_data"
    }
   ],
   "source": [
    "plt.figure(figsize=(2,2),dpi=250)\n",
    "plt.title('Lambda')\n",
    "plt.imshow(lamall,origin='lower')\n",
    "plt.colorbar(fraction=0.046, pad=0.04)"
   ]
  },
  {
   "cell_type": "code",
   "execution_count": null,
   "metadata": {},
   "outputs": [],
   "source": []
  },
  {
   "cell_type": "code",
   "execution_count": null,
   "metadata": {},
   "outputs": [],
   "source": []
  },
  {
   "cell_type": "code",
   "execution_count": 29,
   "metadata": {},
   "outputs": [],
   "source": [
    "# Slitless\n",
    "im=datamodels.ImageModel(slitlessfile)\n",
    "xrow=np.mgrid[0:im.meta.subarray.xsize]\n",
    "yrow=np.mgrid[0:im.meta.subarray.ysize]\n",
    "xall=mb.repmat(xrow,im.meta.subarray.ysize,1)\n",
    "hdux = fits.PrimaryHDU(data=xall)\n",
    "#hdux.writeto(data_dir+'cdp7test/xall.fits',overwrite=True)\n",
    "yall=mb.repmat(yrow,im.meta.subarray.xsize,1)\n",
    "yall=np.transpose(yall)\n",
    "hduy = fits.PrimaryHDU(data=yall)\n",
    "#hduy.writeto(data_dir+'cdp7test/yall.fits',overwrite=True)\n",
    "v2all,v3all,lamall=im.meta.wcs.transform(\"detector\",\"v2v3\",xall,yall)"
   ]
  },
  {
   "cell_type": "code",
   "execution_count": 30,
   "metadata": {},
   "outputs": [
    {
     "data": {
      "text/plain": [
       "<matplotlib.colorbar.Colorbar at 0xb2b9cae48>"
      ]
     },
     "execution_count": 30,
     "metadata": {},
     "output_type": "execute_result"
    },
    {
     "data": {
      "image/png": "[encoded data removed]",
      "text/plain": [
       "<Figure size 500x500 with 2 Axes>"
      ]
     },
     "metadata": {
      "needs_background": "light"
     },
     "output_type": "display_data"
    }
   ],
   "source": [
    "plt.figure(figsize=(2,2),dpi=250)\n",
    "plt.title('V2')\n",
    "plt.imshow(v2all,origin='lower')\n",
    "plt.colorbar(fraction=0.046, pad=0.04)"
   ]
  },
  {
   "cell_type": "code",
   "execution_count": 31,
   "metadata": {},
   "outputs": [
    {
     "data": {
      "text/plain": [
       "<matplotlib.colorbar.Colorbar at 0xb2bff8c50>"
      ]
     },
     "execution_count": 31,
     "metadata": {},
     "output_type": "execute_result"
    },
    {
     "data": {
      "image/png": "[encoded data removed]",
      "text/plain": [
       "<Figure size 500x500 with 2 Axes>"
      ]
     },
     "metadata": {
      "needs_background": "light"
     },
     "output_type": "display_data"
    }
   ],
   "source": [
    "plt.figure(figsize=(2,2),dpi=250)\n",
    "plt.title('V3')\n",
    "plt.imshow(v3all,origin='lower')\n",
    "plt.colorbar(fraction=0.046, pad=0.04)"
   ]
  },
  {
   "cell_type": "code",
   "execution_count": 32,
   "metadata": {},
   "outputs": [
    {
     "data": {
      "text/plain": [
       "<matplotlib.colorbar.Colorbar at 0xb2b836eb8>"
      ]
     },
     "execution_count": 32,
     "metadata": {},
     "output_type": "execute_result"
    },
    {
     "data": {
      "image/png": "[encoded data removed]",
      "text/plain": [
       "<Figure size 500x500 with 2 Axes>"
      ]
     },
     "metadata": {
      "needs_background": "light"
     },
     "output_type": "display_data"
    }
   ],
   "source": [
    "plt.figure(figsize=(2,2),dpi=250)\n",
    "plt.title('Lambda')\n",
    "plt.imshow(lamall,origin='lower')\n",
    "plt.colorbar(fraction=0.046, pad=0.04)"
   ]
  },
  {
   "cell_type": "code",
   "execution_count": 33,
   "metadata": {},
   "outputs": [],
   "source": [
    "from jwst import datamodels"
   ]
  },
  {
   "cell_type": "code",
   "execution_count": 34,
   "metadata": {},
   "outputs": [
    {
     "name": "stdout",
     "output_type": "stream",
     "text": [
      "/Users/dlaw/jwcode/jwst/jwst/datamodels/__init__.py\n"
     ]
    }
   ],
   "source": [
    "print(datamodels.__file__)"
   ]
  },
  {
   "cell_type": "code",
   "execution_count": null,
   "metadata": {},
   "outputs": [],
   "source": []
  }
 ],
 "metadata": {
  "kernelspec": {
   "display_name": "Python 3",
   "language": "python",
   "name": "python3"
  },
  "language_info": {
   "codemirror_mode": {
    "name": "ipython",
    "version": 3
   },
   "file_extension": ".py",
   "mimetype": "text/x-python",
   "name": "python",
   "nbconvert_exporter": "python",
   "pygments_lexer": "ipython3",
   "version": "3.7.3"
  }
 },
 "nbformat": 4,
 "nbformat_minor": 2
}
