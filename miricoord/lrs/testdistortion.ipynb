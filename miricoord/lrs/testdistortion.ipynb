{
 "cells": [
  {
   "cell_type": "markdown",
   "metadata": {},
   "source": [
    "## Test the MIRI LRS distortion solution (standalone and JWST pipeline versions)  ##"
   ]
  },
  {
   "cell_type": "markdown",
   "metadata": {},
   "source": [
    "### Set basic environment stuff ###"
   ]
  },
  {
   "cell_type": "code",
   "execution_count": 1,
   "metadata": {},
   "outputs": [],
   "source": [
    "import os as os\n",
    "import numpy as np\n",
    "from numpy.testing import assert_allclose\n",
    "import pdb as pdb\n",
    "import pysiaf\n",
    "\n",
    "siaf = pysiaf.Siaf('MIRI')"
   ]
  },
  {
   "cell_type": "markdown",
   "metadata": {},
   "source": [
    "Import the MIRI coordinates code from https://github.com/STScI-MIRI/miricoord and ensure that it is on the PYTHONPATH.  Also ensure that the local data directory environmental variable is set:"
   ]
  },
  {
   "cell_type": "markdown",
   "metadata": {},
   "source": [
    "setenv MIRICOORD_DATA_DIR /YourLocalPathToData/ (this is where io will happen)"
   ]
  },
  {
   "cell_type": "code",
   "execution_count": 2,
   "metadata": {},
   "outputs": [],
   "source": [
    "data_dir=os.path.expandvars('$MIRICOORD_DATA_DIR')"
   ]
  },
  {
   "cell_type": "markdown",
   "metadata": {},
   "source": [
    "### First we'll test the standalone distortion solution (lrs_tools) ###"
   ]
  },
  {
   "cell_type": "code",
   "execution_count": 3,
   "metadata": {},
   "outputs": [],
   "source": [
    "import miricoord.lrs.lrs_tools as lt"
   ]
  },
  {
   "cell_type": "code",
   "execution_count": 4,
   "metadata": {},
   "outputs": [
    {
     "data": {
      "text/plain": [
       "'flt2'"
      ]
     },
     "execution_count": 4,
     "metadata": {},
     "output_type": "execute_result"
    }
   ],
   "source": [
    "# We should be using FLT-2\n",
    "lt.version()"
   ]
  },
  {
   "cell_type": "code",
   "execution_count": 5,
   "metadata": {},
   "outputs": [
    {
     "data": {
      "text/plain": [
       "(-378.63031287257917, -344.89504513102713, array(8.58224656))"
      ]
     },
     "execution_count": 5,
     "metadata": {},
     "output_type": "execute_result"
    }
   ],
   "source": [
    "# Slitless prism reference point is 37.5, 300.0 in the 0-indexed subarray frame\n",
    "x,y=37.5,300.\n",
    "v2,v3,lam=lt.xytov2v3lam(x,y,'slitless')\n",
    "v2,v3,lam"
   ]
  },
  {
   "cell_type": "markdown",
   "metadata": {},
   "source": []
  },
  {
   "cell_type": "code",
   "execution_count": 6,
   "metadata": {},
   "outputs": [
    {
     "data": {
      "text/plain": [
       "(-378.630313, -344.895045)"
      ]
     },
     "execution_count": 6,
     "metadata": {},
     "output_type": "execute_result"
    }
   ],
   "source": [
    "# Compare the location to SIAF\n",
    "siaf['MIRIM_SLITLESSPRISM'].V2Ref,siaf['MIRIM_SLITLESSPRISM'].V3Ref"
   ]
  },
  {
   "cell_type": "code",
   "execution_count": 7,
   "metadata": {},
   "outputs": [
    {
     "name": "stdout",
     "output_type": "stream",
     "text": [
      "PRDOPSSOC-055\n"
     ]
    }
   ],
   "source": [
    "# And print the pysiaf PRD version for reference\n",
    "print(pysiaf.JWST_PRD_VERSION)"
   ]
  },
  {
   "cell_type": "code",
   "execution_count": null,
   "metadata": {},
   "outputs": [],
   "source": []
  },
  {
   "cell_type": "code",
   "execution_count": 8,
   "metadata": {},
   "outputs": [
    {
     "data": {
      "text/plain": [
       "(-414.8779942158295, -400.56817559048847, array(8.34953568))"
      ]
     },
     "execution_count": 8,
     "metadata": {},
     "output_type": "execute_result"
    }
   ],
   "source": [
    "# Slit reference point is 325.13, 299.7 in the 0-indexed full array\n",
    "x,y=325.13, 299.7\n",
    "v2,v3,lam=lt.xytov2v3lam(x,y,'slit')\n",
    "v2,v3,lam"
   ]
  },
  {
   "cell_type": "code",
   "execution_count": 9,
   "metadata": {},
   "outputs": [
    {
     "data": {
      "text/plain": [
       "(-414.878, -400.568)"
      ]
     },
     "execution_count": 9,
     "metadata": {},
     "output_type": "execute_result"
    }
   ],
   "source": [
    "# Compare the location to SIAF\n",
    "siaf['MIRIM_SLIT'].V2Ref,siaf['MIRIM_SLIT'].V3Ref"
   ]
  },
  {
   "cell_type": "code",
   "execution_count": 10,
   "metadata": {},
   "outputs": [],
   "source": [
    "# Test all forward/backward transforms for both slit and slitless\n",
    "lt.testtransform()"
   ]
  },
  {
   "cell_type": "code",
   "execution_count": null,
   "metadata": {},
   "outputs": [],
   "source": []
  },
  {
   "cell_type": "markdown",
   "metadata": {},
   "source": [
    "### Now we'll test the pipeline distortion solution (lrs_pipetools) ###"
   ]
  },
  {
   "cell_type": "code",
   "execution_count": 11,
   "metadata": {},
   "outputs": [
    {
     "data": {
      "text/plain": [
       "'flt2'"
      ]
     },
     "execution_count": 11,
     "metadata": {},
     "output_type": "execute_result"
    }
   ],
   "source": [
    "import miricoord.lrs.lrs_pipetools as lpt\n",
    "lpt.version()"
   ]
  },
  {
   "cell_type": "markdown",
   "metadata": {},
   "source": [
    "# Slit reference point is 325.13, 299.7 in the 0-indexed full array"
   ]
  },
  {
   "cell_type": "code",
   "execution_count": 12,
   "metadata": {},
   "outputs": [
    {
     "data": {
      "text/plain": [
       "(-414.8779941458304, -400.56817557579075, 8.349535678413021)"
      ]
     },
     "execution_count": 12,
     "metadata": {},
     "output_type": "execute_result"
    }
   ],
   "source": [
    "x,y=325.13, 299.7\n",
    "v2,v3,lam=lpt.xytov2v3lam(x,y,'slit')\n",
    "v2,v3,lam"
   ]
  },
  {
   "cell_type": "code",
   "execution_count": 13,
   "metadata": {},
   "outputs": [
    {
     "data": {
      "text/plain": [
       "(325.1266417782534, 299.6991191689394)"
      ]
     },
     "execution_count": 13,
     "metadata": {},
     "output_type": "execute_result"
    }
   ],
   "source": [
    "# Test an inverse transform\n",
    "xnew,ynew=lpt.v2v3lamtoxy(v2,v3,lam,'slit')\n",
    "xnew,ynew"
   ]
  },
  {
   "cell_type": "code",
   "execution_count": 14,
   "metadata": {},
   "outputs": [
    {
     "data": {
      "text/plain": [
       "(-378.6303128918532, -344.8950450187441, 8.582246561863341)"
      ]
     },
     "execution_count": 14,
     "metadata": {},
     "output_type": "execute_result"
    }
   ],
   "source": [
    "# Slitless prism reference point is 37.5, 300.0 in the 0-indexed subarray frame\n",
    "x,y=37.5,300.\n",
    "v2,v3,lam=lpt.xytov2v3lam(x,y,'slitless')\n",
    "v2,v3,lam"
   ]
  },
  {
   "cell_type": "code",
   "execution_count": 15,
   "metadata": {},
   "outputs": [],
   "source": [
    "# Test all forward/backward transforms for both slit and slitless\n",
    "lpt.testtransform()"
   ]
  },
  {
   "cell_type": "code",
   "execution_count": null,
   "metadata": {},
   "outputs": [],
   "source": []
  },
  {
   "cell_type": "markdown",
   "metadata": {},
   "source": [
    "### Use simulated files to test the pipeline distortion and bounding boxes"
   ]
  },
  {
   "cell_type": "code",
   "execution_count": 16,
   "metadata": {},
   "outputs": [],
   "source": [
    "from jwst import datamodels"
   ]
  },
  {
   "cell_type": "code",
   "execution_count": 17,
   "metadata": {},
   "outputs": [],
   "source": [
    "data_dir=os.path.expandvars('$MIRICOORD_DATA_DIR')\n",
    "slitfile=data_dir+'testing/jw01033002001_03103_00002_lrsslit_flt1_assignwcsstep.fits'\n",
    "slitlessfile=data_dir+'testing/jw01033003001_03103_00001-seg001_lrsslitless_flt1_assignwcsstep.fits'"
   ]
  },
  {
   "cell_type": "code",
   "execution_count": 18,
   "metadata": {},
   "outputs": [
    {
     "data": {
      "text/plain": [
       "(-414.8779941458304, -400.56817557579075, 8.582487525291691)"
      ]
     },
     "execution_count": 18,
     "metadata": {},
     "output_type": "execute_result"
    }
   ],
   "source": [
    "# Slit\n",
    "im=datamodels.ImageModel(slitfile)\n",
    "x,y=325.13,299.7\n",
    "v2,v3,lam=im.meta.wcs.transform(\"detector\", \"v2v3\", x,y)\n",
    "v2,v3,lam"
   ]
  },
  {
   "cell_type": "code",
   "execution_count": 19,
   "metadata": {},
   "outputs": [
    {
     "data": {
      "text/plain": [
       "ModelBoundingBox(\n",
       "    intervals={\n",
       "        x0: Interval(lower=301.5, upper=346.5)\n",
       "        x1: Interval(lower=4.5, upper=394.5)\n",
       "    }\n",
       "    model=CompoundModel(inputs=('x0', 'x1'))\n",
       "    order='C'\n",
       ")"
      ]
     },
     "execution_count": 19,
     "metadata": {},
     "output_type": "execute_result"
    }
   ],
   "source": [
    "# Slit bounding box\n",
    "im.meta.wcs.bounding_box"
   ]
  },
  {
   "cell_type": "code",
   "execution_count": 20,
   "metadata": {},
   "outputs": [
    {
     "data": {
      "text/plain": [
       "(-412.6743157696893, -400.74960396508914, 8.586629075744051)"
      ]
     },
     "execution_count": 20,
     "metadata": {},
     "output_type": "execute_result"
    }
   ],
   "source": [
    "# This should be different v2, and nearly same v3,lam\n",
    "x,y=305.13,299.7\n",
    "v2,v3,lam=im.meta.wcs.transform(\"detector\", \"v2v3\", x,y)\n",
    "v2,v3,lam"
   ]
  },
  {
   "cell_type": "code",
   "execution_count": 21,
   "metadata": {},
   "outputs": [
    {
     "data": {
      "text/plain": [
       "(nan, nan, nan)"
      ]
     },
     "execution_count": 21,
     "metadata": {},
     "output_type": "execute_result"
    }
   ],
   "source": [
    "# This should be outside bounding box\n",
    "x,y=301.13,299.7\n",
    "v2,v3,lam=im.meta.wcs.transform(\"detector\", \"v2v3\", x,y)\n",
    "v2,v3,lam"
   ]
  },
  {
   "cell_type": "code",
   "execution_count": null,
   "metadata": {},
   "outputs": [],
   "source": []
  },
  {
   "cell_type": "code",
   "execution_count": 22,
   "metadata": {},
   "outputs": [
    {
     "data": {
      "text/plain": [
       "(-378.6303128918532, -344.8950450187441, 8.58248749838136)"
      ]
     },
     "execution_count": 22,
     "metadata": {},
     "output_type": "execute_result"
    }
   ],
   "source": [
    "# Slitless\n",
    "im=datamodels.ImageModel(slitlessfile)\n",
    "x,y=37.5,300.\n",
    "v2,v3,lam=im.meta.wcs.transform(\"detector\", \"v2v3\", x,y)\n",
    "v2,v3,lam"
   ]
  },
  {
   "cell_type": "code",
   "execution_count": 23,
   "metadata": {},
   "outputs": [
    {
     "data": {
      "text/plain": [
       "ModelBoundingBox(\n",
       "    intervals={\n",
       "        x0: Interval(lower=3.5, upper=71.5)\n",
       "        x1: Interval(lower=4.5, upper=394.5)\n",
       "    }\n",
       "    model=CompoundModel(inputs=('x0', 'x1'))\n",
       "    order='C'\n",
       ")"
      ]
     },
     "execution_count": 23,
     "metadata": {},
     "output_type": "execute_result"
    }
   ],
   "source": [
    "# Slitless bounding box\n",
    "im.meta.wcs.bounding_box"
   ]
  },
  {
   "cell_type": "code",
   "execution_count": 24,
   "metadata": {},
   "outputs": [
    {
     "data": {
      "text/plain": [
       "(-375.0750414490597, -345.21615571458165, 8.589217517845341)"
      ]
     },
     "execution_count": 24,
     "metadata": {},
     "output_type": "execute_result"
    }
   ],
   "source": [
    "# This should be different v2, and nearly same v3,lam\n",
    "x,y=5,300.\n",
    "v2,v3,lam=im.meta.wcs.transform(\"detector\", \"v2v3\", x,y)\n",
    "v2,v3,lam"
   ]
  },
  {
   "cell_type": "code",
   "execution_count": 25,
   "metadata": {},
   "outputs": [
    {
     "data": {
      "text/plain": [
       "(nan, nan, nan)"
      ]
     },
     "execution_count": 25,
     "metadata": {},
     "output_type": "execute_result"
    }
   ],
   "source": [
    "# This should be outside bounding box\n",
    "x,y=2.5,300.\n",
    "v2,v3,lam=im.meta.wcs.transform(\"detector\", \"v2v3\", x,y)\n",
    "v2,v3,lam"
   ]
  },
  {
   "cell_type": "code",
   "execution_count": null,
   "metadata": {},
   "outputs": [],
   "source": []
  },
  {
   "cell_type": "markdown",
   "metadata": {},
   "source": [
    "### Make some images showing isopleths of the LRS solution"
   ]
  },
  {
   "cell_type": "code",
   "execution_count": 26,
   "metadata": {},
   "outputs": [],
   "source": [
    "from astropy.io import fits\n",
    "from numpy import matlib as mb\n",
    "import matplotlib as mpl\n",
    "import matplotlib.pyplot as plt"
   ]
  },
  {
   "cell_type": "code",
   "execution_count": 27,
   "metadata": {},
   "outputs": [],
   "source": [
    "# Slit\n",
    "im=datamodels.ImageModel(slitfile)\n",
    "xrow=np.mgrid[0:im.meta.subarray.xsize]\n",
    "yrow=np.mgrid[0:im.meta.subarray.ysize]\n",
    "xall=mb.repmat(xrow,im.meta.subarray.ysize,1)\n",
    "hdux = fits.PrimaryHDU(data=xall)\n",
    "yall=mb.repmat(yrow,im.meta.subarray.xsize,1)\n",
    "yall=np.transpose(yall)\n",
    "hduy = fits.PrimaryHDU(data=yall)\n",
    "v2all,v3all,lamall=im.meta.wcs.transform(\"detector\",\"v2v3\",xall,yall)"
   ]
  },
  {
   "cell_type": "code",
   "execution_count": 28,
   "metadata": {},
   "outputs": [
    {
     "data": {
      "text/plain": [
       "<matplotlib.colorbar.Colorbar at 0x7ff0117d7be0>"
      ]
     },
     "execution_count": 28,
     "metadata": {},
     "output_type": "execute_result"
    },
    {
     "data": {
      "image/png": "[encoded data removed]",
      "text/plain": [
       "<Figure size 500x500 with 2 Axes>"
      ]
     },
     "metadata": {
      "needs_background": "light"
     },
     "output_type": "display_data"
    }
   ],
   "source": [
    "plt.figure(figsize=(2,2),dpi=250)\n",
    "plt.title('V2')\n",
    "plt.imshow(v2all,origin='lower')\n",
    "plt.colorbar(fraction=0.046, pad=0.04)"
   ]
  },
  {
   "cell_type": "code",
   "execution_count": 29,
   "metadata": {},
   "outputs": [
    {
     "data": {
      "text/plain": [
       "<matplotlib.colorbar.Colorbar at 0x7ff03130e5f0>"
      ]
     },
     "execution_count": 29,
     "metadata": {},
     "output_type": "execute_result"
    },
    {
     "data": {
      "image/png": "[encoded data removed]",
      "text/plain": [
       "<Figure size 500x500 with 2 Axes>"
      ]
     },
     "metadata": {
      "needs_background": "light"
     },
     "output_type": "display_data"
    }
   ],
   "source": [
    "plt.figure(figsize=(2,2),dpi=250)\n",
    "plt.title('V3')\n",
    "plt.imshow(v3all,origin='lower')\n",
    "plt.colorbar(fraction=0.046, pad=0.04)"
   ]
  },
  {
   "cell_type": "code",
   "execution_count": 30,
   "metadata": {},
   "outputs": [
    {
     "data": {
      "text/plain": [
       "<matplotlib.colorbar.Colorbar at 0x7fefc00a0b50>"
      ]
     },
     "execution_count": 30,
     "metadata": {},
     "output_type": "execute_result"
    },
    {
     "data": {
      "image/png": "[encoded data removed]",
      "text/plain": [
       "<Figure size 500x500 with 2 Axes>"
      ]
     },
     "metadata": {
      "needs_background": "light"
     },
     "output_type": "display_data"
    }
   ],
   "source": [
    "plt.figure(figsize=(2,2),dpi=250)\n",
    "plt.title('Lambda')\n",
    "plt.imshow(lamall,origin='lower')\n",
    "plt.colorbar(fraction=0.046, pad=0.04)"
   ]
  },
  {
   "cell_type": "code",
   "execution_count": null,
   "metadata": {},
   "outputs": [],
   "source": []
  },
  {
   "cell_type": "code",
   "execution_count": null,
   "metadata": {},
   "outputs": [],
   "source": []
  },
  {
   "cell_type": "code",
   "execution_count": 31,
   "metadata": {},
   "outputs": [],
   "source": [
    "# Slitless\n",
    "im=datamodels.ImageModel(slitlessfile)\n",
    "xrow=np.mgrid[0:im.meta.subarray.xsize]\n",
    "yrow=np.mgrid[0:im.meta.subarray.ysize]\n",
    "xall=mb.repmat(xrow,im.meta.subarray.ysize,1)\n",
    "hdux = fits.PrimaryHDU(data=xall)\n",
    "yall=mb.repmat(yrow,im.meta.subarray.xsize,1)\n",
    "yall=np.transpose(yall)\n",
    "hduy = fits.PrimaryHDU(data=yall)\n",
    "v2all,v3all,lamall=im.meta.wcs.transform(\"detector\",\"v2v3\",xall,yall)"
   ]
  },
  {
   "cell_type": "code",
   "execution_count": 32,
   "metadata": {},
   "outputs": [
    {
     "data": {
      "text/plain": [
       "<matplotlib.colorbar.Colorbar at 0x7ff001034970>"
      ]
     },
     "execution_count": 32,
     "metadata": {},
     "output_type": "execute_result"
    },
    {
     "data": {
      "image/png": "[encoded data removed]",
      "text/plain": [
       "<Figure size 500x500 with 2 Axes>"
      ]
     },
     "metadata": {
      "needs_background": "light"
     },
     "output_type": "display_data"
    }
   ],
   "source": [
    "plt.figure(figsize=(2,2),dpi=250)\n",
    "plt.title('V2')\n",
    "plt.imshow(v2all,origin='lower')\n",
    "plt.colorbar(fraction=0.046, pad=0.04)"
   ]
  },
  {
   "cell_type": "code",
   "execution_count": 33,
   "metadata": {},
   "outputs": [
    {
     "data": {
      "text/plain": [
       "<matplotlib.colorbar.Colorbar at 0x7ff011aad510>"
      ]
     },
     "execution_count": 33,
     "metadata": {},
     "output_type": "execute_result"
    },
    {
     "data": {
      "image/png": "[encoded data removed]",
      "text/plain": [
       "<Figure size 500x500 with 2 Axes>"
      ]
     },
     "metadata": {
      "needs_background": "light"
     },
     "output_type": "display_data"
    }
   ],
   "source": [
    "plt.figure(figsize=(2,2),dpi=250)\n",
    "plt.title('V3')\n",
    "plt.imshow(v3all,origin='lower')\n",
    "plt.colorbar(fraction=0.046, pad=0.04)"
   ]
  },
  {
   "cell_type": "code",
   "execution_count": 34,
   "metadata": {},
   "outputs": [
    {
     "data": {
      "text/plain": [
       "<matplotlib.colorbar.Colorbar at 0x7ff011b26110>"
      ]
     },
     "execution_count": 34,
     "metadata": {},
     "output_type": "execute_result"
    },
    {
     "data": {
      "image/png": "[encoded data removed]",
      "text/plain": [
       "<Figure size 500x500 with 2 Axes>"
      ]
     },
     "metadata": {
      "needs_background": "light"
     },
     "output_type": "display_data"
    }
   ],
   "source": [
    "plt.figure(figsize=(2,2),dpi=250)\n",
    "plt.title('Lambda')\n",
    "plt.imshow(lamall,origin='lower')\n",
    "plt.colorbar(fraction=0.046, pad=0.04)"
   ]
  },
  {
   "cell_type": "code",
   "execution_count": null,
   "metadata": {},
   "outputs": [],
   "source": []
  }
 ],
 "metadata": {
  "kernelspec": {
   "display_name": "Python 3 (ipykernel)",
   "language": "python",
   "name": "python3"
  },
  "language_info": {
   "codemirror_mode": {
    "name": "ipython",
    "version": 3
   },
   "file_extension": ".py",
   "mimetype": "text/x-python",
   "name": "python",
   "nbconvert_exporter": "python",
   "pygments_lexer": "ipython3",
   "version": "3.10.0"
  }
 },
 "nbformat": 4,
 "nbformat_minor": 2
}
