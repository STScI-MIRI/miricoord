{
 "cells": [
  {
   "cell_type": "markdown",
   "metadata": {},
   "source": [
    "# Notebook to compute the LRS slit corner and midpoint locations in v2,v3 for the SIAF"
   ]
  },
  {
   "cell_type": "code",
   "execution_count": 1,
   "metadata": {},
   "outputs": [
    {
     "data": {
      "text/plain": [
       "'cdp7'"
      ]
     },
     "execution_count": 1,
     "metadata": {},
     "output_type": "execute_result"
    }
   ],
   "source": [
    "import os as os\n",
    "import numpy as np\n",
    "from numpy.testing import assert_allclose\n",
    "import pdb as pdb\n",
    "import miricoord.miricoord.imager.mirim_tools as mt\n",
    "mt.set_toolversion('cdp7')\n",
    "mt.version()"
   ]
  },
  {
   "cell_type": "code",
   "execution_count": 2,
   "metadata": {},
   "outputs": [
    {
     "data": {
      "text/plain": [
       "(array([-415.06904661]), array([-400.5759204]))"
      ]
     },
     "execution_count": 2,
     "metadata": {},
     "output_type": "execute_result"
    }
   ],
   "source": [
    "xmid,ymid=326.13-1,300.70-1 # Convert from SIAF to 0-indexed\n",
    "v2,v3=mt.xytov2v3(xmid,ymid,'F770W')\n",
    "v2,v3"
   ]
  },
  {
   "cell_type": "code",
   "execution_count": 3,
   "metadata": {},
   "outputs": [
    {
     "data": {
      "text/plain": [
       "(array([-412.73515523]), array([-401.0277591]))"
      ]
     },
     "execution_count": 3,
     "metadata": {},
     "output_type": "execute_result"
    }
   ],
   "source": [
    "# Lower-left corner\n",
    "x,y=304.77-1, 298.38-1\n",
    "v2,v3=mt.xytov2v3(x,y,'F770W')\n",
    "v2,v3"
   ]
  },
  {
   "cell_type": "code",
   "execution_count": 4,
   "metadata": {},
   "outputs": [
    {
     "data": {
      "text/plain": [
       "(array([-417.4453235]), array([-400.63635533]))"
      ]
     },
     "execution_count": 4,
     "metadata": {},
     "output_type": "execute_result"
    }
   ],
   "source": [
    "# Lower-right corner\n",
    "x,y=347.49-1, 298.38-1\n",
    "v2,v3=mt.xytov2v3(x,y,'F770W')\n",
    "v2,v3"
   ]
  },
  {
   "cell_type": "code",
   "execution_count": 5,
   "metadata": {},
   "outputs": [
    {
     "data": {
      "text/plain": [
       "(array([-417.40292481]), array([-400.12314081]))"
      ]
     },
     "execution_count": 5,
     "metadata": {},
     "output_type": "execute_result"
    }
   ],
   "source": [
    "# Upper-right corner\n",
    "x,y=347.49-1, 303.03-1\n",
    "v2,v3=mt.xytov2v3(x,y,'F770W')\n",
    "v2,v3"
   ]
  },
  {
   "cell_type": "code",
   "execution_count": 6,
   "metadata": {},
   "outputs": [
    {
     "data": {
      "text/plain": [
       "(array([-412.69299168]), array([-400.51473621]))"
      ]
     },
     "execution_count": 6,
     "metadata": {},
     "output_type": "execute_result"
    }
   ],
   "source": [
    "# Upper-left corner\n",
    "x,y=304.77-1, 303.03-1\n",
    "v2,v3=mt.xytov2v3(x,y,'F770W')\n",
    "v2,v3"
   ]
  },
  {
   "cell_type": "code",
   "execution_count": null,
   "metadata": {},
   "outputs": [],
   "source": []
  },
  {
   "cell_type": "markdown",
   "metadata": {},
   "source": [
    "And the LRS slitless location for good measure"
   ]
  },
  {
   "cell_type": "code",
   "execution_count": 7,
   "metadata": {},
   "outputs": [
    {
     "data": {
      "text/plain": [
       "(array([-378.83207368]), array([-344.94454331]))"
      ]
     },
     "execution_count": 7,
     "metadata": {},
     "output_type": "execute_result"
    }
   ],
   "source": [
    "x,y=38.5-1,829.0-1\n",
    "v2,v3=mt.xytov2v3(x,y,'F770W')\n",
    "v2,v3"
   ]
  },
  {
   "cell_type": "code",
   "execution_count": null,
   "metadata": {},
   "outputs": [],
   "source": []
  }
 ],
 "metadata": {
  "kernelspec": {
   "display_name": "Python 3",
   "language": "python",
   "name": "python3"
  },
  "language_info": {
   "codemirror_mode": {
    "name": "ipython",
    "version": 3
   },
   "file_extension": ".py",
   "mimetype": "text/x-python",
   "name": "python",
   "nbconvert_exporter": "python",
   "pygments_lexer": "ipython3",
   "version": "3.6.8"
  }
 },
 "nbformat": 4,
 "nbformat_minor": 2
}
