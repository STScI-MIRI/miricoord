{
 "cells": [
  {
   "cell_type": "markdown",
   "metadata": {},
   "source": [
    "# Notebook to compute the LRS slit corner, V3IDLYANGLE, and midpoint locations in v2,v3 for the SIAF"
   ]
  },
  {
   "cell_type": "markdown",
   "metadata": {},
   "source": [
    "The LRS slit midpoint and corners are defined in pixel coordinates, but implemented in the SIAF in v2/v3 coordinates as a SLIT type object.  Likewise, the LRS slit is the only Imager detector aperture whose V3IDLYANGLE is set directly at the aperture instead of sharing a single angle for the entire detector.  This notebook must be rerun to compute the SIAF inputs whenever the Imager distortion solution changes."
   ]
  },
  {
   "cell_type": "code",
   "execution_count": 5,
   "metadata": {},
   "outputs": [],
   "source": [
    "import os as os\n",
    "import numpy as np\n",
    "from numpy.testing import assert_allclose\n",
    "import pdb as pdb\n",
    "import miricoord.imager.mirim_tools as mt"
   ]
  },
  {
   "cell_type": "code",
   "execution_count": 6,
   "metadata": {},
   "outputs": [
    {
     "data": {
      "text/plain": [
       "'cdp7'"
      ]
     },
     "execution_count": 6,
     "metadata": {},
     "output_type": "execute_result"
    }
   ],
   "source": [
    "mt.set_toolversion('cdp7')\n",
    "mt.version()"
   ]
  },
  {
   "cell_type": "code",
   "execution_count": 13,
   "metadata": {},
   "outputs": [
    {
     "data": {
      "text/plain": [
       "(array([-415.06904661]), array([-400.5759204]))"
      ]
     },
     "execution_count": 13,
     "metadata": {},
     "output_type": "execute_result"
    }
   ],
   "source": [
    "xref,yref=326.13-1,300.70-1 # Convert from SIAF to 0-indexed\n",
    "v2ref,v3ref=mt.xytov2v3(xmid,ymid,'F770W')\n",
    "v2ref,v3ref"
   ]
  },
  {
   "cell_type": "code",
   "execution_count": 32,
   "metadata": {},
   "outputs": [
    {
     "data": {
      "text/plain": [
       "array([4.7102801])"
      ]
     },
     "execution_count": 32,
     "metadata": {},
     "output_type": "execute_result"
    }
   ],
   "source": [
    "# V3IDLYANGLE\n",
    "v3idlyangle=mt.v3imarot(xref,yref)[0]\n",
    "v3idlyangle"
   ]
  },
  {
   "cell_type": "code",
   "execution_count": 15,
   "metadata": {},
   "outputs": [
    {
     "data": {
      "text/plain": [
       "(array([-412.73515523]), array([-401.0277591]))"
      ]
     },
     "execution_count": 15,
     "metadata": {},
     "output_type": "execute_result"
    }
   ],
   "source": [
    "# Lower-left corner\n",
    "xll,yll=304.77-1, 298.38-1\n",
    "v2ll,v3ll=mt.xytov2v3(xll,yll,'F770W')\n",
    "v2ll,v3ll"
   ]
  },
  {
   "cell_type": "code",
   "execution_count": 16,
   "metadata": {},
   "outputs": [
    {
     "data": {
      "text/plain": [
       "(array([-417.4453235]), array([-400.63635533]))"
      ]
     },
     "execution_count": 16,
     "metadata": {},
     "output_type": "execute_result"
    }
   ],
   "source": [
    "# Lower-right corner\n",
    "xlr,ylr=347.49-1, 298.38-1\n",
    "v2lr,v3lr=mt.xytov2v3(xlr,ylr,'F770W')\n",
    "v2lr,v3lr"
   ]
  },
  {
   "cell_type": "code",
   "execution_count": 17,
   "metadata": {},
   "outputs": [
    {
     "data": {
      "text/plain": [
       "(array([-417.40292481]), array([-400.12314081]))"
      ]
     },
     "execution_count": 17,
     "metadata": {},
     "output_type": "execute_result"
    }
   ],
   "source": [
    "# Upper-right corner\n",
    "xur,yur=347.49-1, 303.03-1\n",
    "v2ur,v3ur=mt.xytov2v3(xur,yur,'F770W')\n",
    "v2ur,v3ur"
   ]
  },
  {
   "cell_type": "code",
   "execution_count": 18,
   "metadata": {},
   "outputs": [
    {
     "data": {
      "text/plain": [
       "(array([-412.69299168]), array([-400.51473621]))"
      ]
     },
     "execution_count": 18,
     "metadata": {},
     "output_type": "execute_result"
    }
   ],
   "source": [
    "# Upper-left corner\n",
    "xul,yul=304.77-1, 303.03-1\n",
    "v2ul,v3ul=mt.xytov2v3(xul,yul,'F770W')\n",
    "v2ul,v3ul"
   ]
  },
  {
   "cell_type": "code",
   "execution_count": null,
   "metadata": {},
   "outputs": [],
   "source": [
    "\n"
   ]
  },
  {
   "cell_type": "code",
   "execution_count": 42,
   "metadata": {},
   "outputs": [
    {
     "name": "stdout",
     "output_type": "stream",
     "text": [
      "             AperName ,  AperType , V3IdlYAngle , VIdlParity ,  XDetRef ,  YDetRef ,  XSciSize ,  YSciSize , XCorner , YCorner , XSciRef , YSciRef , parent_apertures , dependency_type ,   SliceName ,  SliceNum ,     v2ref ,     v3ref ,      v2ll ,      v2ul ,      v2ur ,      v2lr ,      v3ll ,      v3ul ,      v3ur ,      v3lr\n",
      "           MIRIM_SLIT ,      SLIT ,    4.710280 ,         -1 ,     None ,     None ,      None ,      None ,    None ,    None ,    None ,    None ,             None ,            None ,        None ,      None ,  -415.069 ,  -400.576 ,  -412.735 ,  -412.693 ,  -417.403 ,  -417.445 ,  -401.028 ,  -400.515 ,  -400.123 ,  -400.636\n"
     ]
    }
   ],
   "source": [
    "# Print the result in the format required by SIAF input\n",
    "print(\"{:>21} ,{:>10} ,{:>12} ,{:>11} ,{:>9} ,{:>9} ,{:>10} ,{:>10} ,{:>8} ,{:>8} ,{:>8} ,\\\n",
    "{:>8} ,{:>17} ,{:>16} ,{:>12} ,{:>10} ,{:>10} ,{:>10} ,{:>10} ,{:>10} ,{:>10} ,{:>10} ,{:>10} ,\\\n",
    "{:>10} ,{:>10} ,{:>10}\".format('AperName','AperType','V3IdlYAngle','VIdlParity','XDetRef','YDetRef',\\\n",
    "                               'XSciSize','YSciSize','XCorner','YCorner','XSciRef','YSciRef',\\\n",
    "                               'parent_apertures','dependency_type','SliceName','SliceNum','v2ref','v3ref',\\\n",
    "                               'v2ll','v2ul','v2ur','v2lr','v3ll','v3ul','v3ur','v3lr'))\n",
    "\n",
    "print(\"{val1:>21} ,{val2:>10} ,{0:>12.6f} ,{val4:>11} ,{val5:>9} ,{val5:>9} ,{val5:>10} ,{val5:>10} ,\\\n",
    "{val5:>8} ,{val5:>8} ,{val5:>8} ,{val5:>8} ,{val5:>17} ,{val5:>16} ,{val5:>12} ,{val5:>10} ,{1:>10.3f} ,\\\n",
    "{2:>10.3f} ,{3:>10.3f} ,{4:>10.3f} ,{5:>10.3f} ,{6:>10.3f} ,{7:>10.3f} ,{8:>10.3f} ,{9:>10.3f} ,\\\n",
    "{10:>10.3f}\".format(v3idlyangle[0],v2ref[0],v3ref[0],v2ll[0],v2ul[0],v2ur[0],v2lr[0],v3ll[0],v3ul[0],\\\n",
    "                    v3ur[0],v3lr[0],val1='MIRIM_SLIT',val2='SLIT',val4='-1',val5='None'))"
   ]
  },
  {
   "cell_type": "code",
   "execution_count": null,
   "metadata": {},
   "outputs": [],
   "source": []
  },
  {
   "cell_type": "markdown",
   "metadata": {},
   "source": [
    "Compute the LRS slitless location for good measure (though we don't need to insert that by hand to the SIAF)"
   ]
  },
  {
   "cell_type": "code",
   "execution_count": 7,
   "metadata": {},
   "outputs": [
    {
     "data": {
      "text/plain": [
       "(array([-378.83207368]), array([-344.94454331]))"
      ]
     },
     "execution_count": 7,
     "metadata": {},
     "output_type": "execute_result"
    }
   ],
   "source": [
    "x,y=38.5-1,829.0-1\n",
    "v2,v3=mt.xytov2v3(x,y,'F770W')\n",
    "v2,v3"
   ]
  },
  {
   "cell_type": "code",
   "execution_count": null,
   "metadata": {},
   "outputs": [],
   "source": []
  }
 ],
 "metadata": {
  "kernelspec": {
   "display_name": "Python 3 (ipykernel)",
   "language": "python",
   "name": "python3"
  },
  "language_info": {
   "codemirror_mode": {
    "name": "ipython",
    "version": 3
   },
   "file_extension": ".py",
   "mimetype": "text/x-python",
   "name": "python",
   "nbconvert_exporter": "python",
   "pygments_lexer": "ipython3",
   "version": "3.9.5"
  }
 },
 "nbformat": 4,
 "nbformat_minor": 2
}
