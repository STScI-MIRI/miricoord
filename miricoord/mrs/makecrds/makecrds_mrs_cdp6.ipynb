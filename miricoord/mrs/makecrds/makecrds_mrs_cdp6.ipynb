{
 "cells": [
  {
   "cell_type": "markdown",
   "metadata": {},
   "source": [
    "## Create new MIRI MRS reference files for CDP6 ##"
   ]
  },
  {
   "cell_type": "markdown",
   "metadata": {},
   "source": [
    "First import the things that we need from the pipeline code"
   ]
  },
  {
   "cell_type": "code",
   "execution_count": 1,
   "metadata": {},
   "outputs": [],
   "source": [
    "import os as os\n",
    "import numpy as np\n",
    "import pdb as pdb\n",
    "from astropy.modeling import models\n",
    "from asdf import AsdfFile\n",
    "from jwst import datamodels\n",
    "from jwst.assign_wcs import miri"
   ]
  },
  {
   "cell_type": "markdown",
   "metadata": {},
   "source": [
    "Import the MIRI coordinates code from https://github.com/STScI-MIRI/coordinates and ensure that it is on the PYTHONPATH.  Also ensure that the output data directory is set:"
   ]
  },
  {
   "cell_type": "markdown",
   "metadata": {},
   "source": [
    "setenv MIRICOORD_DATA_DIR /YourLocalPathToData/ (this is where output will happen)"
   ]
  },
  {
   "cell_type": "code",
   "execution_count": 2,
   "metadata": {},
   "outputs": [],
   "source": [
    "data_dir=os.path.join(os.path.expandvars('$MIRICOORD_DATA_DIR'),'temp/')"
   ]
  },
  {
   "cell_type": "code",
   "execution_count": 3,
   "metadata": {},
   "outputs": [],
   "source": [
    "import miricoord.mrs.mrs_tools as mrst"
   ]
  },
  {
   "cell_type": "code",
   "execution_count": 4,
   "metadata": {},
   "outputs": [],
   "source": [
    "import miricoord.mrs.mrs_pipetools as mrspt"
   ]
  },
  {
   "cell_type": "markdown",
   "metadata": {},
   "source": [
    "Import the python scripts that do the heavy lifting for reference file creation:"
   ]
  },
  {
   "cell_type": "code",
   "execution_count": 5,
   "metadata": {},
   "outputs": [],
   "source": [
    "import miricoord.mrs.makecrds.makecrds_mrs_cdp6 as makecrds"
   ]
  },
  {
   "cell_type": "markdown",
   "metadata": {},
   "source": [
    "Make new CDP-6 reference file for all channels and test them."
   ]
  },
  {
   "cell_type": "code",
   "execution_count": 6,
   "metadata": {},
   "outputs": [
    {
     "name": "stdout",
     "output_type": "stream",
     "text": [
      "Working on: 12A\n",
      "Testing: 12A\n",
      "Testing channel 1A\n",
      "Testing channel 2A\n",
      "Done testing: 12A\n",
      "Working on: 12B\n",
      "Testing: 12B\n",
      "Testing channel 1B\n",
      "Testing channel 2B\n",
      "Done testing: 12B\n",
      "Working on: 12C\n",
      "Testing: 12C\n",
      "Testing channel 1C\n",
      "Testing channel 2C\n",
      "Done testing: 12C\n",
      "Working on: 34A\n",
      "Testing: 34A\n",
      "Testing channel 3A\n",
      "Testing channel 4A\n",
      "Done testing: 34A\n",
      "Working on: 34B\n",
      "Testing: 34B\n",
      "Testing channel 3B\n",
      "Testing channel 4B\n",
      "Done testing: 34B\n",
      "Working on: 34C\n",
      "Testing: 34C\n",
      "Testing channel 3C\n",
      "Testing channel 4C\n",
      "Done testing: 34C\n"
     ]
    }
   ],
   "source": [
    "makecrds.create_cdp6_all(data_dir)"
   ]
  }
 ],
 "metadata": {
  "kernelspec": {
   "display_name": "Python 3",
   "language": "python",
   "name": "python3"
  },
  "language_info": {
   "codemirror_mode": {
    "name": "ipython",
    "version": 3
   },
   "file_extension": ".py",
   "mimetype": "text/x-python",
   "name": "python",
   "nbconvert_exporter": "python",
   "pygments_lexer": "ipython3",
   "version": "3.7.4"
  }
 },
 "nbformat": 4,
 "nbformat_minor": 2
}
