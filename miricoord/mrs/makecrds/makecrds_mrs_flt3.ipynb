{
 "cells": [
  {
   "cell_type": "markdown",
   "metadata": {},
   "source": [
    "## Create new MIRI MRS reference files for FLT3 ##"
   ]
  },
  {
   "cell_type": "markdown",
   "metadata": {},
   "source": [
    "First import the things that we need from the pipeline code"
   ]
  },
  {
   "cell_type": "code",
   "execution_count": 1,
   "metadata": {},
   "outputs": [],
   "source": [
    "import os as os\n",
    "import time\n",
    "import numpy as np\n",
    "import pdb as pdb\n",
    "from astropy.modeling import models\n",
    "from asdf import AsdfFile\n",
    "from jwst import datamodels\n",
    "from jwst.assign_wcs import miri"
   ]
  },
  {
   "cell_type": "markdown",
   "metadata": {},
   "source": [
    "Import the MIRI coordinates code from https://github.com/STScI-MIRI/miricoord and ensure that it is on the PYTHONPATH.  Also ensure that the output data directory is set:"
   ]
  },
  {
   "cell_type": "markdown",
   "metadata": {},
   "source": [
    "setenv MIRICOORD_DATA_DIR /YourLocalPathToData/ (this is where output will happen)"
   ]
  },
  {
   "cell_type": "code",
   "execution_count": 2,
   "metadata": {},
   "outputs": [],
   "source": [
    "data_dir=os.path.join(os.path.expandvars('$MIRICOORD_DATA_DIR'),'crds/temp/')"
   ]
  },
  {
   "cell_type": "code",
   "execution_count": 3,
   "metadata": {},
   "outputs": [],
   "source": [
    "import miricoord.mrs.mrs_tools as mrst\n",
    "mrst.set_toolversion('flt3')"
   ]
  },
  {
   "cell_type": "markdown",
   "metadata": {},
   "source": [
    "Import the python scripts that do the heavy lifting for reference file creation:"
   ]
  },
  {
   "cell_type": "code",
   "execution_count": 4,
   "metadata": {},
   "outputs": [],
   "source": [
    "import miricoord.mrs.makecrds.makecrds_mrs_flt3 as makecrds"
   ]
  },
  {
   "cell_type": "markdown",
   "metadata": {},
   "source": [
    "Make new reference file for all channels and test them."
   ]
  },
  {
   "cell_type": "code",
   "execution_count": null,
   "metadata": {},
   "outputs": [],
   "source": []
  },
  {
   "cell_type": "code",
   "execution_count": 5,
   "metadata": {},
   "outputs": [],
   "source": [
    "# Start a timer to keep track of runtime\n",
    "time0 = time.perf_counter()"
   ]
  },
  {
   "cell_type": "code",
   "execution_count": 6,
   "metadata": {},
   "outputs": [
    {
     "name": "stdout",
     "output_type": "stream",
     "text": [
      "Working on: 12A\n",
      "Adjusting slice mask to clean spectral tearing\n",
      "Testing: 12A\n",
      "Done testing: 12A\n",
      "Working on: 12B\n",
      "Adjusting slice mask to clean spectral tearing\n",
      "Testing: 12B\n",
      "Done testing: 12B\n",
      "Working on: 12C\n",
      "Adjusting slice mask to clean spectral tearing\n",
      "Testing: 12C\n",
      "Done testing: 12C\n",
      "Working on: 34A\n",
      "Adjusting slice mask to clean spectral tearing\n",
      "Testing: 34A\n",
      "Done testing: 34A\n",
      "Working on: 34B\n",
      "Adjusting slice mask to clean spectral tearing\n",
      "Testing: 34B\n",
      "Done testing: 34B\n",
      "Working on: 34C\n",
      "Adjusting slice mask to clean spectral tearing\n",
      "Testing: 34C\n",
      "Done testing: 34C\n",
      "Creating cross-dichroic reference files\n"
     ]
    }
   ],
   "source": [
    "# Warning, don't run this with tearfix=True until happy with everything else, it takes over an hour\n",
    "makecrds.create_flt3_all(data_dir,tearfix=True)"
   ]
  },
  {
   "cell_type": "code",
   "execution_count": 7,
   "metadata": {},
   "outputs": [
    {
     "name": "stdout",
     "output_type": "stream",
     "text": [
      "Runtime so far: 1668.6769 seconds\n"
     ]
    }
   ],
   "source": [
    "time1 = time.perf_counter()\n",
    "print(f\"Runtime so far: {time1 - time0:0.4f} seconds\")"
   ]
  },
  {
   "cell_type": "code",
   "execution_count": null,
   "metadata": {},
   "outputs": [],
   "source": []
  }
 ],
 "metadata": {
  "kernelspec": {
   "display_name": "Python 3 (ipykernel)",
   "language": "python",
   "name": "python3"
  },
  "language_info": {
   "codemirror_mode": {
    "name": "ipython",
    "version": 3
   },
   "file_extension": ".py",
   "mimetype": "text/x-python",
   "name": "python",
   "nbconvert_exporter": "python",
   "pygments_lexer": "ipython3",
   "version": "3.10.0"
  }
 },
 "nbformat": 4,
 "nbformat_minor": 2
}
