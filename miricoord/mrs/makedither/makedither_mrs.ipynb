{
 "cells": [
  {
   "cell_type": "markdown",
   "metadata": {},
   "source": [
    "<img style=\"float: center;\" src='https://github.com/STScI-MIRI/MRS-ExampleNB/raw/main/assets/banner1.png' alt=\"stsci_logo\" width=\"900px\"/> "
   ]
  },
  {
   "cell_type": "markdown",
   "metadata": {},
   "source": [
    "<a id=\"title_ID\"></a>\n",
    "# CAP-406: Create the MIRI MRS dither patterns #"
   ]
  },
  {
   "cell_type": "markdown",
   "metadata": {},
   "source": [
    "**Author**: David Law, AURA Associate Astronomer, MIRI branch\n",
    "<br>\n",
    "**Last Updated**: June 08, 2021"
   ]
  },
  {
   "cell_type": "markdown",
   "metadata": {},
   "source": [
    "<font color='white'>-</font>Introduction <a class=\"anchor\" id=\"intro\"></a>\n",
    "------------------"
   ]
  },
  {
   "cell_type": "markdown",
   "metadata": {},
   "source": [
    "The purpose of this notebook is to create the MIRI MRS dither patterns from a given set of MRS distortion files using a series of pre-defined algorithms that account for along-slice and across-slice nominal spacing.  The basic idea is as illustrated in this diagram:\n",
    "\n",
    "<img style=\"float: center;\" src=\"./assets/diagram.png\" alt=\"stsci_logo\" width=\"500px\"/> \n",
    "\n",
    "The MRS is sampled in the across-slice direction (beta) by the slice width, and in the along-slice direction (alpha) by the pixel size.  At all wavelengths the observational PSF is undersampled by the slice width, and also by the pixel size at short wavelengths.  Therefore we want to define half-integer offsets between dither positions such that we can improve our sampling frequency.  This is complicated by the fact that the four MRS channels all observe simultaneously, and it takes different offsets to optimize each channel.  However, the MRS slice widths have been carefully chosen such that some offsets can simultaneously achieve half-integer offsets in all channels at once.\n",
    "\n",
    "As illustrated in the diagram above, the basic idea is that there is a 'long' offset alpha_long and beta_long that samples all channels reasonably while achieving good PSF separation, and a 'short' offset alpha_short and beta_short that helps mitigate the effect of field distortion on our ability to obtain good sampling with the long offsets.  The standard 4-point dither pattern is thus points i, i+1, i+2, i+3 in the above diagram (although not in that order), and this is additionally reflected in parity to include a second pattern i+4, i+5, i+6, i+7.  This basic pattern forms the basis of all point-source optimized dither patterns.  Extended-source dither patterns are also generalized from this concept, but minimize the total offset distance in order to ensure the maximum common field of view between pointings.  For further details see technical report JWST-STScI-005587."
   ]
  },
  {
   "cell_type": "markdown",
   "metadata": {},
   "source": [
    "Since the reconstruction of these patterns in the coordinate frame required by the spacecraft requires only a model of the MRS boresight and optical distortion, this CAP can construct it simply using the MRS distortion files.  It therefore reads in the latest distortion files, computes the relevant pixel/slice sizes and field boundaries, and then makes each of the point-source and extended source patterns for all 12 MRS bands.\n",
    "\n",
    "The actual work of calculating the dither patterns is done in the associated python code makedither_mrs.makepattern_ch1() (and etc).  The majority of this notebook is thus dedicated to rendering various informational plots about what the new dither patterns look like compared to the most recently archived dither patterns (which are included in the miricoord package for reference).\n",
    "\n",
    "We will determine whether or not the output is acceptable by whether it differs by more than 0.3 arcsec from the pre-flight solution.  Within this range some differences are inevitable as the distortion file is updated in flight.  Larger differences could also be ok if there is a substantial boresight shift in the MRS field locations, but may also indicate a problem with the centroiding of the pattern.  This can be difficult to tell, and if this occurs anyone using this notebook should contact an MRS distortion expert.\n",
    "\n",
    "The final outputs of this CAP are the plots below (along with some informational JDox figures plotted silently to disk) along with three different dither files: one formatted for the JWST PRD (i.e., to be delivered for flight operations), one formatted for mirisim (i.e., to be delivered to the MIRI instrument simulator), and one with additional details that can be included in a miricoord data directory for future reference and comparison."
   ]
  },
  {
   "cell_type": "markdown",
   "metadata": {},
   "source": [
    "<hr style=\"border:1px solid gray\"> </hr>"
   ]
  },
  {
   "cell_type": "markdown",
   "metadata": {},
   "source": [
    "<font color='white'>-</font>Setup <a class=\"anchor\" id=\"setup\"></a>\n",
    "------------------"
   ]
  },
  {
   "cell_type": "code",
   "execution_count": 1,
   "metadata": {},
   "outputs": [
    {
     "ename": "SyntaxError",
     "evalue": "expected ':' (makedither_mrs.py, line 427)",
     "output_type": "error",
     "traceback": [
      "Traceback \u001b[0;36m(most recent call last)\u001b[0m:\n",
      "  File \u001b[1;32m~/anaconda3/envs/jwst/lib/python3.10/site-packages/IPython/core/interactiveshell.py:3361\u001b[0m in \u001b[1;35mrun_code\u001b[0m\n    exec(code_obj, self.user_global_ns, self.user_ns)\n",
      "\u001b[0;36m  Input \u001b[0;32mIn [1]\u001b[0;36m in \u001b[0;35m<cell line: 18>\u001b[0;36m\u001b[0m\n\u001b[0;31m    import miricoord.mrs.makedither.makedither_mrs as mrsd\u001b[0m\n",
      "\u001b[0;36m  File \u001b[0;32m~/jwcode/miricoord/miricoord/mrs/makedither/makedither_mrs.py:427\u001b[0;36m\u001b[0m\n\u001b[0;31m    for ii in range(52:):\u001b[0m\n\u001b[0m                   ^\u001b[0m\n\u001b[0;31mSyntaxError\u001b[0m\u001b[0;31m:\u001b[0m expected ':'\n"
     ]
    }
   ],
   "source": [
    "# Import the required libraries\n",
    "import os as os\n",
    "import numpy as np\n",
    "import datetime\n",
    "from astropy.io import ascii\n",
    "from numpy.testing import assert_allclose\n",
    "import pdb as pdb\n",
    "\n",
    "from IPython.display import HTML as html_print\n",
    "from IPython.display import display\n",
    "\n",
    "import matplotlib as mpl\n",
    "import matplotlib.pyplot as plt\n",
    "from IPython.display import Markdown, display\n",
    "\n",
    "# These functions all require the miricoord package\n",
    "import miricoord.mrs.mrs_tools as mrst\n",
    "import miricoord.mrs.makedither.makedither_mrs as mrsd\n",
    "import miricoord.mrs.makesiaf.makesiaf_mrs as makesiaf"
   ]
  },
  {
   "cell_type": "code",
   "execution_count": null,
   "metadata": {},
   "outputs": [],
   "source": [
    "# Define some convenience functions\n",
    "vertxt='FLT-1'\n",
    "\n",
    "def printmd(string, color=None):\n",
    "    colorstr = \"<span style='color:{}'>{}</span>\".format(color, string)\n",
    "    display(Markdown(colorstr))\n",
    "    \n",
    "def statustext(status):\n",
    "    if (status == 0):\n",
    "        text='OK'\n",
    "    elif (status == 1):\n",
    "        text='**WARNING**'\n",
    "    else:\n",
    "        text='WARNING'\n",
    "    return text\n",
    "\n",
    "def statuscolor(status):\n",
    "    if (status == 0):\n",
    "        color='green'\n",
    "    elif (status == 1):\n",
    "        color='red'\n",
    "    else:\n",
    "        color='black'     \n",
    "    return color\n",
    "\n",
    "def cstr(s, color='black'):\n",
    "    return \"<text style=color:{}>{}</text>\".format(color, s)\n",
    "\n",
    "def print_color(t):\n",
    "    display(html_print(' '.join([cstr(ti, color=ci) for ti,ci in t])))"
   ]
  },
  {
   "cell_type": "markdown",
   "metadata": {},
   "source": [
    "### Output Files ###\n",
    "Set up where we want the output files to go.  By default, we'll assume that the base directory\n",
    "$MIRICOORD_DATA_DIR has been define in your .cshrc or .bashrc shell.  If using the standard MIRI Commissioning Box\n",
    "repository, this might be something like:\n",
    "\n",
    "setenv MIRIBOX ~/Box/MIRI-COMM/MIRI-COMM-Team<br>\n",
    "setenv MIRICOORD_DATA_DIR $MIRIBOX/Sandbox/dlaw/miricoord_data_dir/\n",
    "\n",
    "Output will be written to $MIRICOORD_DATA_DIR/dithers/temp/ by default."
   ]
  },
  {
   "cell_type": "code",
   "execution_count": null,
   "metadata": {},
   "outputs": [],
   "source": [
    "# If the default output directory isn't set by these paths, just use the local directory\n",
    "if \"MIRICOORD_DATA_DIR\" in os.environ:\n",
    "    data_dir=os.getenv('MIRICOORD_DATA_DIR')+'dithers/temp/'\n",
    "    if not os.path.exists(data_dir):\n",
    "        os.makedirs(data_dir)\n",
    "else:\n",
    "    data_dir='./'"
   ]
  },
  {
   "cell_type": "code",
   "execution_count": null,
   "metadata": {},
   "outputs": [],
   "source": [
    "# Date with which to mark the new dither files\n",
    "now=datetime.datetime.now()\n",
    "nowstring=now.ctime()\n",
    "nowstring=nowstring[4:8]+nowstring[20:24]"
   ]
  },
  {
   "cell_type": "markdown",
   "metadata": {},
   "source": [
    "### Previous Dither File ###\n",
    "Read in the previous set of dithers from the data directory within miricoord.  Note that code required here might change as the old format is updated."
   ]
  },
  {
   "cell_type": "code",
   "execution_count": null,
   "metadata": {},
   "outputs": [],
   "source": [
    "# PRDOPSSOC-051.txt is the final pre-flight dither pattern\n",
    "prevfile=os.path.join(os.path.dirname(os.path.dirname(os.path.dirname(os.getcwd()))),'data/dithers/mrsdither-PRDOPSSOC-051.txt')"
   ]
  },
  {
   "cell_type": "code",
   "execution_count": null,
   "metadata": {},
   "outputs": [],
   "source": [
    "data=ascii.read(prevfile)\n",
    "v2_old,v3_old=data['V2'].data,data['V3'].data\n",
    "v2_old_ch1,v3_old_ch1=v2_old[0:8],v3_old[0:8]\n",
    "v2_old_ch2,v3_old_ch2=v2_old[8:16],v3_old[8:16]\n",
    "v2_old_ch3,v3_old_ch3=v2_old[16:24],v3_old[16:24]\n",
    "v2_old_ch4,v3_old_ch4=v2_old[24:32],v3_old[24:32]\n",
    "v2_old_eall,v3_old_eall=v2_old[32:36],v3_old[32:36]\n",
    "v2_old_ech1,v3_old_ech1=v2_old[36:40],v3_old[36:40]\n",
    "v2_old_ech2,v3_old_ech2=v2_old[40:44],v3_old[40:44]\n",
    "v2_old_ech3,v3_old_ech3=v2_old[44:48],v3_old[44:48]\n",
    "v2_old_ech4,v3_old_ech4=v2_old[48:52],v3_old[48:52]"
   ]
  },
  {
   "cell_type": "markdown",
   "metadata": {},
   "source": [
    "<hr style=\"border:1px solid gray\"> </hr>"
   ]
  },
  {
   "cell_type": "markdown",
   "metadata": {},
   "source": [
    "<font color='white'>-</font>Calculations<a class=\"anchor\" id=\"calc\"></a>\n",
    "------------------"
   ]
  },
  {
   "cell_type": "markdown",
   "metadata": {},
   "source": [
    "### Define the distortion files to use to create the new dither pattern ###"
   ]
  },
  {
   "cell_type": "code",
   "execution_count": null,
   "metadata": {},
   "outputs": [],
   "source": [
    "# Here we'll use FLT-1, but this will need to be updated as necessary.\n",
    "# We rely on the distortion files being properly imported into miricoord first as part of the delivery\n",
    "# of the distortion files earlier in commissioning.\n",
    "mrst.set_toolversion('flt1')\n",
    "mrst.version()"
   ]
  },
  {
   "cell_type": "code",
   "execution_count": null,
   "metadata": {},
   "outputs": [],
   "source": [
    "# Define the field boundaries used by the SIAF\n",
    "# We create all of this anew instead of simply reading the SIAF because\n",
    "# sometimes it takes a long time to get the SIAF PRD updated\n",
    "siaf1A=makesiaf.create_siaf_oneband('1A')\n",
    "siaf1B=makesiaf.create_siaf_oneband('1B')\n",
    "siaf1C=makesiaf.create_siaf_oneband('1C')\n",
    "\n",
    "siaf2A=makesiaf.create_siaf_oneband('2A')\n",
    "siaf2B=makesiaf.create_siaf_oneband('2B')\n",
    "siaf2C=makesiaf.create_siaf_oneband('2C')\n",
    "\n",
    "siaf3A=makesiaf.create_siaf_oneband('3A')\n",
    "siaf3B=makesiaf.create_siaf_oneband('3B')\n",
    "siaf3C=makesiaf.create_siaf_oneband('3C')\n",
    "\n",
    "siaf4A=makesiaf.create_siaf_oneband('4A')\n",
    "siaf4B=makesiaf.create_siaf_oneband('4B')\n",
    "siaf4C=makesiaf.create_siaf_oneband('4C')"
   ]
  },
  {
   "cell_type": "markdown",
   "metadata": {},
   "source": [
    "### Calculate actual pixel sizes and slice widths ###"
   ]
  },
  {
   "cell_type": "code",
   "execution_count": null,
   "metadata": {},
   "outputs": [],
   "source": [
    "# This sets the pixel and slice sizes in a GLOBAL variable\n",
    "mrsd.setsizes(verbose=1)"
   ]
  },
  {
   "cell_type": "markdown",
   "metadata": {},
   "source": [
    "### Set up a status descriptors ###"
   ]
  },
  {
   "cell_type": "code",
   "execution_count": null,
   "metadata": {},
   "outputs": [],
   "source": [
    "# We'll set up variables to track the status of each set of dither patterns\n",
    "# so that we can summarize the results at the end of this notebook.\n",
    "# 0=good, 1=bad, default is BAD\n",
    "\n",
    "status_pt_ch1=1\n",
    "status_pt_ch2=1\n",
    "status_pt_ch3=1\n",
    "status_pt_ch4=1\n",
    "\n",
    "status_ex_all=1\n",
    "status_ex_ch1=1\n",
    "status_ex_ch2=1\n",
    "status_ex_ch3=1\n",
    "status_ex_ch4=1"
   ]
  },
  {
   "cell_type": "markdown",
   "metadata": {},
   "source": [
    "Now construct and evaluate each dither pattern."
   ]
  },
  {
   "cell_type": "markdown",
   "metadata": {},
   "source": [
    "### Ch1 point-source dithers ###"
   ]
  },
  {
   "cell_type": "code",
   "execution_count": null,
   "metadata": {},
   "outputs": [],
   "source": [
    "v2_ch1,v3_ch1=mrsd.makepattern_ch1(siaf1A,siaf1B,siaf1C)"
   ]
  },
  {
   "cell_type": "code",
   "execution_count": null,
   "metadata": {},
   "outputs": [],
   "source": [
    "plt.figure(figsize=(5,5),dpi=150)\n",
    "ax = plt.gca()\n",
    "plt.xlim(-501,-506)\n",
    "plt.ylim(-321,-316)\n",
    "plt.xlabel('V2 (arcsec)')\n",
    "plt.ylabel('V3 (arcsec)')\n",
    "    \n",
    "plt.plot(v2_old_ch1,v3_old_ch1,'.',color='gray',label='Old')\n",
    "for i in range(0,v2_old_ch1.size):\n",
    "    circle1 = mpl.patches.Circle((v2_old_ch1[i], v3_old_ch1[i]), mrsd.maxfwhm(1),linewidth=1,edgecolor='gray', facecolor=(0, 0, 0, .0125))\n",
    "    ax.add_artist(circle1)    \n",
    "\n",
    "plt.plot(v2_ch1,v3_ch1,'x',color='b',label='New')\n",
    "for i in range(0,v2_ch1.size):\n",
    "    circle1 = mpl.patches.Circle((v2_ch1[i], v3_ch1[i]), mrsd.maxfwhm(1),linewidth=1,edgecolor='b', facecolor=(0, 0, 0, .0125))\n",
    "    ax.add_artist(circle1)\n",
    "\n",
    "plt.plot(siaf1A['inscr_v2_corners'],siaf1A['inscr_v3_corners'],color='b',linewidth=1.5)\n",
    "plt.plot(siaf1B['inscr_v2_corners'],siaf1B['inscr_v3_corners'],'--',color='b',linewidth=1.5)\n",
    "plt.plot(siaf1C['inscr_v2_corners'],siaf1C['inscr_v3_corners'],':',color='b',linewidth=1.5)\n",
    "plt.plot(siaf2A['inscr_v2_corners'],siaf2A['inscr_v3_corners'],color='g',linewidth=1.5)\n",
    "plt.plot(siaf3A['inscr_v2_corners'],siaf3A['inscr_v3_corners'],color='gold',linewidth=1.5)\n",
    "plt.plot(siaf4A['inscr_v2_corners'],siaf4A['inscr_v3_corners'],color='r',linewidth=1.5)\n",
    "plt.title('Flight '+vertxt+' ('+nowstring+'): Ch1 Pt Source Dithers')\n",
    "plt.legend()"
   ]
  },
  {
   "cell_type": "code",
   "execution_count": null,
   "metadata": {},
   "outputs": [],
   "source": [
    "# Test that they didn't change too much\n",
    "diff = np.sqrt((v2_ch1-v2_old_ch1)**2 + (v3_ch1-v3_old_ch1)**2)\n",
    "if (np.max(diff) > 0.3):\n",
    "    status_pt_ch1=1\n",
    "    printmd('**WARNING**: Dithers have changed by > 0.3 arcsec, are you sure this was intentional?', color=\"red\")\n",
    "else:\n",
    "    status_pt_ch1=0\n",
    "    printmd('**Looks OK!**', color=\"green\")"
   ]
  },
  {
   "cell_type": "code",
   "execution_count": null,
   "metadata": {},
   "outputs": [],
   "source": []
  },
  {
   "cell_type": "markdown",
   "metadata": {},
   "source": [
    "### Ch2 point-source dithers ###"
   ]
  },
  {
   "cell_type": "code",
   "execution_count": null,
   "metadata": {},
   "outputs": [],
   "source": [
    "v2_ch2,v3_ch2=mrsd.makepattern_ch2(siaf2A,siaf2B,siaf2C)"
   ]
  },
  {
   "cell_type": "code",
   "execution_count": null,
   "metadata": {},
   "outputs": [],
   "source": [
    "plt.figure(figsize=(5,5),dpi=150)\n",
    "ax = plt.gca()\n",
    "\n",
    "plt.xlim(-500,-507)\n",
    "plt.ylim(-323,-316)\n",
    "plt.xlabel('V2 (arcsec)')\n",
    "plt.ylabel('V3 (arcsec)')\n",
    "\n",
    "plt.plot(v2_old_ch2,v3_old_ch2,'.',color='gray',label='Old')\n",
    "for i in range(0,v2_old_ch2.size):\n",
    "    circle1 = mpl.patches.Circle((v2_old_ch2[i], v3_old_ch2[i]), mrsd.maxfwhm(2),linewidth=1,edgecolor='gray', facecolor=(0, 0, 0, .0125))\n",
    "    ax.add_artist(circle1)    \n",
    "\n",
    "plt.plot(v2_ch2,v3_ch2,'x',color='g',label='New')\n",
    "for i in range(0,v2_ch2.size):\n",
    "    circle1 = mpl.patches.Circle((v2_ch2[i], v3_ch2[i]), mrsd.maxfwhm(2),linewidth=1,edgecolor='g', facecolor=(0, 0, 0, .0125))\n",
    "    ax.add_artist(circle1)  \n",
    "    \n",
    "plt.plot(siaf1A['inscr_v2_corners'],siaf1A['inscr_v3_corners'],color='b',linewidth=1.5)\n",
    "plt.plot(siaf2A['inscr_v2_corners'],siaf2A['inscr_v3_corners'],color='g',linewidth=1.5)\n",
    "plt.plot(siaf2B['inscr_v2_corners'],siaf2B['inscr_v3_corners'],'--',color='g',linewidth=1.5)\n",
    "plt.plot(siaf2C['inscr_v2_corners'],siaf2C['inscr_v3_corners'],':',color='g',linewidth=1.5)\n",
    "plt.title('Flight '+vertxt+' ('+nowstring+'): Ch2 Pt Source Dithers')\n",
    "plt.legend()"
   ]
  },
  {
   "cell_type": "code",
   "execution_count": null,
   "metadata": {},
   "outputs": [],
   "source": [
    "# Test that they didn't change too much\n",
    "diff = np.sqrt((v2_ch2-v2_old_ch2)**2 + (v3_ch2-v3_old_ch2)**2)\n",
    "if (np.max(diff) > 0.3):\n",
    "    status_pt_ch2=1\n",
    "    printmd('**WARNING**: Dithers have changed by > 0.3 arcsec, are you sure this was intentional?', color=\"red\")\n",
    "else:\n",
    "    status_pt_ch2=0\n",
    "    printmd('**Looks OK!**', color=\"green\")"
   ]
  },
  {
   "cell_type": "code",
   "execution_count": null,
   "metadata": {},
   "outputs": [],
   "source": []
  },
  {
   "cell_type": "markdown",
   "metadata": {},
   "source": [
    "### Ch3 point-source dithers ###"
   ]
  },
  {
   "cell_type": "code",
   "execution_count": null,
   "metadata": {},
   "outputs": [],
   "source": [
    "v2_ch3,v3_ch3=mrsd.makepattern_ch3(siaf3A,siaf3B,siaf3C)"
   ]
  },
  {
   "cell_type": "code",
   "execution_count": null,
   "metadata": {},
   "outputs": [],
   "source": [
    "plt.figure(figsize=(5,5),dpi=150)\n",
    "ax = plt.gca()\n",
    "\n",
    "plt.xlim(-497.4,-509.4)\n",
    "plt.ylim(-325.8,-313.8)\n",
    "plt.xlabel('V2 (arcsec)')\n",
    "plt.ylabel('V3 (arcsec)')\n",
    "\n",
    "plt.plot(v2_old_ch3,v3_old_ch3,'.',color='gray',label='Old')\n",
    "for i in range(0,v2_old_ch3.size):\n",
    "    circle1 = mpl.patches.Circle((v2_old_ch3[i], v3_old_ch3[i]), mrsd.maxfwhm(3),linewidth=1,edgecolor='gray', facecolor=(0, 0, 0, .0125))\n",
    "    ax.add_artist(circle1)    \n",
    "\n",
    "plt.plot(v2_ch3,v3_ch3,'x',color='gold',label='New')\n",
    "for i in range(0,v2_ch3.size):\n",
    "    circle1 = mpl.patches.Circle((v2_ch3[i], v3_ch3[i]), mrsd.maxfwhm(3),linewidth=1,edgecolor='gold', facecolor=(0, 0, 0, .0125))\n",
    "    ax.add_artist(circle1)  \n",
    "    \n",
    "plt.plot(siaf1A['inscr_v2_corners'],siaf1A['inscr_v3_corners'],color='b',linewidth=1.5)\n",
    "plt.plot(siaf2A['inscr_v2_corners'],siaf2A['inscr_v3_corners'],color='g',linewidth=1.5)\n",
    "plt.plot(siaf3A['inscr_v2_corners'],siaf3A['inscr_v3_corners'],color='gold',linewidth=1.5)\n",
    "plt.plot(siaf3B['inscr_v2_corners'],siaf3B['inscr_v3_corners'],'--',color='gold',linewidth=1.5)\n",
    "plt.plot(siaf3C['inscr_v2_corners'],siaf3C['inscr_v3_corners'],':',color='gold',linewidth=1.5)\n",
    "plt.plot(siaf4A['inscr_v2_corners'],siaf4A['inscr_v3_corners'],color='r',linewidth=1.5)\n",
    "plt.title('Flight '+vertxt+' ('+nowstring+'): Ch3 Pt Source Dithers')\n",
    "plt.legend()"
   ]
  },
  {
   "cell_type": "code",
   "execution_count": null,
   "metadata": {},
   "outputs": [],
   "source": [
    "# Test that they didn't change too much\n",
    "diff = np.sqrt((v2_ch3-v2_old_ch3)**2 + (v3_ch3-v3_old_ch3)**2)\n",
    "if (np.max(diff) > 0.3):\n",
    "    status_pt_ch3=1\n",
    "    printmd('**WARNING**: Dithers have changed by > 0.3 arcsec, are you sure this was intentional?', color=\"red\")\n",
    "else:\n",
    "    status_pt_ch3=0\n",
    "    printmd('**Looks OK!**', color=\"green\")"
   ]
  },
  {
   "cell_type": "code",
   "execution_count": null,
   "metadata": {},
   "outputs": [],
   "source": []
  },
  {
   "cell_type": "markdown",
   "metadata": {},
   "source": [
    "### Ch4 point-source dithers ###"
   ]
  },
  {
   "cell_type": "code",
   "execution_count": null,
   "metadata": {},
   "outputs": [],
   "source": [
    "v2_ch4,v3_ch4=mrsd.makepattern_ch4(siaf4A,siaf4B,siaf4C)"
   ]
  },
  {
   "cell_type": "code",
   "execution_count": null,
   "metadata": {},
   "outputs": [],
   "source": [
    "plt.figure(figsize=(5,5),dpi=150)\n",
    "ax = plt.gca()\n",
    "\n",
    "plt.xlim(-497.4,-509.4)\n",
    "plt.ylim(-325.8,-313.8)\n",
    "plt.xlabel('V2 (arcsec)')\n",
    "plt.ylabel('V3 (arcsec)')\n",
    "\n",
    "plt.plot(v2_old_ch4,v3_old_ch4,'.',color='gray',label='Old')\n",
    "for i in range(0,v2_old_ch4.size):\n",
    "    circle1 = mpl.patches.Circle((v2_old_ch4[i], v3_old_ch4[i]), mrsd.maxfwhm(4),linewidth=1,edgecolor='gray', facecolor=(0, 0, 0, .0125))\n",
    "    ax.add_artist(circle1)    \n",
    "\n",
    "plt.plot(v2_ch4,v3_ch4,'x',color='r',label='New')\n",
    "for i in range(0,v2_ch4.size):\n",
    "    circle1 = mpl.patches.Circle((v2_ch4[i], v3_ch4[i]), mrsd.maxfwhm(4),linewidth=1,edgecolor='r', facecolor=(0, 0, 0, .0125))\n",
    "    ax.add_artist(circle1)\n",
    "\n",
    "plt.plot(siaf1A['inscr_v2_corners'],siaf1A['inscr_v3_corners'],color='b',linewidth=1.5)\n",
    "plt.plot(siaf2A['inscr_v2_corners'],siaf2A['inscr_v3_corners'],color='g',linewidth=1.5)\n",
    "plt.plot(siaf3A['inscr_v2_corners'],siaf3A['inscr_v3_corners'],color='gold',linewidth=1.5)\n",
    "plt.plot(siaf4A['inscr_v2_corners'],siaf4A['inscr_v3_corners'],color='r',linewidth=1.5)\n",
    "plt.plot(siaf4B['inscr_v2_corners'],siaf4B['inscr_v3_corners'],'--',color='r',linewidth=1.5)\n",
    "plt.plot(siaf4C['inscr_v2_corners'],siaf4C['inscr_v3_corners'],':',color='r',linewidth=1.5)\n",
    "plt.title('Flight '+vertxt+' ('+nowstring+'): Ch4 Pt Source Dithers')\n",
    "plt.legend()"
   ]
  },
  {
   "cell_type": "code",
   "execution_count": null,
   "metadata": {},
   "outputs": [],
   "source": [
    "# Test that they didn't change too much\n",
    "diff = np.sqrt((v2_ch4-v2_old_ch4)**2 + (v3_ch4-v3_old_ch4)**2)\n",
    "if (np.max(diff) > 0.3):\n",
    "    status_pt_ch4=1\n",
    "    printmd('**WARNING**: Dithers have changed by > 0.3 arcsec, are you sure this was intentional?', color=\"red\")\n",
    "else:\n",
    "    status_pt_ch4=0\n",
    "    printmd('**Looks OK!**', color=\"green\")"
   ]
  },
  {
   "cell_type": "code",
   "execution_count": null,
   "metadata": {},
   "outputs": [],
   "source": []
  },
  {
   "cell_type": "markdown",
   "metadata": {},
   "source": [
    "### Make the extended source patterns ###"
   ]
  },
  {
   "cell_type": "code",
   "execution_count": null,
   "metadata": {},
   "outputs": [],
   "source": [
    "v2_ext_all,v3_ext_all=mrsd.makepattern_ext_all(siaf1A,siaf1B,siaf1C)\n",
    "v2_ext_ch1,v3_ext_ch1=mrsd.makepattern_ext_ChX(v2_ch1,v3_ch1,siaf1A)\n",
    "v2_ext_ch2,v3_ext_ch2=mrsd.makepattern_ext_ChX(v2_ch2,v3_ch2,siaf2A)\n",
    "v2_ext_ch3,v3_ext_ch3=mrsd.makepattern_ext_ChX(v2_ch3,v3_ch3,siaf3A)\n",
    "v2_ext_ch4,v3_ext_ch4=mrsd.makepattern_ext_ChX(v2_ch4,v3_ch4,siaf4A)"
   ]
  },
  {
   "cell_type": "code",
   "execution_count": null,
   "metadata": {},
   "outputs": [],
   "source": []
  },
  {
   "cell_type": "markdown",
   "metadata": {},
   "source": [
    "### Extended source ALL dithers ###"
   ]
  },
  {
   "cell_type": "code",
   "execution_count": null,
   "metadata": {},
   "outputs": [],
   "source": [
    "plt.figure(figsize=(5,5),dpi=150)\n",
    "ax = plt.gca()\n",
    "\n",
    "plt.xlim(-497.4,-509.4)\n",
    "plt.ylim(-325.8,-313.8)\n",
    "plt.xlabel('V2 (arcsec)')\n",
    "plt.ylabel('V3 (arcsec)')\n",
    "\n",
    "plt.plot(v2_old_eall,v3_old_eall,'.',color='gray',label='Old')\n",
    "for i in range(0,v2_old_eall.size):\n",
    "    circle1 = mpl.patches.Circle((v2_old_eall[i], v3_old_eall[i]), mrsd.maxfwhm(4),linewidth=1,edgecolor='gray', facecolor=(0, 0, 0, .0125))\n",
    "    ax.add_artist(circle1)    \n",
    "\n",
    "plt.plot(v2_ext_all,v3_ext_all,'x',color='b',label='New')\n",
    "for i in range(0,v2_ext_all.size):\n",
    "    circle1 = mpl.patches.Circle((v2_ext_all[i], v3_ext_all[i]), mrsd.maxfwhm(4),linewidth=1,edgecolor='b', facecolor=(0, 0, 0, .0125))\n",
    "    ax.add_artist(circle1)\n",
    "\n",
    "plt.plot(siaf1A['inscr_v2_corners'],siaf1A['inscr_v3_corners'],color='b',linewidth=1.5)\n",
    "plt.plot(siaf2A['inscr_v2_corners'],siaf2A['inscr_v3_corners'],color='g',linewidth=1.5)\n",
    "plt.plot(siaf3A['inscr_v2_corners'],siaf3A['inscr_v3_corners'],color='gold',linewidth=1.5)\n",
    "plt.plot(siaf4A['inscr_v2_corners'],siaf4A['inscr_v3_corners'],color='r',linewidth=1.5)\n",
    "plt.title('Flight '+vertxt+' ('+nowstring+'): Ext Source ALL Dithers')\n",
    "plt.legend()"
   ]
  },
  {
   "cell_type": "code",
   "execution_count": null,
   "metadata": {},
   "outputs": [],
   "source": [
    "# Test that they didn't change too much\n",
    "diff = np.sqrt((v2_ext_all-v2_old_eall)**2 + (v3_ext_all-v3_old_eall)**2)\n",
    "if (np.max(diff) > 0.3):\n",
    "    status_ex_all=1\n",
    "    printmd('**WARNING**: Dithers have changed by > 0.3 arcsec, are you sure this was intentional?', color=\"red\")\n",
    "else:\n",
    "    status_ex_all=0\n",
    "    printmd('**Looks OK!**', color=\"green\")"
   ]
  },
  {
   "cell_type": "code",
   "execution_count": null,
   "metadata": {},
   "outputs": [],
   "source": []
  },
  {
   "cell_type": "markdown",
   "metadata": {},
   "source": [
    "### Extended source Ch1 dithers ###"
   ]
  },
  {
   "cell_type": "code",
   "execution_count": null,
   "metadata": {},
   "outputs": [],
   "source": [
    "plt.figure(figsize=(5,5),dpi=150)\n",
    "ax = plt.gca()\n",
    "\n",
    "plt.xlim(-497.4,-509.4)\n",
    "plt.ylim(-325.8,-313.8)\n",
    "plt.xlabel('V2 (arcsec)')\n",
    "plt.ylabel('V3 (arcsec)')\n",
    "\n",
    "plt.plot(v2_old_ech1,v3_old_ech1,'.',color='gray',label='Old')\n",
    "for i in range(0,v2_old_ech1.size):\n",
    "    circle1 = mpl.patches.Circle((v2_old_ech1[i], v3_old_ech1[i]), mrsd.maxfwhm(1),linewidth=1,edgecolor='gray', facecolor=(0, 0, 0, .0125))\n",
    "    ax.add_artist(circle1)    \n",
    "\n",
    "plt.plot(v2_ext_ch1,v3_ext_ch1,'x',color='b',label='New')\n",
    "for i in range(0,v2_ext_ch1.size):\n",
    "    circle1 = mpl.patches.Circle((v2_ext_ch1[i], v3_ext_ch1[i]), mrsd.maxfwhm(1),linewidth=1,edgecolor='b', facecolor=(0, 0, 0, .0125))\n",
    "    ax.add_artist(circle1)\n",
    "\n",
    "plt.plot(siaf1A['inscr_v2_corners'],siaf1A['inscr_v3_corners'],color='b',linewidth=1.5)\n",
    "plt.plot(siaf2A['inscr_v2_corners'],siaf2A['inscr_v3_corners'],color='g',linewidth=1.5)\n",
    "plt.plot(siaf3A['inscr_v2_corners'],siaf3A['inscr_v3_corners'],color='gold',linewidth=1.5)\n",
    "plt.plot(siaf4A['inscr_v2_corners'],siaf4A['inscr_v3_corners'],color='r',linewidth=1.5)\n",
    "plt.title('Flight '+vertxt+' ('+nowstring+'): Ext Source Ch1 Dithers')\n",
    "plt.legend()"
   ]
  },
  {
   "cell_type": "code",
   "execution_count": null,
   "metadata": {},
   "outputs": [],
   "source": [
    "# Test that they didn't change too much\n",
    "diff = np.sqrt((v2_ext_ch1-v2_old_ech1)**2 + (v3_ext_ch1-v3_old_ech1)**2)\n",
    "if (np.max(diff) > 0.3):\n",
    "    status_ex_ch1=1\n",
    "    printmd('**WARNING**: Dithers have changed by > 0.3 arcsec, are you sure this was intentional?', color=\"red\")\n",
    "else:\n",
    "    status_ex_ch1=0\n",
    "    printmd('**Looks OK!**', color=\"green\")"
   ]
  },
  {
   "cell_type": "code",
   "execution_count": null,
   "metadata": {},
   "outputs": [],
   "source": []
  },
  {
   "cell_type": "markdown",
   "metadata": {},
   "source": [
    "### Extended source Ch2 dithers ###"
   ]
  },
  {
   "cell_type": "code",
   "execution_count": null,
   "metadata": {},
   "outputs": [],
   "source": [
    "plt.figure(figsize=(5,5),dpi=150)\n",
    "ax = plt.gca()\n",
    "\n",
    "plt.xlim(-497.4,-509.4)\n",
    "plt.ylim(-325.8,-313.8)\n",
    "plt.xlabel('V2 (arcsec)')\n",
    "plt.ylabel('V3 (arcsec)')\n",
    "\n",
    "plt.plot(v2_old_ech2,v3_old_ech2,'.',color='gray',label='Old')\n",
    "for i in range(0,v2_old_ech2.size):\n",
    "    circle1 = mpl.patches.Circle((v2_old_ech2[i], v3_old_ech2[i]), mrsd.maxfwhm(2),linewidth=1,edgecolor='gray', facecolor=(0, 0, 0, .0125))\n",
    "    ax.add_artist(circle1)    \n",
    "\n",
    "plt.plot(v2_ext_ch2,v3_ext_ch2,'x',color='g',label='New')\n",
    "for i in range(0,v2_ext_ch2.size):\n",
    "    circle1 = mpl.patches.Circle((v2_ext_ch2[i], v3_ext_ch2[i]), mrsd.maxfwhm(2),linewidth=1,edgecolor='g', facecolor=(0, 0, 0, .0125))\n",
    "    ax.add_artist(circle1)\n",
    "\n",
    "plt.plot(siaf1A['inscr_v2_corners'],siaf1A['inscr_v3_corners'],color='b',linewidth=1.5)\n",
    "plt.plot(siaf2A['inscr_v2_corners'],siaf2A['inscr_v3_corners'],color='g',linewidth=1.5)\n",
    "plt.plot(siaf3A['inscr_v2_corners'],siaf3A['inscr_v3_corners'],color='gold',linewidth=1.5)\n",
    "plt.plot(siaf4A['inscr_v2_corners'],siaf4A['inscr_v3_corners'],color='r',linewidth=1.5)\n",
    "plt.title('Flight '+vertxt+' ('+nowstring+'): Ext Source Ch2 Dithers')\n",
    "plt.legend()"
   ]
  },
  {
   "cell_type": "code",
   "execution_count": null,
   "metadata": {},
   "outputs": [],
   "source": [
    "# Test that they didn't change too much\n",
    "diff = np.sqrt((v2_ext_ch2-v2_old_ech2)**2 + (v3_ext_ch2-v3_old_ech2)**2)\n",
    "if (np.max(diff) > 0.3):\n",
    "    status_ex_ch2=1\n",
    "    printmd('**WARNING**: Dithers have changed by > 0.3 arcsec, are you sure this was intentional?', color=\"red\")\n",
    "else:\n",
    "    status_ex_ch2=0\n",
    "    printmd('**Looks OK!**', color=\"green\")"
   ]
  },
  {
   "cell_type": "code",
   "execution_count": null,
   "metadata": {},
   "outputs": [],
   "source": []
  },
  {
   "cell_type": "markdown",
   "metadata": {},
   "source": [
    "### Extended source Ch3 dithers ###"
   ]
  },
  {
   "cell_type": "code",
   "execution_count": null,
   "metadata": {},
   "outputs": [],
   "source": [
    "plt.figure(figsize=(5,5),dpi=150)\n",
    "ax = plt.gca()\n",
    "\n",
    "plt.xlim(-497.4,-509.4)\n",
    "plt.ylim(-325.8,-313.8)\n",
    "plt.xlabel('V2 (arcsec)')\n",
    "plt.ylabel('V3 (arcsec)')\n",
    "\n",
    "plt.plot(v2_old_ech3,v3_old_ech3,'.',color='gray',label='Old')\n",
    "for i in range(0,v2_old_ech3.size):\n",
    "    circle1 = mpl.patches.Circle((v2_old_ech3[i], v3_old_ech3[i]), mrsd.maxfwhm(3),linewidth=1,edgecolor='gray', facecolor=(0, 0, 0, .0125))\n",
    "    ax.add_artist(circle1)    \n",
    "\n",
    "plt.plot(v2_ext_ch3,v3_ext_ch3,'x',color='gold',label='New')\n",
    "for i in range(0,v2_ext_ch3.size):\n",
    "    circle1 = mpl.patches.Circle((v2_ext_ch3[i], v3_ext_ch3[i]), mrsd.maxfwhm(3),linewidth=1,edgecolor='gold', facecolor=(0, 0, 0, .0125))\n",
    "    ax.add_artist(circle1)\n",
    "\n",
    "plt.plot(siaf1A['inscr_v2_corners'],siaf1A['inscr_v3_corners'],color='b',linewidth=1.5)\n",
    "plt.plot(siaf2A['inscr_v2_corners'],siaf2A['inscr_v3_corners'],color='g',linewidth=1.5)\n",
    "plt.plot(siaf3A['inscr_v2_corners'],siaf3A['inscr_v3_corners'],color='gold',linewidth=1.5)\n",
    "plt.plot(siaf4A['inscr_v2_corners'],siaf4A['inscr_v3_corners'],color='r',linewidth=1.5)\n",
    "plt.title('Flight '+vertxt+' ('+nowstring+'): Ext Source Ch3 Dithers')\n",
    "plt.legend()"
   ]
  },
  {
   "cell_type": "code",
   "execution_count": null,
   "metadata": {},
   "outputs": [],
   "source": [
    "# Test that they didn't change too much\n",
    "diff = np.sqrt((v2_ext_ch3-v2_old_ech3)**2 + (v3_ext_ch3-v3_old_ech3)**2)\n",
    "if (np.max(diff) > 0.3):\n",
    "    status_ex_ch3=1\n",
    "    printmd('**WARNING**: Dithers have changed by > 0.3 arcsec, are you sure this was intentional?', color=\"red\")\n",
    "else:\n",
    "    status_ex_ch3=0\n",
    "    printmd('**Looks OK!**', color=\"green\")"
   ]
  },
  {
   "cell_type": "code",
   "execution_count": null,
   "metadata": {},
   "outputs": [],
   "source": []
  },
  {
   "cell_type": "markdown",
   "metadata": {},
   "source": [
    "### Extended source Ch4 dithers ###"
   ]
  },
  {
   "cell_type": "code",
   "execution_count": null,
   "metadata": {},
   "outputs": [],
   "source": [
    "plt.figure(figsize=(5,5),dpi=150)\n",
    "ax = plt.gca()\n",
    "\n",
    "plt.xlim(-497.4,-509.4)\n",
    "plt.ylim(-325.8,-313.8)\n",
    "plt.xlabel('V2 (arcsec)')\n",
    "plt.ylabel('V3 (arcsec)')\n",
    "\n",
    "plt.plot(v2_old_ech4,v3_old_ech4,'.',color='gray',label='Old')\n",
    "for i in range(0,v2_old_ech4.size):\n",
    "    circle1 = mpl.patches.Circle((v2_old_ech4[i], v3_old_ech4[i]), mrsd.maxfwhm(4),linewidth=1,edgecolor='gray', facecolor=(0, 0, 0, .0125))\n",
    "    ax.add_artist(circle1)    \n",
    "\n",
    "plt.plot(v2_ext_ch4,v3_ext_ch4,'x',color='r',label='New')\n",
    "for i in range(0,v2_ext_ch4.size):\n",
    "    circle1 = mpl.patches.Circle((v2_ext_ch4[i], v3_ext_ch4[i]), mrsd.maxfwhm(4),linewidth=1,edgecolor='r', facecolor=(0, 0, 0, .0125))\n",
    "    ax.add_artist(circle1)\n",
    "\n",
    "plt.plot(siaf1A['inscr_v2_corners'],siaf1A['inscr_v3_corners'],color='b',linewidth=1.5)\n",
    "plt.plot(siaf2A['inscr_v2_corners'],siaf2A['inscr_v3_corners'],color='g',linewidth=1.5)\n",
    "plt.plot(siaf3A['inscr_v2_corners'],siaf3A['inscr_v3_corners'],color='gold',linewidth=1.5)\n",
    "plt.plot(siaf4A['inscr_v2_corners'],siaf4A['inscr_v3_corners'],color='r',linewidth=1.5)\n",
    "plt.title('Flight '+vertxt+' ('+nowstring+'): Ext Source Ch4 Dithers')\n",
    "plt.legend()"
   ]
  },
  {
   "cell_type": "code",
   "execution_count": null,
   "metadata": {},
   "outputs": [],
   "source": [
    "# Test that they didn't change too much\n",
    "diff = np.sqrt((v2_ext_ch4-v2_old_ech4)**2 + (v3_ext_ch4-v3_old_ech4)**2)\n",
    "if (np.max(diff) > 0.3):\n",
    "    status_ex_ch4=1\n",
    "    printmd('**WARNING**: Dithers have changed by > 0.3 arcsec, are you sure this was intentional?', color=\"red\")\n",
    "else:\n",
    "    status_ex_ch4=0\n",
    "    printmd('**Looks OK!**', color=\"green\")"
   ]
  },
  {
   "cell_type": "code",
   "execution_count": null,
   "metadata": {},
   "outputs": [],
   "source": []
  },
  {
   "cell_type": "markdown",
   "metadata": {},
   "source": [
    "### Calibration scan pattern ###"
   ]
  },
  {
   "cell_type": "code",
   "execution_count": null,
   "metadata": {},
   "outputs": [],
   "source": [
    "v2_ref,v3_ref=siaf1A['inscr_v2ref'],siaf1A['inscr_v3ref']\n",
    "\n",
    "v3space = 0.3\n",
    "v2space = 1.0\n",
    "\n",
    "v2min=-506\n",
    "v2max=-498\n",
    "v3min=-324\n",
    "v3max=-316\n",
    "\n",
    "nv3=(v3max-v3min)/v3space\n",
    "nv2=(v2max-v2min)/v2space\n",
    "\n",
    "v3_col1=np.arange(13)*v3space\n",
    "v3_col1=v3_col1-v3_col1[6]+v3_ref\n",
    "v2_col1=np.zeros_like(v3_col1)+v2_ref\n",
    "\n",
    "v3_col2=np.arange(14)*v3space\n",
    "v3_col2=v3_col2-v3_col2[6]+v3_ref\n",
    "v2_col2=np.zeros_like(v3_col2)+v2_ref-v2space\n",
    "\n",
    "v3_col3=np.arange(13)*v3space\n",
    "v3_col3=v3_col3-v3_col3[7]+v3_ref\n",
    "v2_col3=np.zeros_like(v3_col3)+v2_ref+v2space\n",
    "\n",
    "\n",
    "v3_col4=np.arange(6)*v3space*4\n",
    "v3_col4=v3_col4-v3_col4[3]+v3_ref\n",
    "v2_col4=np.zeros_like(v3_col4)+v2_ref+v2space+1.5*v2space\n",
    "\n",
    "v3_col5=np.arange(6)*v3space*4\n",
    "v3_col5=v3_col5-v3_col5[3]+v3_ref\n",
    "v2_col5=np.zeros_like(v3_col5)+v2_ref-v2space-1.5*v2space\n",
    "\n",
    "\n",
    "v3_col1=np.append(v3_col1,v3_col4[-1])\n",
    "v2_col1=np.append(v2_col1,v2_col1[0])\n",
    "v3_col1=np.append(v3_col1,v3_col4[0:2])\n",
    "v2_col1=np.append(v2_col1,v2_col1[0:2])\n",
    "\n",
    "v3_col2=np.append(v3_col2,v3_col4[0:2])\n",
    "v2_col2=np.append(v2_col2,v2_col2[0:2])\n",
    "\n",
    "v3_col3=np.append(v3_col3,v3_col4[0])\n",
    "v2_col3=np.append(v2_col3,v2_col3[0])\n",
    "\n",
    "v2_calib=np.append(v2_col1,v2_col2)\n",
    "v2_calib=np.append(v2_calib,v2_col3)\n",
    "v2_calib=np.append(v2_calib,v2_col4)\n",
    "v2_calib=np.append(v2_calib,v2_col5)\n",
    "\n",
    "v3_calib=np.append(v3_col1,v3_col2)\n",
    "v3_calib=np.append(v3_calib,v3_col3)\n",
    "v3_calib=np.append(v3_calib,v3_col4)\n",
    "v3_calib=np.append(v3_calib,v3_col5)\n"
   ]
  },
  {
   "cell_type": "code",
   "execution_count": null,
   "metadata": {},
   "outputs": [],
   "source": [
    "len(v2_calib)"
   ]
  },
  {
   "cell_type": "code",
   "execution_count": null,
   "metadata": {},
   "outputs": [],
   "source": [
    "plt.figure(figsize=(5,5),dpi=150)\n",
    "ax = plt.gca()\n",
    "\n",
    "plt.xlim(-499,-507)\n",
    "plt.ylim(-324,-315)\n",
    "plt.xlabel('V2 (arcsec)')\n",
    "plt.ylabel('V3 (arcsec)')\n",
    "\n",
    "plt.plot(v2_col1,v3_col1,'x',color='black')\n",
    "plt.plot(v2_col2,v3_col2,'x',color='black')\n",
    "plt.plot(v2_col3,v3_col3,'x',color='black')\n",
    "plt.plot(v2_col4,v3_col4,'x',color='black')\n",
    "plt.plot(v2_col5,v3_col5,'x',color='black')\n",
    "\n",
    "\n",
    "plt.plot(siaf1A['inscr_v2_corners'],siaf1A['inscr_v3_corners'],color='b',linewidth=1.5)\n",
    "plt.plot(siaf2A['inscr_v2_corners'],siaf2A['inscr_v3_corners'],color='g',linewidth=1.5)\n",
    "plt.plot(siaf3A['inscr_v2_corners'],siaf3A['inscr_v3_corners'],color='gold',linewidth=1.5)\n",
    "plt.plot(siaf4A['inscr_v2_corners'],siaf4A['inscr_v3_corners'],color='r',linewidth=1.5)\n",
    "plt.title('Flight '+vertxt+' ('+nowstring+'): Calibration Scan Dithers')\n",
    "\n",
    "\n",
    "#nslice=len(siaf1A['slice_num'])\n",
    "#for i in range(0,nslice):\n",
    "#    plt.plot(siaf1A['slice_v2_corners'][i],siaf1A['slice_v3_corners'][i],c='black')\n",
    "\n",
    "#nslice=len(siaf2A['slice_num'])\n",
    "#for i in range(0,nslice):\n",
    "#    plt.plot(siaf2A['slice_v2_corners'][i],siaf2A['slice_v3_corners'][i],c='grey')\n",
    "    \n",
    "#nslice=len(siaf3A['slice_num'])\n",
    "#for i in range(0,nslice):\n",
    "#    plt.plot(siaf3A['slice_v2_corners'][i],siaf3A['slice_v3_corners'][i],c='grey')\n",
    "    \n",
    "    \n",
    "nslice=len(siaf4A['slice_num'])\n",
    "for i in range(0,nslice):\n",
    "    plt.plot(siaf4A['slice_v2_corners'][i],siaf4A['slice_v3_corners'][i],c='grey',zorder=0,alpha=0.5)\n",
    "\n",
    "    \n",
    "#plt.legend()"
   ]
  },
  {
   "cell_type": "code",
   "execution_count": null,
   "metadata": {},
   "outputs": [],
   "source": []
  },
  {
   "cell_type": "code",
   "execution_count": null,
   "metadata": {},
   "outputs": [],
   "source": []
  },
  {
   "cell_type": "markdown",
   "metadata": {},
   "source": [
    "### Put all of the patterns together and compute Ideal frame offsets ###"
   ]
  },
  {
   "cell_type": "code",
   "execution_count": null,
   "metadata": {},
   "outputs": [],
   "source": [
    "# So far each of these gave specific v2/v3 pointing locations.\n",
    "# Now they need to be converted to xidl, yidl offsets relative to the pointing origin for a given dither pattern\n",
    "# (i.e., where the undithered pointing is for a given channel)\n",
    "# Note that this means the offsets (wrt A band) won't necessarily be symmetric around 0 xideal/yideal because\n",
    "# they average over the FoV of bands A/B/C together."
   ]
  },
  {
   "cell_type": "code",
   "execution_count": null,
   "metadata": {},
   "outputs": [],
   "source": [
    "# Positions index\n",
    "index=np.arange(52)+1\n",
    "\n",
    "# Ch1 point source pattern\n",
    "v2_all,v3_all=v2_ch1,v3_ch1\n",
    "ch_all=(np.ones(len(v2_ch1))).astype(int)\n",
    "dx,dy=mrsd.compute_dxdyideal(v2_ch1,v3_ch1,siaf1A,siaf1A=siaf1A)\n",
    "dx_all,dy_all=dx,dy\n",
    "# Ch2 point source pattern\n",
    "v2_all,v3_all=np.append(v2_all,v2_ch2),np.append(v3_all,v3_ch2)\n",
    "ch_all=np.append(ch_all,(np.ones(len(v2_ch2))*2).astype(int))\n",
    "dx,dy=mrsd.compute_dxdyideal(v2_ch2,v3_ch2,siaf2A,siaf1A=siaf1A)\n",
    "dx_all,dy_all=np.append(dx_all,dx),np.append(dy_all,dy)\n",
    "# Ch3 point source pattern\n",
    "v2_all,v3_all=np.append(v2_all,v2_ch3),np.append(v3_all,v3_ch3)\n",
    "ch_all=np.append(ch_all,(np.ones(len(v2_ch3))*3).astype(int))\n",
    "dx,dy=mrsd.compute_dxdyideal(v2_ch3,v3_ch3,siaf3A,siaf1A=siaf1A)\n",
    "dx_all,dy_all=np.append(dx_all,dx),np.append(dy_all,dy)\n",
    "# Ch4 point source pattern\n",
    "v2_all,v3_all=np.append(v2_all,v2_ch4),np.append(v3_all,v3_ch4)\n",
    "ch_all=np.append(ch_all,(np.ones(len(v2_ch4))*4).astype(int))\n",
    "dx,dy=mrsd.compute_dxdyideal(v2_ch4,v3_ch4,siaf4A,siaf1A=siaf1A)\n",
    "dx_all,dy_all=np.append(dx_all,dx),np.append(dy_all,dy)\n",
    "\n",
    "# Extended source ALL pattern\n",
    "v2_all,v3_all=np.append(v2_all,v2_ext_all),np.append(v3_all,v3_ext_all)\n",
    "ch_all=np.append(ch_all,(np.ones(len(v2_ext_all))).astype(int))\n",
    "dx,dy=mrsd.compute_dxdyideal(v2_ext_all,v3_ext_all,siaf1A,siaf1A=siaf1A)\n",
    "dx_all,dy_all=np.append(dx_all,dx),np.append(dy_all,dy)\n",
    "# Extended source Ch1 pattern\n",
    "v2_all,v3_all=np.append(v2_all,v2_ext_ch1),np.append(v3_all,v3_ext_ch1)\n",
    "ch_all=np.append(ch_all,(np.ones(len(v2_ext_ch1))).astype(int))\n",
    "dx,dy=mrsd.compute_dxdyideal(v2_ext_ch1,v3_ext_ch1,siaf1A,siaf1A=siaf1A)\n",
    "dx_all,dy_all=np.append(dx_all,dx),np.append(dy_all,dy)\n",
    "# Extended source Ch2 pattern\n",
    "v2_all,v3_all=np.append(v2_all,v2_ext_ch2),np.append(v3_all,v3_ext_ch2)\n",
    "ch_all=np.append(ch_all,(np.ones(len(v2_ext_ch2))*2).astype(int))\n",
    "dx,dy=mrsd.compute_dxdyideal(v2_ext_ch2,v3_ext_ch2,siaf2A,siaf1A=siaf1A)\n",
    "dx_all,dy_all=np.append(dx_all,dx),np.append(dy_all,dy)\n",
    "# Extended source Ch3 pattern\n",
    "v2_all,v3_all=np.append(v2_all,v2_ext_ch3),np.append(v3_all,v3_ext_ch3)\n",
    "ch_all=np.append(ch_all,(np.ones(len(v2_ext_ch3))*3).astype(int))\n",
    "dx,dy=mrsd.compute_dxdyideal(v2_ext_ch3,v3_ext_ch3,siaf3A,siaf1A=siaf1A)\n",
    "dx_all,dy_all=np.append(dx_all,dx),np.append(dy_all,dy)\n",
    "# Extended source Ch4 pattern\n",
    "v2_all,v3_all=np.append(v2_all,v2_ext_ch4),np.append(v3_all,v3_ext_ch4)\n",
    "ch_all=np.append(ch_all,(np.ones(len(v2_ext_ch4))*4).astype(int))\n",
    "dx,dy=mrsd.compute_dxdyideal(v2_ext_ch4,v3_ext_ch4,siaf4A,siaf1A=siaf1A)\n",
    "dx_all,dy_all=np.append(dx_all,dx),np.append(dy_all,dy)\n",
    "\n",
    "# Calibration scan\n",
    "v2_all,v3_all=np.append(v2_all,v2_calib),np.append(v3_all,v3_calib)\n",
    "ch_all=np.append(ch_all,(np.ones(len(v2_calib))).astype(int))\n",
    "dx,dy=mrsd.compute_dxdyideal(v2_calib,v3_calib,siaf1A,siaf1A=siaf1A)\n",
    "dx_all,dy_all=np.append(dx_all,dx),np.append(dy_all,dy)"
   ]
  },
  {
   "cell_type": "markdown",
   "metadata": {},
   "source": [
    "### Generate QA plots for JDox ###"
   ]
  },
  {
   "cell_type": "code",
   "execution_count": null,
   "metadata": {},
   "outputs": [],
   "source": [
    "# Now generate the usual suite of figures for JDox.  These are not relevant for evaluating the CAP\n",
    "# success, so we'll create these plots quietly in the background.\n",
    "allsiaf=[siaf1A,siaf1B,siaf1C,siaf2A,siaf2B,siaf2C,siaf3A,siaf3B,siaf3C,siaf4A,siaf4B,siaf4C]\n",
    "mrsd.make_jdox(v2_all,v3_all,dx_all,dy_all,allsiaf,vertxt,outdir=data_dir)"
   ]
  },
  {
   "cell_type": "code",
   "execution_count": null,
   "metadata": {},
   "outputs": [],
   "source": []
  },
  {
   "cell_type": "markdown",
   "metadata": {},
   "source": [
    "### Write results to disk ###"
   ]
  },
  {
   "cell_type": "code",
   "execution_count": null,
   "metadata": {},
   "outputs": [],
   "source": [
    "mrsd.writeresults_mirisim(ch_all,v2_all,v3_all,outdir=data_dir)\n",
    "mrsd.writeresults_prd(dx_all,dy_all,outdir=data_dir)\n",
    "mrsd.writeresults_full(index,ch_all,v2_all,v3_all,dx_all,dy_all,outdir=data_dir)"
   ]
  },
  {
   "cell_type": "code",
   "execution_count": null,
   "metadata": {},
   "outputs": [],
   "source": []
  },
  {
   "cell_type": "markdown",
   "metadata": {},
   "source": [
    "### Summarize results ###"
   ]
  },
  {
   "cell_type": "code",
   "execution_count": null,
   "metadata": {},
   "outputs": [],
   "source": [
    "# Print results for each MRS dither pattern\n",
    "print_color((('Point source pattern for Ch1:', 'black'),(statustext(status_pt_ch1),statuscolor(status_pt_ch1))))\n",
    "print_color((('Point source pattern for Ch2:', 'black'),(statustext(status_pt_ch2),statuscolor(status_pt_ch2))))\n",
    "print_color((('Point source pattern for Ch3:', 'black'),(statustext(status_pt_ch3),statuscolor(status_pt_ch3))))\n",
    "print_color((('Point source pattern for Ch4:', 'black'),(statustext(status_pt_ch4),statuscolor(status_pt_ch4))))\n",
    "\n",
    "print_color((('Extended source pattern for ALL channels:', 'black'),(statustext(status_ex_all),statuscolor(status_ex_all))))\n",
    "print_color((('Extended source pattern for Ch1:', 'black'),(statustext(status_ex_ch1),statuscolor(status_ex_ch1))))\n",
    "print_color((('Extended source pattern for Ch2:', 'black'),(statustext(status_ex_ch2),statuscolor(status_ex_ch2))))\n",
    "print_color((('Extended source pattern for Ch3:', 'black'),(statustext(status_ex_ch3),statuscolor(status_ex_ch3))))\n",
    "print_color((('Extended source pattern for Ch4:', 'black'),(statustext(status_ex_ch4),statuscolor(status_ex_ch4))))"
   ]
  },
  {
   "cell_type": "code",
   "execution_count": null,
   "metadata": {},
   "outputs": [],
   "source": [
    "# Print a final summary recommendation (ok or not ok)\n",
    "allstatus=[status_pt_ch1,status_pt_ch2,status_pt_ch3,status_pt_ch4,status_ex_all,status_ex_ch1, \\\n",
    "          status_ex_ch2,status_ex_ch3,status_ex_ch4]\n",
    "\n",
    "if (np.sum(allstatus) == 0):\n",
    "    print_color((('Everything looks ok!', 'green'),))\n",
    "\n",
    "if (np.sum(allstatus) != 0):\n",
    "    print_color((('**Warning**, at least one pattern deviates from the previous pattern more than expected!', 'red'),))\n",
    "    print_color((('Please consult an expert.', 'red'),))"
   ]
  },
  {
   "cell_type": "markdown",
   "metadata": {},
   "source": [
    "\n",
    "<img style=\"float: center;\" src=\"./assets/stsci_logo.png\" alt=\"stsci_logo\" width=\"200px\"/> "
   ]
  }
 ],
 "metadata": {
  "kernelspec": {
   "display_name": "Python 3 (ipykernel)",
   "language": "python",
   "name": "python3"
  },
  "language_info": {
   "codemirror_mode": {
    "name": "ipython",
    "version": 3
   },
   "file_extension": ".py",
   "mimetype": "text/x-python",
   "name": "python",
   "nbconvert_exporter": "python",
   "pygments_lexer": "ipython3",
   "version": "3.10.0"
  }
 },
 "nbformat": 4,
 "nbformat_minor": 2
}
