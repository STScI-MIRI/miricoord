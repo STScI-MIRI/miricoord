{
 "cells": [
  {
   "cell_type": "markdown",
   "metadata": {
    "toc": true
   },
   "source": [
    "<h1>Table of Contents<span class=\"tocSkip\"></span></h1>\n",
    "<div class=\"toc\"><ul class=\"toc-item\"><li><span><a href=\"#Initial-parameters\" data-toc-modified-id=\"Initial-parameters-1\"><span class=\"toc-item-num\">1&nbsp;&nbsp;</span>Initial parameters</a></span><ul class=\"toc-item\"><li><span><a href=\"#Set-root-and-siaf-directories\" data-toc-modified-id=\"Set-root-and-siaf-directories-1.1\"><span class=\"toc-item-num\">1.1&nbsp;&nbsp;</span>Set root and siaf directories</a></span></li><li><span><a href=\"#Decide-if-you-want-to-write-to-file\" data-toc-modified-id=\"Decide-if-you-want-to-write-to-file-1.2\"><span class=\"toc-item-num\">1.2&nbsp;&nbsp;</span>Decide if you want to write to file</a></span></li></ul></li><li><span><a href=\"#Assess-dithers\" data-toc-modified-id=\"Assess-dithers-2\"><span class=\"toc-item-num\">2&nbsp;&nbsp;</span>Assess dithers</a></span></li></ul></div>"
   ]
  },
  {
   "cell_type": "code",
   "execution_count": 1,
   "metadata": {
    "ExecuteTime": {
     "end_time": "2020-02-19T16:38:06.520770Z",
     "start_time": "2020-02-19T16:38:06.517247Z"
    }
   },
   "outputs": [],
   "source": [
    "import mrs_assess_dither\n",
    "from matplotlib import pyplot as plt\n",
    "import pandas as pd\n",
    "import itertools\n",
    "from multiprocessing import Pool\n",
    "import numpy as np"
   ]
  },
  {
   "cell_type": "markdown",
   "metadata": {},
   "source": [
    "# Initial parameters"
   ]
  },
  {
   "cell_type": "markdown",
   "metadata": {},
   "source": [
    "## Set root and siaf directories"
   ]
  },
  {
   "cell_type": "markdown",
   "metadata": {},
   "source": [
    "Leave 'False' to default to MIRICOORD_DATA_DIR env"
   ]
  },
  {
   "cell_type": "code",
   "execution_count": 2,
   "metadata": {
    "ExecuteTime": {
     "end_time": "2020-02-19T16:38:10.541031Z",
     "start_time": "2020-02-19T16:38:10.538333Z"
    }
   },
   "outputs": [],
   "source": [
    "rootdir=False\n",
    "siafdir=False"
   ]
  },
  {
   "cell_type": "markdown",
   "metadata": {},
   "source": [
    "## Decide if you want to write to file"
   ]
  },
  {
   "cell_type": "markdown",
   "metadata": {},
   "source": [
    "Writes to current directory by default"
   ]
  },
  {
   "cell_type": "code",
   "execution_count": 3,
   "metadata": {
    "ExecuteTime": {
     "end_time": "2020-02-19T16:38:11.245040Z",
     "start_time": "2020-02-19T16:38:11.242438Z"
    }
   },
   "outputs": [],
   "source": [
    "write_result = False #default"
   ]
  },
  {
   "cell_type": "code",
   "execution_count": 4,
   "metadata": {
    "ExecuteTime": {
     "end_time": "2020-02-19T16:38:11.602345Z",
     "start_time": "2020-02-19T16:38:11.595235Z"
    }
   },
   "outputs": [],
   "source": [
    "chan_list = [1,2,3,4]\n",
    "\n",
    "filt_list = ['A']#,'B','C']\n",
    "\n",
    "\n",
    "dith_list = [[1,2,3,4]]\n"
   ]
  },
  {
   "cell_type": "markdown",
   "metadata": {},
   "source": [
    "dith_list = [[1,2],\n",
    "             [1,2,3,4],\n",
    "             [5,6],\n",
    "             [5,6,7,8],\n",
    "             [9,10],\n",
    "             [9,10,11,12],\n",
    "             [13,14],\n",
    "             [13,14,15,16],\n",
    "             [17,18],\n",
    "             [17,18,19,20],\n",
    "             [21,22],\n",
    "             [21,22,23,24],\n",
    "             [25,26],\n",
    "             [25,26,27,28],\n",
    "             [29,30],\n",
    "             [29,30,31,32],\n",
    "             [33,34],\n",
    "             [33,34,35,36],\n",
    "             [37,38],\n",
    "             [37,38,39,40],\n",
    "             [41,42],\n",
    "             [41,42,43,44],\n",
    "             [45,46],\n",
    "             [45,46,47,48],\n",
    "             [49,50],\n",
    "             [49,50,51,52]\n",
    "            ]"
   ]
  },
  {
   "cell_type": "markdown",
   "metadata": {},
   "source": [
    "# Assess dithers"
   ]
  },
  {
   "cell_type": "code",
   "execution_count": 5,
   "metadata": {
    "ExecuteTime": {
     "end_time": "2020-02-19T16:38:13.273648Z",
     "start_time": "2020-02-19T16:38:13.266267Z"
    },
    "scrolled": true
   },
   "outputs": [],
   "source": [
    "def compute_row(dith, ch, band):\n",
    "            \n",
    "    channel = str(ch)+band\n",
    "    \n",
    "    try:\n",
    "        across_slice, along_slice, covmap = mrs_assess_dither.assess_dith(rootdir=rootdir, siafdir=siafdir,\n",
    "                                         write_result=write_result, dith=dith,channel=channel)\n",
    "\n",
    "        w = np.nonzero(covmap[0])\n",
    "        ac_sl_mean = np.mean(covmap[0][w])\n",
    "        ac_sl_std = np.std(covmap[0][w])\n",
    "\n",
    "        w = np.nonzero(covmap[1])\n",
    "        al_sl_mean = np.mean(covmap[1][w])\n",
    "        al_sl_std = np.std(covmap[1][w])\n",
    "        \n",
    "        temp = np.array([dith, ch, band, ac_sl_mean, ac_sl_std, al_sl_mean, al_sl_std])\n",
    "\n",
    "    except:\n",
    "        temp = np.array([np.nan, np.nan, np.nan, np.nan, np.nan, np.nan, np.nan])\n",
    "    \n",
    "    df_temp = pd.DataFrame(temp)\n",
    "\n",
    "    return df_temp"
   ]
  },
  {
   "cell_type": "code",
   "execution_count": null,
   "metadata": {
    "ExecuteTime": {
     "end_time": "2020-02-19T17:35:10.937151Z",
     "start_time": "2020-02-19T16:38:16.915594Z"
    },
    "scrolled": true
   },
   "outputs": [
    {
     "name": "stderr",
     "output_type": "stream",
     "text": [
      "Process SpawnPoolWorker-1:\n",
      "Process SpawnPoolWorker-2:\n",
      "Process SpawnPoolWorker-3:\n",
      "Traceback (most recent call last):\n",
      "Traceback (most recent call last):\n",
      "Traceback (most recent call last):\n",
      "  File \"/Users/dlaw/anaconda3/envs/jwst/lib/python3.10/multiprocessing/process.py\", line 315, in _bootstrap\n",
      "    self.run()\n",
      "  File \"/Users/dlaw/anaconda3/envs/jwst/lib/python3.10/multiprocessing/process.py\", line 315, in _bootstrap\n",
      "    self.run()\n",
      "  File \"/Users/dlaw/anaconda3/envs/jwst/lib/python3.10/multiprocessing/process.py\", line 315, in _bootstrap\n",
      "    self.run()\n",
      "  File \"/Users/dlaw/anaconda3/envs/jwst/lib/python3.10/multiprocessing/process.py\", line 108, in run\n",
      "    self._target(*self._args, **self._kwargs)\n",
      "  File \"/Users/dlaw/anaconda3/envs/jwst/lib/python3.10/multiprocessing/process.py\", line 108, in run\n",
      "    self._target(*self._args, **self._kwargs)\n",
      "  File \"/Users/dlaw/anaconda3/envs/jwst/lib/python3.10/multiprocessing/process.py\", line 108, in run\n",
      "    self._target(*self._args, **self._kwargs)\n",
      "  File \"/Users/dlaw/anaconda3/envs/jwst/lib/python3.10/multiprocessing/pool.py\", line 114, in worker\n",
      "    task = get()\n",
      "  File \"/Users/dlaw/anaconda3/envs/jwst/lib/python3.10/multiprocessing/pool.py\", line 114, in worker\n",
      "    task = get()\n",
      "  File \"/Users/dlaw/anaconda3/envs/jwst/lib/python3.10/multiprocessing/pool.py\", line 114, in worker\n",
      "    task = get()\n",
      "  File \"/Users/dlaw/anaconda3/envs/jwst/lib/python3.10/multiprocessing/queues.py\", line 368, in get\n",
      "    return _ForkingPickler.loads(res)\n",
      "  File \"/Users/dlaw/anaconda3/envs/jwst/lib/python3.10/multiprocessing/queues.py\", line 368, in get\n",
      "    return _ForkingPickler.loads(res)\n",
      "  File \"/Users/dlaw/anaconda3/envs/jwst/lib/python3.10/multiprocessing/queues.py\", line 368, in get\n",
      "    return _ForkingPickler.loads(res)\n",
      "AttributeError: Can't get attribute 'compute_row' on <module '__main__' (built-in)>\n",
      "AttributeError: Can't get attribute 'compute_row' on <module '__main__' (built-in)>\n",
      "AttributeError: Can't get attribute 'compute_row' on <module '__main__' (built-in)>\n",
      "Process SpawnPoolWorker-4:\n",
      "Traceback (most recent call last):\n",
      "  File \"/Users/dlaw/anaconda3/envs/jwst/lib/python3.10/multiprocessing/process.py\", line 315, in _bootstrap\n",
      "    self.run()\n",
      "  File \"/Users/dlaw/anaconda3/envs/jwst/lib/python3.10/multiprocessing/process.py\", line 108, in run\n",
      "    self._target(*self._args, **self._kwargs)\n",
      "  File \"/Users/dlaw/anaconda3/envs/jwst/lib/python3.10/multiprocessing/pool.py\", line 114, in worker\n",
      "    task = get()\n",
      "  File \"/Users/dlaw/anaconda3/envs/jwst/lib/python3.10/multiprocessing/queues.py\", line 368, in get\n",
      "    return _ForkingPickler.loads(res)\n",
      "AttributeError: Can't get attribute 'compute_row' on <module '__main__' (built-in)>\n"
     ]
    }
   ],
   "source": [
    "p = Pool(12)\n",
    "params = list(itertools.product(dith_list,chan_list, filt_list))\n",
    "results = p.starmap(compute_row, params)"
   ]
  },
  {
   "cell_type": "code",
   "execution_count": null,
   "metadata": {
    "ExecuteTime": {
     "end_time": "2020-02-19T17:35:13.444432Z",
     "start_time": "2020-02-19T17:35:13.289927Z"
    }
   },
   "outputs": [],
   "source": [
    "#names = list(itertools.product(col_groups, filt_list))\n",
    "df = pd.DataFrame()\n",
    "df\n",
    "\n",
    "for d in results:\n",
    "    df = df.append(d.T)"
   ]
  },
  {
   "cell_type": "code",
   "execution_count": null,
   "metadata": {
    "ExecuteTime": {
     "end_time": "2020-02-19T17:35:15.806572Z",
     "start_time": "2020-02-19T17:35:15.768352Z"
    }
   },
   "outputs": [],
   "source": [
    "df"
   ]
  },
  {
   "cell_type": "code",
   "execution_count": null,
   "metadata": {
    "ExecuteTime": {
     "end_time": "2020-02-19T17:35:18.147150Z",
     "start_time": "2020-02-19T17:35:18.115038Z"
    }
   },
   "outputs": [],
   "source": [
    "col_groups = ['Dither Pattern', 'Channel','Sub-Band','Across Slice Mean', 'Across Slice \\u03C3', 'Along Slice Mean', 'Along Slice \\u03C3']\n",
    "\n",
    "df = df.rename(columns={0:col_groups[0],\n",
    "                  1:col_groups[1],\n",
    "                  2:col_groups[2],\n",
    "                  3:col_groups[3],\n",
    "                  4:col_groups[4],\n",
    "                  5:col_groups[5],\n",
    "                  6:col_groups[6]}\n",
    "              )\n",
    "\n",
    "#df = df.set_index('Dither Pattern')\n",
    "df"
   ]
  },
  {
   "cell_type": "code",
   "execution_count": null,
   "metadata": {
    "ExecuteTime": {
     "end_time": "2020-02-19T19:18:31.068063Z",
     "start_time": "2020-02-19T19:18:31.059668Z"
    }
   },
   "outputs": [],
   "source": [
    "df.to_csv('assess_dither_data.csv')"
   ]
  },
  {
   "cell_type": "code",
   "execution_count": null,
   "metadata": {
    "ExecuteTime": {
     "end_time": "2020-02-19T21:00:33.209692Z",
     "start_time": "2020-02-19T21:00:33.202927Z"
    }
   },
   "outputs": [],
   "source": [
    "df_test = pd.read_csv('assess_dither_data.csv')"
   ]
  },
  {
   "cell_type": "code",
   "execution_count": null,
   "metadata": {
    "ExecuteTime": {
     "end_time": "2020-02-19T21:30:58.013099Z",
     "start_time": "2020-02-19T21:30:57.946347Z"
    },
    "scrolled": false
   },
   "outputs": [],
   "source": [
    "pd.set_option('display.max_rows', None)\n",
    "df_test.dropna().astype({'Channel' : int}).drop('Unnamed: 0', axis=1)"
   ]
  },
  {
   "cell_type": "code",
   "execution_count": null,
   "metadata": {},
   "outputs": [],
   "source": []
  }
 ],
 "metadata": {
  "kernelspec": {
   "display_name": "Python 3 (ipykernel)",
   "language": "python",
   "name": "python3"
  },
  "language_info": {
   "codemirror_mode": {
    "name": "ipython",
    "version": 3
   },
   "file_extension": ".py",
   "mimetype": "text/x-python",
   "name": "python",
   "nbconvert_exporter": "python",
   "pygments_lexer": "ipython3",
   "version": "3.10.0"
  },
  "toc": {
   "base_numbering": 1,
   "nav_menu": {},
   "number_sections": true,
   "sideBar": true,
   "skip_h1_title": false,
   "title_cell": "Table of Contents",
   "title_sidebar": "Contents",
   "toc_cell": true,
   "toc_position": {
    "height": "calc(100% - 180px)",
    "left": "10px",
    "top": "150px",
    "width": "336px"
   },
   "toc_section_display": true,
   "toc_window_display": true
  },
  "varInspector": {
   "cols": {
    "lenName": 16,
    "lenType": 16,
    "lenVar": 40
   },
   "kernels_config": {
    "python": {
     "delete_cmd_postfix": "",
     "delete_cmd_prefix": "del ",
     "library": "var_list.py",
     "varRefreshCmd": "print(var_dic_list())"
    },
    "r": {
     "delete_cmd_postfix": ") ",
     "delete_cmd_prefix": "rm(",
     "library": "var_list.r",
     "varRefreshCmd": "cat(var_dic_list()) "
    }
   },
   "position": {
    "height": "647px",
    "left": "1310px",
    "right": "20px",
    "top": "120px",
    "width": "350px"
   },
   "types_to_exclude": [
    "module",
    "function",
    "builtin_function_or_method",
    "instance",
    "_Feature"
   ],
   "window_display": false
  }
 },
 "nbformat": 4,
 "nbformat_minor": 2
}
