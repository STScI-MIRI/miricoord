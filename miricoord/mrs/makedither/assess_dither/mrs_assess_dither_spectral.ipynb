{
 "cells": [
  {
   "cell_type": "markdown",
   "metadata": {
    "toc": true
   },
   "source": [
    "<h1>Table of Contents<span class=\"tocSkip\"></span></h1>\n",
    "<div class=\"toc\"><ul class=\"toc-item\"><li><span><a href=\"#Testing\" data-toc-modified-id=\"Testing-1\"><span class=\"toc-item-num\">1&nbsp;&nbsp;</span>Testing</a></span></li></ul></div>"
   ]
  },
  {
   "cell_type": "code",
   "execution_count": 1,
   "metadata": {
    "ExecuteTime": {
     "end_time": "2020-07-07T16:35:31.829801Z",
     "start_time": "2020-07-07T16:35:31.404022Z"
    }
   },
   "outputs": [],
   "source": [
    "from miri3d.miri3d.cubepar import make_cubepar"
   ]
  },
  {
   "cell_type": "markdown",
   "metadata": {},
   "source": [
    "# Testing"
   ]
  },
  {
   "cell_type": "code",
   "execution_count": 3,
   "metadata": {
    "ExecuteTime": {
     "end_time": "2020-07-07T19:37:13.373853Z",
     "start_time": "2020-07-07T19:37:11.508393Z"
    }
   },
   "outputs": [],
   "source": [
    "import numpy as np\n",
    "import os\n",
    "from astropy.io import fits\n",
    "import miricoord.mrs.mrs_tools as mmrs\n",
    "import miricoord.tel.tel_tools as jwst\n",
    "import miricoord.mrs.makesiaf.makesiaf_mrs as makesiaf\n",
    "from array_indices import *\n",
    "import idlwrap\n",
    "import pandas as pd\n",
    "from miri3d.cubepar import make_cubepar"
   ]
  },
  {
   "cell_type": "code",
   "execution_count": 4,
   "metadata": {
    "ExecuteTime": {
     "end_time": "2020-07-07T19:37:19.134271Z",
     "start_time": "2020-07-07T19:37:19.081712Z"
    },
    "code_folding": [
     0
    ]
   },
   "outputs": [],
   "source": [
    "def output_result(maxoffset, channel, phase_pix, phase_slice, covmap):\n",
    "    if (channel == '1A'): psf = 0.31\n",
    "    if (channel == '1B'): psf = 0.31\n",
    "    if (channel == '1C'): psf = 0.31\n",
    "    if (channel == '2A'): psf = 0.31 * (8.90 / 8.0)\n",
    "    if (channel == '2B'): psf = 0.31 * (10.28 / 8.0)\n",
    "    if (channel == '2C'): psf = 0.31 * (11.87 / 8.0)\n",
    "    if (channel == '3A'): psf = 0.31 * (13.67 / 8.0)\n",
    "    if (channel == '3B'): psf = 0.31 * (15.80 / 8.0)\n",
    "    if (channel == '3C'): psf = 0.31 * (18.24 / 8.0)\n",
    "    if (channel == '4A'): psf = 0.31 * (21.10 / 8.0)\n",
    "    if (channel == '4B'): psf = 0.31 * (24.72 / 8.0)\n",
    "    if (channel == '4C'): psf = 0.31 * (28.82 / 8.0)\n",
    "\n",
    "    print('Max offset (arcsec): ' + str(maxoffset))\n",
    "    print('Max offset (FWHM): ' + str(maxoffset / psf))\n",
    "\n",
    "    pixfile = 'phase_pix_' + channel + '.fits'\n",
    "    slicefile = 'phase_slice_' + channel + '.fits'\n",
    "    covfile = 'covmap_' + channel + '.fits'\n",
    "    \n",
    "    try:\n",
    "        fits.writeto(pixfile, data=phase_pix)\n",
    "    except:\n",
    "        print(\"File '\"+pixfile+\"' already exists. \\n\")\n",
    "\n",
    "    try:\n",
    "        fits.writeto(slicefile, data=phase_slice)\n",
    "    except:\n",
    "        print(\"File '\"+slicefile+\"' already exists. \\n\")\n",
    "\n",
    "    try:\n",
    "        fits.writeto(covfile, data=covmap)\n",
    "    except:\n",
    "        print(\"File '\"+covfile+\"' already exists. \\n\")\n",
    "\n",
    "    return\n"
   ]
  },
  {
   "cell_type": "code",
   "execution_count": 52,
   "metadata": {
    "ExecuteTime": {
     "end_time": "2020-07-07T20:19:41.902094Z",
     "start_time": "2020-07-07T20:19:41.888730Z"
    },
    "code_folding": [
     0
    ]
   },
   "outputs": [],
   "source": [
    "def make_covmap(goodval, wave_phase, pixel_phase):\n",
    "    \n",
    "    covmap = np.zeros_like(wave_phase)\n",
    "    \n",
    "    for i,j in zip(goodval[0],goodval[1]):\n",
    "        \n",
    "        wavevals = wave_phase[:, i, j]\n",
    "        pixvals = pixel_phase[:, i, j]\n",
    "\n",
    "        hit_w = np.zeros(100)\n",
    "\n",
    "        for m in range(0, wavevals.size):\n",
    "            wval = int(round(wavevals[m] * 100))\n",
    "\n",
    "            if (wval == 100):\n",
    "                wval = 0  # Wrap around\n",
    "\n",
    "            if (wval < 25):\n",
    "                hit_w[wval:wval + 25] = 1\n",
    "                hit_w[0:wval] = 1\n",
    "                hit_w[100 - (25 - wval):] = 1\n",
    "\n",
    "            if ((wval >= 25) and (wval < 75)):\n",
    "                hit_w[wval - 25:wval + 25] = 1\n",
    "\n",
    "            if (wval >= 75):\n",
    "                hit_w[wval - 25:wval] = 1\n",
    "                hit_w[wval:] = 1\n",
    "                hit_w[0:wval - 75] = 1\n",
    "\n",
    "        hit_p = np.zeros(100)\n",
    "\n",
    "        for m in range(0, pixvals.size):\n",
    "            pval = int(round(pixvals[m] * 100))\n",
    "\n",
    "            if (pval == 100):\n",
    "                pval = 0  # ; Wrap around\n",
    "\n",
    "            if (pval < 25):\n",
    "                hit_p[pval:pval + 25] = 1\n",
    "                hit_p[0:pval] = 1\n",
    "                hit_p[100 - (25 - pval):] = 1\n",
    "\n",
    "            if ((pval >= 25) and (pval < 75)):\n",
    "                hit_p[pval - 25:pval + 25] = 1\n",
    "\n",
    "            if (pval >= 75):\n",
    "                hit_p[pval - 25:pval] = 1\n",
    "                hit_p[pval:] = 1\n",
    "                hit_p[0:pval - 75] = 1\n",
    "\n",
    "        temp_w = idlwrap.where(hit_w == 1)\n",
    "        nhit_w = len(temp_w)\n",
    "\n",
    "        temp_p = idlwrap.where(hit_p == 1)\n",
    "        nhit_p = len(temp_p)\n",
    "\n",
    "        covmap[0,i,j] = nhit_w / 100.\n",
    "        covmap[1,i,j] = nhit_p / 100.\n",
    "\n",
    "    return covmap"
   ]
  },
  {
   "cell_type": "code",
   "execution_count": 70,
   "metadata": {
    "ExecuteTime": {
     "end_time": "2020-07-07T20:26:33.751309Z",
     "start_time": "2020-07-07T20:26:33.740783Z"
    },
    "code_folding": []
   },
   "outputs": [],
   "source": [
    "def make_phase_im(rall, deall, racen, decen, dra, ddec, nra, ndec, lam, ndith,channel):\n",
    "    phase_slice = np.zeros((ndith, ndec, nra))\n",
    "    phase_pix = np.zeros((ndith, ndec, nra))\n",
    "    phase_wave = np.zeros((ndith, ndec, nra))\n",
    "\n",
    "    for i in range(0, ndith):\n",
    "        # Transform to V2,V3 locations\n",
    "        # WARNING; code will fail if ROLL != 0\n",
    "        # Note that we MUST do -dra and +ddec cuz of how the Ideal frame is defined!!\n",
    "\n",
    "        v2all, v3all, _ = jwst.jwst_radectov2v3(rall, deall, v2ref=-8.3942412 * 60, v3ref=-5.3123744 * 60,\n",
    "                                                rollref=1e-5, raref=racen - dra[i], decref=decen + ddec[i])\n",
    "\n",
    "        v2 = v2all.reshape(ndec, nra)\n",
    "        v3 = v3all.reshape(ndec, nra)\n",
    "\n",
    "        # Tranform to a,b locations\n",
    "        aall, ball = mmrs.v2v3toab(v2all, v3all, channel)\n",
    "\n",
    "        a = aall.reshape(ndec, nra)\n",
    "        b = ball.reshape(ndec, nra)\n",
    "            \n",
    "        wavemin, wavemax = make_cubepar.waveminmax(channel)\n",
    "        num = len(aall)\n",
    "        lam = np.linspace(wavemin, wavemax, num)\n",
    "        \n",
    "        alin = np.zeros_like(aall)#*aall[0]\n",
    "\n",
    "        vals = mmrs.abltoxy(alin, ball, lam, channel)\n",
    "\n",
    "        phase_slice[i, :, :] = vals['slicephase'].reshape(ndec, nra) + 0.5\n",
    "        phase_pix[i, :, :] = vals['pixelphase'].reshape(ndec, nra) + 0.5\n",
    "        phase_wave[i, :, :] = vals['wavephase'].reshape(ndec, nra) + 0.5\n",
    "\n",
    "\n",
    "    return phase_slice, phase_pix, phase_wave"
   ]
  },
  {
   "cell_type": "code",
   "execution_count": 42,
   "metadata": {
    "ExecuteTime": {
     "end_time": "2020-07-07T20:11:18.683325Z",
     "start_time": "2020-07-07T20:11:09.491706Z"
    }
   },
   "outputs": [],
   "source": [
    "rootdir=False\n",
    "siafdir=False\n",
    "write_result=False\n",
    "channel='1A'\n",
    "dith=False\n",
    "wave=False\n",
    "da=None\n",
    "db=None\n",
    "\n",
    "#set root and siaf directories\n",
    "if rootdir == False:\n",
    "    rootdir = os.getenv('MIRICOORD_DATA_DIR')\n",
    "if siafdir == False:\n",
    "    siafdir = os.getenv('MIRICOORD_DATA_DIR')\n",
    "\n",
    "#\n",
    "if dith == False:\n",
    "    dith = [1,2]\n",
    "\n",
    "ndith = len(dith)\n",
    "\n",
    "#read in list of dithers\n",
    "dithers = pd.read_csv('mrs_dithers.txt',header=2,sep='\\s+',index_col=0)\n",
    "\n",
    "#convert dithers to ra/dec\n",
    "dra = dithers.dXIdeal[dith].array / 3600.\n",
    "ddec = dithers.dYIdeal[dith].array / 3600.\n",
    "\n",
    "siaf = makesiaf.create_siaf_oneband(channel)\n",
    "\n",
    "#define shape of channel in alpha/beta\n",
    "maxalpha = siaf['inscr_alpha_corners'][0] * 2\n",
    "minalpha = siaf['inscr_alpha_corners'][2] * 2\n",
    "maxbeta = siaf['inscr_beta_corners'][0] * 2\n",
    "minbeta = siaf['inscr_beta_corners'][2] * 2\n",
    "\n",
    "racen = 45.\n",
    "decen = 0.\n",
    "# WARNING- this code will fail if DEC != 0 !!!!\n",
    "dtheta = 0.02\n",
    "\n",
    "#number of pix in ra/dec dims\n",
    "nra = int(np.abs(maxalpha - minalpha) / dtheta)\n",
    "ndec = int(np.abs(maxbeta - minbeta) / dtheta)\n",
    "\n",
    "#define the wavelength on each pixel\n",
    "if wave != False:\n",
    "    lam = np.ones((nra * ndec)) * wave\n",
    "else:\n",
    "    lam = np.ones((nra * ndec)) * -1\n",
    "\n",
    "if (da != None) and (db != None):\n",
    "    v2, v3 = mmrs.abtov2v3(da, db, channel)\n",
    "\n",
    "    zpv2, zpv3 = mmrs.abtov2v3(0, 0, channel)\n",
    "\n",
    "    zpx, zpy = mmrs.v2v3_to_xyideal(zpv2, zpv3)\n",
    "\n",
    "    tempx, tempy = mmrs.v2v3_to_xyideal(v2, v3)\n",
    "\n",
    "    dra = (tempx - zpx) / 3600.\n",
    "    ddec = (tempy - zpy) / 3600.\n",
    "\n",
    "\n",
    "#define actual ra/dec range\n",
    "ra = (np.arange(nra) * dtheta + minalpha) / 3600. + racen\n",
    "dec = (np.arange(ndec) * dtheta + minbeta) / 3600. + decen\n",
    "\n",
    "#redefine center\n",
    "racen = (min(ra) + max(ra)) / 2.\n",
    "decen = (min(dec) + max(dec)) / 2.\n",
    "\n",
    "#create a cube of ra/dec coordinates\n",
    "skyloc = np.zeros((ndith, ndec, nra))\n",
    "\n",
    "for i in range(0, nra - 1):\n",
    "    skyloc[0, :, i] = ra[i]\n",
    "\n",
    "for i in range(0, ndec - 1):\n",
    "    skyloc[1, i, :] = dec[i]\n",
    "\n",
    "rall = skyloc[0, :, :].reshape(nra * ndec)\n",
    "deall = skyloc[1, :, :].reshape(nra * ndec)"
   ]
  },
  {
   "cell_type": "code",
   "execution_count": 71,
   "metadata": {
    "ExecuteTime": {
     "end_time": "2020-07-07T20:27:05.515548Z",
     "start_time": "2020-07-07T20:26:41.734250Z"
    }
   },
   "outputs": [],
   "source": [
    "# construct phase images\n",
    "slice_phase, pixel_phase, wave_phase = make_phase_im(rall, deall, racen, decen, dra, ddec, nra, ndec, lam, ndith,channel)"
   ]
  },
  {
   "cell_type": "code",
   "execution_count": 33,
   "metadata": {
    "ExecuteTime": {
     "end_time": "2020-07-07T19:49:43.003506Z",
     "start_time": "2020-07-07T19:49:43.001028Z"
    }
   },
   "outputs": [],
   "source": [
    "from matplotlib import pyplot as plt"
   ]
  },
  {
   "cell_type": "code",
   "execution_count": 83,
   "metadata": {
    "ExecuteTime": {
     "end_time": "2020-07-07T20:29:44.057874Z",
     "start_time": "2020-07-07T20:29:43.815536Z"
    }
   },
   "outputs": [
    {
     "data": {
      "text/plain": [
       "<matplotlib.colorbar.Colorbar at 0xb29785358>"
      ]
     },
     "execution_count": 83,
     "metadata": {},
     "output_type": "execute_result"
    },
    {
     "data": {
      "image/png": "[encoded data removed]",
      "text/plain": [
       "<Figure size 576x720 with 2 Axes>"
      ]
     },
     "metadata": {
      "needs_background": "light"
     },
     "output_type": "display_data"
    }
   ],
   "source": [
    "plt.figure(figsize=(8,10))\n",
    "\n",
    "plt.imshow(pixel_phase[0],vmin=0,vmax=1)\n",
    "plt.colorbar()"
   ]
  },
  {
   "cell_type": "code",
   "execution_count": 76,
   "metadata": {
    "ExecuteTime": {
     "end_time": "2020-07-07T20:27:52.175174Z",
     "start_time": "2020-07-07T20:27:52.171082Z"
    }
   },
   "outputs": [],
   "source": [
    "temp = np.sum(wave_phase, axis=0)\n",
    "goodval = np.where(temp > -10)"
   ]
  },
  {
   "cell_type": "code",
   "execution_count": 78,
   "metadata": {
    "ExecuteTime": {
     "end_time": "2020-07-07T20:28:05.229906Z",
     "start_time": "2020-07-07T20:28:03.285652Z"
    }
   },
   "outputs": [
    {
     "name": "stdout",
     "output_type": "stream",
     "text": [
      "Coverage area: 17.76 arcsec^2\n"
     ]
    }
   ],
   "source": [
    "#construct coverage map\n",
    "covmap = make_covmap(goodval, wave_phase, pixel_phase)\n",
    "\n",
    "temp = covmap[0, :, :]\n",
    "indx = np.where(temp!=0)\n",
    "nindx = len(indx[0])\n",
    "print('Coverage area: ' + str(nindx * dtheta * dtheta) + ' arcsec^2')\n",
    "\n",
    "offsets = np.sqrt((dra - dra[0]) ** 2 + (ddec - ddec[0]) ** 2)\n",
    "maxoffset = max(offsets) * 3600.\n",
    "\n",
    "if write_result == True:\n",
    "    output_result(maxoffset, channel, phase_pix, phase_slice, covmap)"
   ]
  },
  {
   "cell_type": "code",
   "execution_count": 86,
   "metadata": {
    "ExecuteTime": {
     "end_time": "2020-07-07T20:34:18.096784Z",
     "start_time": "2020-07-07T20:34:17.859273Z"
    }
   },
   "outputs": [
    {
     "data": {
      "text/plain": [
       "<matplotlib.colorbar.Colorbar at 0xb2a35fac8>"
      ]
     },
     "execution_count": 86,
     "metadata": {},
     "output_type": "execute_result"
    },
    {
     "data": {
      "image/png": "[encoded data removed]",
      "text/plain": [
       "<Figure size 576x720 with 2 Axes>"
      ]
     },
     "metadata": {
      "needs_background": "light"
     },
     "output_type": "display_data"
    }
   ],
   "source": [
    "plt.figure(figsize=(8,10))\n",
    "\n",
    "plt.imshow(covmap[1],vmin=0,vmax=1)\n",
    "plt.colorbar()"
   ]
  },
  {
   "cell_type": "code",
   "execution_count": null,
   "metadata": {},
   "outputs": [],
   "source": []
  }
 ],
 "metadata": {
  "kernelspec": {
   "display_name": "Python 3",
   "language": "python",
   "name": "python3"
  },
  "language_info": {
   "codemirror_mode": {
    "name": "ipython",
    "version": 3
   },
   "file_extension": ".py",
   "mimetype": "text/x-python",
   "name": "python",
   "nbconvert_exporter": "python",
   "pygments_lexer": "ipython3",
   "version": "3.7.3"
  },
  "toc": {
   "base_numbering": 1,
   "nav_menu": {},
   "number_sections": true,
   "sideBar": true,
   "skip_h1_title": false,
   "title_cell": "Table of Contents",
   "title_sidebar": "Contents",
   "toc_cell": true,
   "toc_position": {},
   "toc_section_display": true,
   "toc_window_display": true
  },
  "varInspector": {
   "cols": {
    "lenName": 16,
    "lenType": 16,
    "lenVar": 40
   },
   "kernels_config": {
    "python": {
     "delete_cmd_postfix": "",
     "delete_cmd_prefix": "del ",
     "library": "var_list.py",
     "varRefreshCmd": "print(var_dic_list())"
    },
    "r": {
     "delete_cmd_postfix": ") ",
     "delete_cmd_prefix": "rm(",
     "library": "var_list.r",
     "varRefreshCmd": "cat(var_dic_list()) "
    }
   },
   "types_to_exclude": [
    "module",
    "function",
    "builtin_function_or_method",
    "instance",
    "_Feature"
   ],
   "window_display": false
  }
 },
 "nbformat": 4,
 "nbformat_minor": 2
}
