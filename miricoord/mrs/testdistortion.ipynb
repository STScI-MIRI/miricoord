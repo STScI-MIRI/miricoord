{
 "cells": [
  {
   "cell_type": "markdown",
   "metadata": {},
   "source": [
    "## Test the MIRI MRS distortion solution (standalone and JWST pipeline versions) ##"
   ]
  },
  {
   "cell_type": "markdown",
   "metadata": {},
   "source": [
    "### First import the things that we need from the pipeline code ###"
   ]
  },
  {
   "cell_type": "code",
   "execution_count": 1,
   "metadata": {},
   "outputs": [
    {
     "name": "stderr",
     "output_type": "stream",
     "text": [
      "/var/folders/lg/jw_brb093bl9n39fbgn1cw080001fw/T/ipykernel_31997/1106886355.py:3: DeprecationWarning: Importing from numpy.testing.utils is deprecated since 1.15.0, import from numpy.testing instead.\n",
      "  from numpy.testing import utils\n"
     ]
    }
   ],
   "source": [
    "import os as os\n",
    "import numpy as np\n",
    "from numpy.testing import utils\n",
    "from numpy.testing import assert_allclose\n",
    "import pdb as pdb\n"
   ]
  },
  {
   "cell_type": "markdown",
   "metadata": {},
   "source": [
    "Import the MIRI coordinates code from https://github.com/STScI-MIRI/miricoord and ensure that it is on the PYTHONPATH.  Also ensure that the local data directory environmental variable is set:"
   ]
  },
  {
   "cell_type": "markdown",
   "metadata": {},
   "source": [
    "setenv MIRICOORD_DATA_DIR /YourLocalPathToData/ (this is where io will happen)"
   ]
  },
  {
   "cell_type": "code",
   "execution_count": 2,
   "metadata": {},
   "outputs": [],
   "source": [
    "data_dir=os.path.expandvars('$MIRICOORD_DATA_DIR')"
   ]
  },
  {
   "cell_type": "code",
   "execution_count": null,
   "metadata": {},
   "outputs": [],
   "source": []
  },
  {
   "cell_type": "markdown",
   "metadata": {},
   "source": [
    "### First we'll look at the standalone distortion solution (mrs_tools) ###"
   ]
  },
  {
   "cell_type": "code",
   "execution_count": 3,
   "metadata": {},
   "outputs": [],
   "source": [
    "import miricoord.mrs.mrs_tools as mrst\n",
    "mrst.set_toolversion('flt1')"
   ]
  },
  {
   "cell_type": "markdown",
   "metadata": {},
   "source": [
    "Define a point on the MRS (0-indexed convention) and convert to v2,v3 for Ch1A"
   ]
  },
  {
   "cell_type": "code",
   "execution_count": 4,
   "metadata": {},
   "outputs": [],
   "source": [
    "x=[194.0,231.0]\n",
    "y=[512.0,700.0]\n",
    "band='4C'"
   ]
  },
  {
   "cell_type": "markdown",
   "metadata": {},
   "source": [
    "Convert this pixel location to the MRS local alpha,beta,lam coordinates"
   ]
  },
  {
   "cell_type": "code",
   "execution_count": 5,
   "metadata": {},
   "outputs": [],
   "source": [
    "\n",
    "values=mrst.xytoabl(x,y,band)\n",
    "v2,v3=mrst.abtov2v3(values['alpha'],values['beta'],band)"
   ]
  },
  {
   "cell_type": "markdown",
   "metadata": {},
   "source": [
    "The returned values are a dictionary of different entries, including input pixels, output alpha/beta coordinates, wavelength (lam), and slice number/name."
   ]
  },
  {
   "cell_type": "code",
   "execution_count": 6,
   "metadata": {},
   "outputs": [
    {
     "data": {
      "text/plain": [
       "({'x': array([194., 231.]),\n",
       "  'y': array([512., 700.]),\n",
       "  'alpha': array([-0.06619308, -0.01176626]),\n",
       "  'beta': array([ 2.29611932, -1.64008523]),\n",
       "  'lam': array([26.29237924, 25.35069458]),\n",
       "  'slicenum': array([10,  4]),\n",
       "  'slicename': array(['410C', '404C'], dtype='<U4')},\n",
       " array([-503.28627393, -502.59623788]),\n",
       " array([-321.91663845, -318.09196097]))"
      ]
     },
     "execution_count": 6,
     "metadata": {},
     "output_type": "execute_result"
    }
   ],
   "source": [
    "values,v2,v3"
   ]
  },
  {
   "cell_type": "code",
   "execution_count": null,
   "metadata": {},
   "outputs": [],
   "source": []
  },
  {
   "cell_type": "code",
   "execution_count": null,
   "metadata": {},
   "outputs": [],
   "source": []
  },
  {
   "cell_type": "code",
   "execution_count": 7,
   "metadata": {},
   "outputs": [],
   "source": [
    "alpha,beta,lam=values['alpha'],values['beta'],values['lam']"
   ]
  },
  {
   "cell_type": "code",
   "execution_count": 8,
   "metadata": {},
   "outputs": [
    {
     "data": {
      "text/plain": [
       "(array([-0.06619308, -0.01176626]),\n",
       " array([ 2.29611932, -1.64008523]),\n",
       " array([26.29237924, 25.35069458]))"
      ]
     },
     "execution_count": 8,
     "metadata": {},
     "output_type": "execute_result"
    }
   ],
   "source": [
    "alpha,beta,lam"
   ]
  },
  {
   "cell_type": "markdown",
   "metadata": {},
   "source": [
    "Note that not every pixel on the detector actually maps to alpha,beta,lam since many pixels are between slices.  Therefore we have a way to 'trim' the inputs so that the returned values are only for such valid pixels.  Let's define an input array of pixels in which some map to slices and some do not."
   ]
  },
  {
   "cell_type": "code",
   "execution_count": 9,
   "metadata": {},
   "outputs": [],
   "source": [
    "x,y=[50,62,70,80,90],[500,510,520,10,950]"
   ]
  },
  {
   "cell_type": "code",
   "execution_count": 10,
   "metadata": {},
   "outputs": [],
   "source": [
    "values=mrst.xytoabl(x,y,'1A',trim=1)"
   ]
  },
  {
   "cell_type": "markdown",
   "metadata": {},
   "source": [
    "Note now that while we sent in five coordinates, only four got returned as one was trimmed.  The output values['x'] array is the trimmed version of the input x coordinate."
   ]
  },
  {
   "cell_type": "code",
   "execution_count": 11,
   "metadata": {},
   "outputs": [
    {
     "data": {
      "text/plain": [
       "{'x': array([50, 70, 80, 90]),\n",
       " 'y': array([500, 520,  10, 950]),\n",
       " 'alpha': array([-0.32902713, -1.05377755,  1.45131771, -1.39343472]),\n",
       " 'beta': array([ 1.77210144, -0.17721014, -0.17721014,  1.59489129]),\n",
       " 'lam': array([5.32581863, 5.35499686, 4.89288863, 5.69720936]),\n",
       " 'slicenum': array([21, 10, 10, 20]),\n",
       " 'slicename': array(['121A', '110A', '110A', '120A'], dtype='<U4')}"
      ]
     },
     "execution_count": 11,
     "metadata": {},
     "output_type": "execute_result"
    }
   ],
   "source": [
    "values"
   ]
  },
  {
   "cell_type": "markdown",
   "metadata": {},
   "source": [
    "We can convert alpha,beta to v2,v3 as well:"
   ]
  },
  {
   "cell_type": "code",
   "execution_count": 12,
   "metadata": {},
   "outputs": [],
   "source": [
    "v2,v3=mrst.abtov2v3(values['alpha'],values['beta'],'1A')"
   ]
  },
  {
   "cell_type": "code",
   "execution_count": 13,
   "metadata": {},
   "outputs": [
    {
     "data": {
      "text/plain": [
       "(array([-503.80056612, -504.3453711 , -501.86447088, -504.81762227]),\n",
       " array([-320.74815482, -318.6960657 , -319.06399426, -320.41515109]))"
      ]
     },
     "execution_count": 13,
     "metadata": {},
     "output_type": "execute_result"
    }
   ],
   "source": [
    "v2,v3"
   ]
  },
  {
   "cell_type": "code",
   "execution_count": null,
   "metadata": {},
   "outputs": [],
   "source": []
  },
  {
   "cell_type": "code",
   "execution_count": 15,
   "metadata": {},
   "outputs": [
    {
     "data": {
      "text/plain": [
       "(-503.3181535345708, -319.0277065586294)"
      ]
     },
     "execution_count": 15,
     "metadata": {},
     "output_type": "execute_result"
    }
   ],
   "source": [
    "# Test the Ch1A boresight location.  In FLT-1 this is -503.3181535345708, -319.0277065586294\n",
    "v2,v3=mrst.abtov2v3(0,0,'1A')\n",
    "v2,v3"
   ]
  },
  {
   "cell_type": "code",
   "execution_count": null,
   "metadata": {},
   "outputs": [],
   "source": []
  },
  {
   "cell_type": "code",
   "execution_count": null,
   "metadata": {},
   "outputs": [],
   "source": []
  },
  {
   "cell_type": "markdown",
   "metadata": {},
   "source": [
    "### Now let's test that the distortion transforms for all 12 channels/subbands match reference positions correctly: ###"
   ]
  },
  {
   "cell_type": "code",
   "execution_count": 16,
   "metadata": {},
   "outputs": [
    {
     "name": "stdout",
     "output_type": "stream",
     "text": [
      "Testing channel 1A\n",
      "Testing channel 1B\n",
      "Testing channel 1C\n",
      "Testing channel 2A\n",
      "Testing channel 2B\n",
      "Testing channel 2C\n",
      "Testing channel 3A\n",
      "Testing channel 3B\n",
      "Testing channel 3C\n",
      "Testing channel 4A\n",
      "Testing channel 4B\n",
      "Testing channel 4C\n"
     ]
    }
   ],
   "source": [
    "mrst.testtransform()"
   ]
  },
  {
   "cell_type": "code",
   "execution_count": null,
   "metadata": {},
   "outputs": [],
   "source": []
  },
  {
   "cell_type": "markdown",
   "metadata": {},
   "source": [
    "### Now we'll look at the implementation of the distortion solution in the JWST pipeline (mrs_pipetools) ###"
   ]
  },
  {
   "cell_type": "code",
   "execution_count": 17,
   "metadata": {},
   "outputs": [],
   "source": [
    "from astropy.modeling import models\n",
    "from asdf import AsdfFile\n",
    "from jwst import datamodels\n",
    "from jwst.assign_wcs import miri"
   ]
  },
  {
   "cell_type": "code",
   "execution_count": 18,
   "metadata": {},
   "outputs": [],
   "source": [
    "import miricoord.mrs.mrs_pipetools as mrspt\n",
    "mrspt.set_toolversion('flt1')"
   ]
  },
  {
   "cell_type": "markdown",
   "metadata": {},
   "source": [
    "Quick test of using them directly"
   ]
  },
  {
   "cell_type": "code",
   "execution_count": 19,
   "metadata": {},
   "outputs": [
    {
     "data": {
      "text/plain": [
       "(0.19426487464869524, -1.77210143797, 4.968998639243164)"
      ]
     },
     "execution_count": 19,
     "metadata": {},
     "output_type": "execute_result"
    }
   ],
   "source": [
    "x,y=486,115\n",
    "mrspt.xytoabl(x,y,'1A')"
   ]
  },
  {
   "cell_type": "code",
   "execution_count": null,
   "metadata": {},
   "outputs": [],
   "source": []
  },
  {
   "cell_type": "markdown",
   "metadata": {},
   "source": [
    "Point to a SHORT exposure reduced through spec2:"
   ]
  },
  {
   "cell_type": "code",
   "execution_count": 20,
   "metadata": {},
   "outputs": [],
   "source": [
    "file=data_dir+'testing/jw01029001001_04101_00001_mirifushort_flt1_cal.fits'"
   ]
  },
  {
   "cell_type": "markdown",
   "metadata": {},
   "source": [
    "Read the datamodel from the file and print some information about it"
   ]
  },
  {
   "cell_type": "code",
   "execution_count": 21,
   "metadata": {},
   "outputs": [],
   "source": [
    "im = datamodels.ImageModel(file)"
   ]
  },
  {
   "cell_type": "code",
   "execution_count": 22,
   "metadata": {},
   "outputs": [
    {
     "name": "stdout",
     "output_type": "stream",
     "text": [
      "   From       Transform   \n",
      "---------- ---------------\n",
      "  detector detector_to_abl\n",
      "alpha_beta    abl_to_v2v3l\n",
      "      v2v3   CompoundModel\n",
      "v2v3vacorr   CompoundModel\n",
      "     world            None\n"
     ]
    }
   ],
   "source": [
    "print(im.meta.wcs)"
   ]
  },
  {
   "cell_type": "markdown",
   "metadata": {},
   "source": [
    "These are the available frames for the distortion transforms:"
   ]
  },
  {
   "cell_type": "code",
   "execution_count": 23,
   "metadata": {},
   "outputs": [
    {
     "name": "stdout",
     "output_type": "stream",
     "text": [
      "['detector', 'alpha_beta', 'v2v3', 'v2v3vacorr', 'world']\n"
     ]
    }
   ],
   "source": [
    "print(im.meta.wcs.available_frames)"
   ]
  },
  {
   "cell_type": "code",
   "execution_count": null,
   "metadata": {},
   "outputs": [],
   "source": []
  },
  {
   "cell_type": "markdown",
   "metadata": {},
   "source": [
    "Define a point on the MRS and check that the v2,v3 is correct"
   ]
  },
  {
   "cell_type": "code",
   "execution_count": 24,
   "metadata": {},
   "outputs": [],
   "source": [
    "alpha,beta,lam=0.0,0.0,5.0"
   ]
  },
  {
   "cell_type": "code",
   "execution_count": 25,
   "metadata": {},
   "outputs": [],
   "source": [
    "v2,v3,ltemp=im.meta.wcs.transform(\"alpha_beta\", \"v2v3\", alpha,beta,lam)"
   ]
  },
  {
   "cell_type": "code",
   "execution_count": 26,
   "metadata": {},
   "outputs": [
    {
     "name": "stdout",
     "output_type": "stream",
     "text": [
      "-503.3181535345708 -319.0277065586294\n"
     ]
    }
   ],
   "source": [
    "print(v2,v3)"
   ]
  },
  {
   "cell_type": "markdown",
   "metadata": {},
   "source": [
    "The V2,V3 location of the MRS 1A reference point should be -503.318, -319.028"
   ]
  },
  {
   "cell_type": "markdown",
   "metadata": {},
   "source": [
    "We can check the RA/DEC too:"
   ]
  },
  {
   "cell_type": "code",
   "execution_count": 27,
   "metadata": {},
   "outputs": [],
   "source": [
    "ra, dec, ltemp = im.meta.wcs.transform(\"v2v3\", \"world\", v2,v3,lam)"
   ]
  },
  {
   "cell_type": "code",
   "execution_count": 28,
   "metadata": {},
   "outputs": [
    {
     "name": "stdout",
     "output_type": "stream",
     "text": [
      "82.50317750454388 -69.97537777093329\n"
     ]
    }
   ],
   "source": [
    "print(ra,dec)"
   ]
  },
  {
   "cell_type": "code",
   "execution_count": null,
   "metadata": {},
   "outputs": [],
   "source": []
  },
  {
   "cell_type": "markdown",
   "metadata": {},
   "source": [
    "### Now let's test that the distortion transforms for all 12 channels/subbands match reference positions correctly:  ###"
   ]
  },
  {
   "cell_type": "code",
   "execution_count": 29,
   "metadata": {},
   "outputs": [
    {
     "name": "stdout",
     "output_type": "stream",
     "text": [
      "Testing channel 1A\n",
      "Testing channel 1B\n",
      "Testing channel 1C\n",
      "Testing channel 2A\n",
      "Testing channel 2B\n",
      "Testing channel 2C\n",
      "Testing channel 3A\n",
      "Testing channel 3B\n",
      "Testing channel 3C\n",
      "Testing channel 4A\n",
      "Testing channel 4B\n",
      "Testing channel 4C\n"
     ]
    }
   ],
   "source": [
    "mrspt.testtransform()"
   ]
  },
  {
   "cell_type": "code",
   "execution_count": null,
   "metadata": {},
   "outputs": [],
   "source": []
  }
 ],
 "metadata": {
  "kernelspec": {
   "display_name": "Python 3 (ipykernel)",
   "language": "python",
   "name": "python3"
  },
  "language_info": {
   "codemirror_mode": {
    "name": "ipython",
    "version": 3
   },
   "file_extension": ".py",
   "mimetype": "text/x-python",
   "name": "python",
   "nbconvert_exporter": "python",
   "pygments_lexer": "ipython3",
   "version": "3.10.0"
  }
 },
 "nbformat": 4,
 "nbformat_minor": 2
}
