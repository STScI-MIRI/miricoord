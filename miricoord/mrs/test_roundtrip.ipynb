{
 "cells": [
  {
   "cell_type": "markdown",
   "metadata": {},
   "source": [
    " # Compare old and new solutions visually, and evaluate roundtrip errors #"
   ]
  },
  {
   "cell_type": "code",
   "execution_count": 1,
   "metadata": {},
   "outputs": [],
   "source": [
    "import miricoord.mrs.mrs_tools as mt\n",
    "import numpy as np\n",
    "from numpy import matlib as mb\n",
    "import matplotlib.pyplot as plt"
   ]
  },
  {
   "cell_type": "code",
   "execution_count": 2,
   "metadata": {},
   "outputs": [],
   "source": [
    "# All pixels\n",
    "channel='3C'\n",
    "ymin,ymax=0,1023#500,501\n",
    "xmin,xmax=513,1031#0,512"
   ]
  },
  {
   "cell_type": "code",
   "execution_count": 3,
   "metadata": {},
   "outputs": [],
   "source": [
    "# All pixels\n",
    "xrow=np.mgrid[xmin:xmax]\n",
    "yrow=np.mgrid[ymin:ymax]\n",
    "xall=mb.repmat(xrow,yrow.size,1)*1.\n",
    "yall=mb.repmat(yrow,xrow.size,1)*1.\n",
    "yall=np.transpose(yall)\n",
    "# Recast as 1d arrays\n",
    "xall=xall.reshape(-1)\n",
    "yall=yall.reshape(-1)"
   ]
  },
  {
   "cell_type": "code",
   "execution_count": null,
   "metadata": {},
   "outputs": [],
   "source": []
  },
  {
   "cell_type": "code",
   "execution_count": 4,
   "metadata": {},
   "outputs": [],
   "source": [
    "# CDP-8b\n",
    "mt.set_toolversion('cdp8b')"
   ]
  },
  {
   "cell_type": "code",
   "execution_count": 5,
   "metadata": {},
   "outputs": [],
   "source": [
    "# Convert to alpha/beta\n",
    "values=mt.xytoabl(xall,yall,channel,trim=1)\n",
    "alpha=values['alpha']\n",
    "beta=values['beta']\n",
    "lam=values['lam']"
   ]
  },
  {
   "cell_type": "code",
   "execution_count": 6,
   "metadata": {},
   "outputs": [],
   "source": [
    "v2,v3=mt.abtov2v3(alpha,beta,channel)"
   ]
  },
  {
   "cell_type": "code",
   "execution_count": 7,
   "metadata": {},
   "outputs": [],
   "source": [
    "alpha2,beta2=mt.v2v3toab(v2,v3,channel)"
   ]
  },
  {
   "cell_type": "code",
   "execution_count": 8,
   "metadata": {},
   "outputs": [],
   "source": [
    "values2=mt.abltoxy(alpha2,beta2,lam,channel)"
   ]
  },
  {
   "cell_type": "code",
   "execution_count": null,
   "metadata": {},
   "outputs": [],
   "source": []
  },
  {
   "cell_type": "code",
   "execution_count": null,
   "metadata": {},
   "outputs": [],
   "source": []
  },
  {
   "cell_type": "code",
   "execution_count": 9,
   "metadata": {},
   "outputs": [],
   "source": [
    "# FLT-1\n",
    "mt.set_toolversion('flt1')"
   ]
  },
  {
   "cell_type": "code",
   "execution_count": 10,
   "metadata": {},
   "outputs": [],
   "source": [
    "# Convert to alpha/beta\n",
    "values_flt1=mt.xytoabl(xall,yall,channel,trim=1)\n",
    "alpha_flt1=values_flt1['alpha']\n",
    "beta_flt1=values_flt1['beta']\n",
    "lam_flt1=values_flt1['lam']"
   ]
  },
  {
   "cell_type": "code",
   "execution_count": 11,
   "metadata": {},
   "outputs": [],
   "source": [
    "v2_flt1,v3_flt1=mt.abtov2v3(alpha_flt1,beta_flt1,channel)"
   ]
  },
  {
   "cell_type": "code",
   "execution_count": 12,
   "metadata": {},
   "outputs": [],
   "source": [
    "alpha2_flt1,beta2_flt1=mt.v2v3toab(v2_flt1,v3_flt1,channel)"
   ]
  },
  {
   "cell_type": "code",
   "execution_count": 13,
   "metadata": {},
   "outputs": [],
   "source": [
    "values2_flt1=mt.abltoxy(alpha2_flt1,beta2_flt1,lam_flt1,channel)"
   ]
  },
  {
   "cell_type": "code",
   "execution_count": null,
   "metadata": {},
   "outputs": [],
   "source": []
  },
  {
   "cell_type": "code",
   "execution_count": 14,
   "metadata": {},
   "outputs": [],
   "source": [
    "#indx=100\n",
    "#values_flt1['alpha'][indx],values_flt1['beta'][indx],values_flt1['lam'][indx],values_flt1['x'][indx],values_flt1['y'][indx]"
   ]
  },
  {
   "cell_type": "code",
   "execution_count": 15,
   "metadata": {},
   "outputs": [],
   "source": [
    "#indx=100\n",
    "#values2_flt1['alpha'][indx],values2_flt1['beta'][indx],values2_flt1['lam'][indx],values2_flt1['x'][indx],values2_flt1['y'][indx]"
   ]
  },
  {
   "cell_type": "code",
   "execution_count": null,
   "metadata": {},
   "outputs": [],
   "source": []
  },
  {
   "cell_type": "code",
   "execution_count": null,
   "metadata": {},
   "outputs": [],
   "source": []
  },
  {
   "cell_type": "code",
   "execution_count": null,
   "metadata": {},
   "outputs": [],
   "source": []
  },
  {
   "cell_type": "code",
   "execution_count": 16,
   "metadata": {},
   "outputs": [
    {
     "data": {
      "text/plain": [
       "<matplotlib.legend.Legend at 0x7f8c80e84790>"
      ]
     },
     "execution_count": 16,
     "metadata": {},
     "output_type": "execute_result"
    },
    {
     "data": {
      "image/png": "[encoded data removed]",
      "text/plain": [
       "<Figure size 750x750 with 1 Axes>"
      ]
     },
     "metadata": {
      "needs_background": "light"
     },
     "output_type": "display_data"
    }
   ],
   "source": [
    "plt.figure(figsize=(5,5),dpi=150)\n",
    "ax = plt.gca()\n",
    "plt.plot(alpha_flt1,beta_flt1,'.',label='flt1')\n",
    "plt.plot(alpha,beta+0.1,'.',label='cdp8b')\n",
    "plt.xlabel('Alpha (arcsec)')\n",
    "plt.ylabel('Beta (arcsec)')\n",
    "plt.legend()"
   ]
  },
  {
   "cell_type": "code",
   "execution_count": 17,
   "metadata": {},
   "outputs": [
    {
     "name": "stdout",
     "output_type": "stream",
     "text": [
      "0.019895542218593135 0.019895542218593135\n"
     ]
    }
   ],
   "source": [
    "print(np.mean(alpha_flt1),np.mean(alpha))"
   ]
  },
  {
   "cell_type": "code",
   "execution_count": 18,
   "metadata": {},
   "outputs": [
    {
     "name": "stdout",
     "output_type": "stream",
     "text": [
      "3.0115411061274244 -3.0183423870166735\n"
     ]
    }
   ],
   "source": [
    "print(np.max(alpha),np.min(alpha))"
   ]
  },
  {
   "cell_type": "code",
   "execution_count": null,
   "metadata": {},
   "outputs": [],
   "source": []
  },
  {
   "cell_type": "code",
   "execution_count": 19,
   "metadata": {},
   "outputs": [
    {
     "data": {
      "text/plain": [
       "<matplotlib.legend.Legend at 0x7f8ca0ad4e20>"
      ]
     },
     "execution_count": 19,
     "metadata": {},
     "output_type": "execute_result"
    },
    {
     "data": {
      "image/png": "[encoded data removed]",
      "text/plain": [
       "<Figure size 750x750 with 1 Axes>"
      ]
     },
     "metadata": {
      "needs_background": "light"
     },
     "output_type": "display_data"
    }
   ],
   "source": [
    "plt.figure(figsize=(5,5),dpi=150)\n",
    "ax = plt.gca()\n",
    "plt.plot(v2_flt1,v3_flt1,'.',label='flt1')\n",
    "plt.plot(v2,v3+0.1,'.',label='cdp8b')\n",
    "plt.xlabel('v2 (arcsec)')\n",
    "plt.ylabel('v3 (arcsec)')\n",
    "plt.legend()\n",
    "#plt.xlim(-505.5, -505.0)\n",
    "#plt.ylim(-320.5,-320)"
   ]
  },
  {
   "cell_type": "code",
   "execution_count": 20,
   "metadata": {},
   "outputs": [],
   "source": [
    "da=alpha_flt1-alpha2_flt1\n",
    "db=beta_flt1-beta2_flt1\n",
    "\n",
    "#indx=(np.where((values2['slicenum'] > 0) ))[0]\n",
    "indx=(np.where((values2_flt1['x'] > -300) ))[0]\n",
    "\n",
    "\n",
    "dx=values_flt1['x']-values2_flt1['x']\n",
    "#dx=dx[indx]\n",
    "dy=values_flt1['y']-values2_flt1['y']\n",
    "#dy=dy[indx]"
   ]
  },
  {
   "cell_type": "code",
   "execution_count": 21,
   "metadata": {},
   "outputs": [
    {
     "data": {
      "text/plain": [
       "-0.0055395757645345335"
      ]
     },
     "execution_count": 21,
     "metadata": {},
     "output_type": "execute_result"
    }
   ],
   "source": [
    "dy[100]"
   ]
  },
  {
   "cell_type": "code",
   "execution_count": 22,
   "metadata": {},
   "outputs": [
    {
     "data": {
      "text/plain": [
       "(1.5538338290537013, 1.553033369868274)"
      ]
     },
     "execution_count": 22,
     "metadata": {},
     "output_type": "execute_result"
    }
   ],
   "source": [
    "values_flt1['alpha'][100],values2_flt1['alpha'][100]"
   ]
  },
  {
   "cell_type": "code",
   "execution_count": 23,
   "metadata": {},
   "outputs": [
    {
     "data": {
      "text/plain": [
       "(2.143975780804, 2.144511398069426)"
      ]
     },
     "execution_count": 23,
     "metadata": {},
     "output_type": "execute_result"
    }
   ],
   "source": [
    "values_flt1['beta'][100],values2_flt1['beta'][100]"
   ]
  },
  {
   "cell_type": "code",
   "execution_count": 24,
   "metadata": {},
   "outputs": [
    {
     "data": {
      "text/plain": [
       "(array([27375., 38411., 38562., 38651., 38510., 38712., 38728., 38745.,\n",
       "        39161., 29354.]),\n",
       " array([-3.01674529e+00, -2.41363687e+00, -1.81052846e+00, -1.20742004e+00,\n",
       "        -6.04311623e-01, -1.20320674e-03,  6.01905210e-01,  1.20501363e+00,\n",
       "         1.80812204e+00,  2.41123046e+00,  3.01433887e+00]),\n",
       " <BarContainer object of 10 artists>)"
      ]
     },
     "execution_count": 24,
     "metadata": {},
     "output_type": "execute_result"
    },
    {
     "data": {
      "image/png": "[encoded data removed]",
      "text/plain": [
       "<Figure size 432x288 with 1 Axes>"
      ]
     },
     "metadata": {
      "needs_background": "light"
     },
     "output_type": "display_data"
    }
   ],
   "source": [
    "junk=values2_flt1['alpha'][indx]\n",
    "plt.hist(junk)"
   ]
  },
  {
   "cell_type": "code",
   "execution_count": null,
   "metadata": {},
   "outputs": [],
   "source": []
  },
  {
   "cell_type": "code",
   "execution_count": 25,
   "metadata": {},
   "outputs": [
    {
     "data": {
      "text/plain": [
       "<matplotlib.legend.Legend at 0x7f8c6134afe0>"
      ]
     },
     "execution_count": 25,
     "metadata": {},
     "output_type": "execute_result"
    },
    {
     "data": {
      "image/png": "[encoded data removed]",
      "text/plain": [
       "<Figure size 432x288 with 1 Axes>"
      ]
     },
     "metadata": {
      "needs_background": "light"
     },
     "output_type": "display_data"
    }
   ],
   "source": [
    "plt.hist(da,alpha=0.5,label='dAlpha')\n",
    "plt.hist(db,alpha=0.5,label='dBeta')\n",
    "plt.legend()"
   ]
  },
  {
   "cell_type": "code",
   "execution_count": 26,
   "metadata": {},
   "outputs": [
    {
     "data": {
      "text/plain": [
       "<matplotlib.legend.Legend at 0x7f8ca0a56d10>"
      ]
     },
     "execution_count": 26,
     "metadata": {},
     "output_type": "execute_result"
    },
    {
     "data": {
      "image/png": "[encoded data removed]",
      "text/plain": [
       "<Figure size 432x288 with 1 Axes>"
      ]
     },
     "metadata": {
      "needs_background": "light"
     },
     "output_type": "display_data"
    }
   ],
   "source": [
    "plt.hist(dx,alpha=0.5,label='dx')\n",
    "plt.hist(dy,alpha=0.5,label='dy')\n",
    "plt.legend()"
   ]
  },
  {
   "cell_type": "code",
   "execution_count": 31,
   "metadata": {},
   "outputs": [
    {
     "data": {
      "text/plain": [
       "array([928., 929., 930., 931., 932., 933., 934., 935., 936., 960., 961.,\n",
       "       985., 986., 987., 988., 989., 990., 991., 992., 993., 994.])"
      ]
     },
     "execution_count": 31,
     "metadata": {},
     "output_type": "execute_result"
    }
   ],
   "source": [
    "indx=np.where(dx > 200)\n",
    "values_flt1['x'][indx]"
   ]
  },
  {
   "cell_type": "code",
   "execution_count": 28,
   "metadata": {},
   "outputs": [
    {
     "data": {
      "text/plain": [
       "array([-999., -999., -999., -999., -999., -999., -999., -999., -999.,\n",
       "       -999., -999., -999., -999., -999., -999., -999., -999., -999.,\n",
       "       -999., -999., -999.])"
      ]
     },
     "execution_count": 28,
     "metadata": {},
     "output_type": "execute_result"
    }
   ],
   "source": [
    "values2_flt1['x'][indx]"
   ]
  },
  {
   "cell_type": "code",
   "execution_count": 29,
   "metadata": {},
   "outputs": [
    {
     "data": {
      "text/plain": [
       "366230"
      ]
     },
     "execution_count": 29,
     "metadata": {},
     "output_type": "execute_result"
    }
   ],
   "source": [
    "len(dx)"
   ]
  },
  {
   "cell_type": "code",
   "execution_count": null,
   "metadata": {},
   "outputs": [],
   "source": []
  }
 ],
 "metadata": {
  "kernelspec": {
   "display_name": "Python 3 (ipykernel)",
   "language": "python",
   "name": "python3"
  },
  "language_info": {
   "codemirror_mode": {
    "name": "ipython",
    "version": 3
   },
   "file_extension": ".py",
   "mimetype": "text/x-python",
   "name": "python",
   "nbconvert_exporter": "python",
   "pygments_lexer": "ipython3",
   "version": "3.10.0"
  }
 },
 "nbformat": 4,
 "nbformat_minor": 2
}
