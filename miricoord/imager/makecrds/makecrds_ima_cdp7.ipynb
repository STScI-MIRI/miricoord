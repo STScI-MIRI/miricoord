{
 "cells": [
  {
   "cell_type": "markdown",
   "metadata": {},
   "source": [
    "## Purpose: Create new MIRI imager reference files for CDP7 ##"
   ]
  },
  {
   "cell_type": "markdown",
   "metadata": {},
   "source": [
    "First import the things that we need from the pipeline code"
   ]
  },
  {
   "cell_type": "code",
   "execution_count": 1,
   "metadata": {},
   "outputs": [],
   "source": [
    "import os as os\n",
    "import numpy as np\n",
    "import pdb as pdb\n",
    "from astropy.modeling import models\n",
    "from asdf import AsdfFile\n",
    "from jwst import datamodels\n",
    "from jwst.assign_wcs import miri"
   ]
  },
  {
   "cell_type": "markdown",
   "metadata": {},
   "source": [
    "Import the MIRI coordinates code from https://github.com/STScI-MIRI/coordinates and ensure that it is on the PYTHONPATH.  Also ensure that the output data directory is set:"
   ]
  },
  {
   "cell_type": "markdown",
   "metadata": {},
   "source": [
    "setenv MIRICOORD_DATA_DIR /YourLocalPathToData/ (this is where io will happen)"
   ]
  },
  {
   "cell_type": "code",
   "execution_count": 2,
   "metadata": {},
   "outputs": [],
   "source": [
    "data_dir=os.path.expandvars('$MIRICOORD_DATA_DIR')"
   ]
  },
  {
   "cell_type": "code",
   "execution_count": null,
   "metadata": {},
   "outputs": [],
   "source": []
  },
  {
   "cell_type": "markdown",
   "metadata": {},
   "source": [
    "Import the standalone MIRI imager tools that use the FITS distortion files, and set to CDP-7"
   ]
  },
  {
   "cell_type": "code",
   "execution_count": 3,
   "metadata": {},
   "outputs": [],
   "source": [
    "import miricoord.imager.mirim_tools as mt\n",
    "mt.set_toolversion('cdp7')"
   ]
  },
  {
   "cell_type": "markdown",
   "metadata": {},
   "source": [
    "Import the MIRI imager pipeline tools that can work with the CRDS distortion files, and set to CDP-7"
   ]
  },
  {
   "cell_type": "code",
   "execution_count": 4,
   "metadata": {},
   "outputs": [],
   "source": [
    "import miricoord.imager.mirim_pipetools as mpt\n",
    "mpt.set_toolversion('cdp7')"
   ]
  },
  {
   "cell_type": "markdown",
   "metadata": {},
   "source": [
    "Import the code that actually creates the CRDS distortion files"
   ]
  },
  {
   "cell_type": "code",
   "execution_count": 5,
   "metadata": {},
   "outputs": [],
   "source": [
    "import miricoord.imager.makecrds.makecrds_ima_cdp7 as cdpcreate"
   ]
  },
  {
   "cell_type": "code",
   "execution_count": null,
   "metadata": {},
   "outputs": [],
   "source": []
  },
  {
   "cell_type": "markdown",
   "metadata": {},
   "source": [
    "Point to the IDT-delivered CDP file that we're using"
   ]
  },
  {
   "cell_type": "code",
   "execution_count": 6,
   "metadata": {},
   "outputs": [],
   "source": [
    "cdpfile=mt.get_fitsreffile()"
   ]
  },
  {
   "cell_type": "markdown",
   "metadata": {},
   "source": [
    "Specify our output filenames for the two asdf files"
   ]
  },
  {
   "cell_type": "code",
   "execution_count": 7,
   "metadata": {},
   "outputs": [],
   "source": [
    "distfile=os.path.join(data_dir,\"temp/jwst_miri_imager_distortion_cdp7.asdf\")"
   ]
  },
  {
   "cell_type": "code",
   "execution_count": 8,
   "metadata": {},
   "outputs": [],
   "source": [
    "offfile=os.path.join(data_dir,\"temp/jwst_miri_filteroffset_cdp7.asdf\")"
   ]
  },
  {
   "cell_type": "markdown",
   "metadata": {},
   "source": [
    "Call the code to actually make the reference files"
   ]
  },
  {
   "cell_type": "code",
   "execution_count": 9,
   "metadata": {},
   "outputs": [],
   "source": [
    "cdpcreate.make_references(cdpfile,{'DISTORTION': distfile, 'FILTEROFFSET':offfile})"
   ]
  },
  {
   "cell_type": "markdown",
   "metadata": {},
   "source": [
    "Now point to these reference files and load the transform into the function 'xform'"
   ]
  },
  {
   "cell_type": "code",
   "execution_count": 10,
   "metadata": {},
   "outputs": [
    {
     "data": {
      "text/plain": [
       "{'distortion': '/ifs/jwst/wit/miri/gitdata/STScI-MIRI/miricoord/temp/jwst_miri_imager_distortion_cdp7.asdf',\n",
       " 'filteroffset': '/ifs/jwst/wit/miri/gitdata/STScI-MIRI/miricoord/temp/jwst_miri_filteroffset_cdp7.asdf'}"
      ]
     },
     "execution_count": 10,
     "metadata": {},
     "output_type": "execute_result"
    }
   ],
   "source": [
    "refs = {\"distortion\": distfile, \"filteroffset\": offfile}\n",
    "refs"
   ]
  },
  {
   "cell_type": "code",
   "execution_count": 11,
   "metadata": {},
   "outputs": [],
   "source": [
    "xform=mpt.xytov2v3model('F770W',refs=refs)"
   ]
  },
  {
   "cell_type": "code",
   "execution_count": null,
   "metadata": {},
   "outputs": [],
   "source": []
  },
  {
   "cell_type": "markdown",
   "metadata": {},
   "source": [
    "The pipeline uses 0-indexed detector pixels; the MIRI ASDF object assumes this form of input and converts as necessary to the reference frames needed by various IDT transforms.  The reference point of the imager is 692.5, 511.5 in this 0-indexed convention; test that it gives the correct v2,v3 (-453.559, -373.814)"
   ]
  },
  {
   "cell_type": "code",
   "execution_count": 12,
   "metadata": {},
   "outputs": [],
   "source": [
    "x,y=692.5,511.5"
   ]
  },
  {
   "cell_type": "code",
   "execution_count": 13,
   "metadata": {},
   "outputs": [],
   "source": [
    "v2,v3=xform(x,y)"
   ]
  },
  {
   "cell_type": "code",
   "execution_count": 14,
   "metadata": {},
   "outputs": [
    {
     "name": "stdout",
     "output_type": "stream",
     "text": [
      "-453.5591160661637 -373.81444687292515\n"
     ]
    }
   ],
   "source": [
    "print(v2,v3)"
   ]
  },
  {
   "cell_type": "markdown",
   "metadata": {},
   "source": [
    "And the inverse transform"
   ]
  },
  {
   "cell_type": "code",
   "execution_count": 15,
   "metadata": {},
   "outputs": [
    {
     "data": {
      "text/plain": [
       "(692.501834160098, 511.49268215536677)"
      ]
     },
     "execution_count": 15,
     "metadata": {},
     "output_type": "execute_result"
    }
   ],
   "source": [
    "xform.inverse(-453.559,-373.814)"
   ]
  },
  {
   "cell_type": "markdown",
   "metadata": {},
   "source": [
    "This location (-453.559, -373.814) which changed in CDP-7 is the agreed-upon reference point. \n",
    "Now run a full test of the transform against a table of known values using a dedicated testing script.  If no output, it worked."
   ]
  },
  {
   "cell_type": "code",
   "execution_count": 16,
   "metadata": {},
   "outputs": [],
   "source": [
    "cdpcreate.test_transform(refs=refs)"
   ]
  },
  {
   "cell_type": "markdown",
   "metadata": {},
   "source": [
    "As of Apr 12 2017 we can't test the bounding box implementation directly because it is build into the pipeline, not the model class.  Therefore we must test this by actually running the pipeline on MIRI Imager test and reading the transform in from there.  This is done with the mirim_imagertest.ipynb notebook"
   ]
  },
  {
   "cell_type": "code",
   "execution_count": null,
   "metadata": {},
   "outputs": [],
   "source": []
  },
  {
   "cell_type": "code",
   "execution_count": 17,
   "metadata": {},
   "outputs": [
    {
     "data": {
      "text/plain": [
       "<CompoundModel(offset_0=-0., offset_1=-0., offset_2=-4., c0_4=-12.7875, c1_4=0.025, c0_5=-12.7875, c1_5=0.025, c0_0_7=0.00147138, c1_0_7=0.01109653, c2_0_7=-0.00130369, c3_0_7=0.00000003, c4_0_7=0.00000073, c0_1_7=4.4505596, c0_2_7=-0.00020939, c0_3_7=-0.00019305, c0_4_7=0.00000523, c1_1_7=0.00022353, c1_2_7=0.00000126, c1_3_7=0.00000001, c2_1_7=-0.00010173, c2_2_7=0.00000505, c3_1_7=0.00000001, c0_0_8=0.00313941, c1_0_8=4.41486204, c2_0_8=0.00017775, c3_0_8=0.00000381, c4_0_8=0., c0_1_8=-0.0220801, c0_2_8=-0.0000569, c0_3_8=0.00000188, c0_4_8=-0.00000003, c1_1_8=-0.00279708, c1_2_8=-0.00005583, c1_3_8=0.00000338, c2_1_8=0.00000044, c2_2_8=-0.00000002, c3_1_8=0.00000238, c0_0_10=-375.39, c1_0_10=0.99684849, c0_1_10=0.07932904, c0_0_11=-434.08, c1_0_11=0.07932904, c0_1_11=-0.99684849)>"
      ]
     },
     "execution_count": 17,
     "metadata": {},
     "output_type": "execute_result"
    }
   ],
   "source": [
    "xform"
   ]
  },
  {
   "cell_type": "code",
   "execution_count": null,
   "metadata": {},
   "outputs": [],
   "source": []
  }
 ],
 "metadata": {
  "kernelspec": {
   "display_name": "Python 3",
   "language": "python",
   "name": "python3"
  },
  "language_info": {
   "codemirror_mode": {
    "name": "ipython",
    "version": 3
   },
   "file_extension": ".py",
   "mimetype": "text/x-python",
   "name": "python",
   "nbconvert_exporter": "python",
   "pygments_lexer": "ipython3",
   "version": "3.7.4"
  }
 },
 "nbformat": 4,
 "nbformat_minor": 2
}
