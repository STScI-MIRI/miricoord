{
 "cells": [
  {
   "cell_type": "markdown",
   "metadata": {},
   "source": [
    "# This notebook creates the MIRI Imager boresight offsets table for the PRD #"
   ]
  },
  {
   "cell_type": "code",
   "execution_count": 1,
   "metadata": {},
   "outputs": [],
   "source": [
    "import numpy as np\n",
    "import os\n",
    "import getpass\n",
    "import socket\n",
    "import pdb as pdb\n",
    "from astropy.modeling import models\n",
    "from asdf import AsdfFile\n",
    "from jwst import datamodels\n",
    "from jwst.assign_wcs import miri\n",
    "from astropy.io import fits\n",
    "import datetime"
   ]
  },
  {
   "cell_type": "markdown",
   "metadata": {},
   "source": [
    "Import the MIRI coordinates code from https://github.com/STScI-MIRI/miricoord and ensure that it is on the PYTHONPATH.  Also ensure that the output data directory is set:<br>\n",
    "setenv MIRICOORD_DATA_DIR /YourLocalPathToData/ (this is where io will happen)"
   ]
  },
  {
   "cell_type": "code",
   "execution_count": 2,
   "metadata": {},
   "outputs": [],
   "source": [
    "data_dir=os.path.expandvars('$MIRICOORD_DATA_DIR')"
   ]
  },
  {
   "cell_type": "code",
   "execution_count": null,
   "metadata": {},
   "outputs": [],
   "source": []
  },
  {
   "cell_type": "markdown",
   "metadata": {},
   "source": [
    "Import the MIRI standalone tools"
   ]
  },
  {
   "cell_type": "code",
   "execution_count": 3,
   "metadata": {},
   "outputs": [],
   "source": [
    "import miricoord.miricoord.imager.mirim_tools as mt"
   ]
  },
  {
   "cell_type": "markdown",
   "metadata": {},
   "source": [
    "Import the MIRI pipeline tools"
   ]
  },
  {
   "cell_type": "code",
   "execution_count": 4,
   "metadata": {},
   "outputs": [],
   "source": [
    "import miricoord.miricoord.imager.mirim_pipetools as mpt"
   ]
  },
  {
   "cell_type": "markdown",
   "metadata": {},
   "source": [
    "<br>"
   ]
  },
  {
   "cell_type": "markdown",
   "metadata": {},
   "source": [
    "Import the pysiaf tools for working with the SIAF, and read the MIRI apertures"
   ]
  },
  {
   "cell_type": "code",
   "execution_count": 5,
   "metadata": {},
   "outputs": [],
   "source": [
    "import pysiaf"
   ]
  },
  {
   "cell_type": "code",
   "execution_count": 6,
   "metadata": {},
   "outputs": [],
   "source": [
    "siaf = pysiaf.Siaf('MIRI') "
   ]
  },
  {
   "cell_type": "code",
   "execution_count": 7,
   "metadata": {},
   "outputs": [],
   "source": [
    "siafversion=pysiaf.JWST_PRD_VERSION"
   ]
  },
  {
   "cell_type": "markdown",
   "metadata": {},
   "source": [
    "<BR>"
   ]
  },
  {
   "cell_type": "markdown",
   "metadata": {},
   "source": [
    "Load up the MIRI Imager distortion model (using F770W since we're COMPUTING offsets rather than using them)"
   ]
  },
  {
   "cell_type": "code",
   "execution_count": 8,
   "metadata": {},
   "outputs": [],
   "source": [
    "model=mpt.xytov2v3model('F770W')"
   ]
  },
  {
   "cell_type": "markdown",
   "metadata": {},
   "source": [
    "<BR>"
   ]
  },
  {
   "cell_type": "markdown",
   "metadata": {},
   "source": [
    "Point to the IDT-delivered CDP file that we're using"
   ]
  },
  {
   "cell_type": "code",
   "execution_count": 9,
   "metadata": {},
   "outputs": [],
   "source": [
    "cdpfile=mt.get_fitsreffile()"
   ]
  },
  {
   "cell_type": "code",
   "execution_count": 10,
   "metadata": {},
   "outputs": [],
   "source": [
    "hdul = fits.open(cdpfile)"
   ]
  },
  {
   "cell_type": "code",
   "execution_count": 11,
   "metadata": {},
   "outputs": [],
   "source": [
    "tbdata = hdul['Boresight offsets'].data"
   ]
  },
  {
   "cell_type": "code",
   "execution_count": 12,
   "metadata": {},
   "outputs": [],
   "source": [
    "#print(tbdata.columns)"
   ]
  },
  {
   "cell_type": "code",
   "execution_count": 13,
   "metadata": {},
   "outputs": [],
   "source": [
    "allfilters=tbdata.field('filter')"
   ]
  },
  {
   "cell_type": "code",
   "execution_count": 14,
   "metadata": {},
   "outputs": [],
   "source": [
    "nfilter=len(allfilters)"
   ]
  },
  {
   "cell_type": "code",
   "execution_count": 15,
   "metadata": {},
   "outputs": [],
   "source": [
    "#print(tbdata)"
   ]
  },
  {
   "cell_type": "markdown",
   "metadata": {},
   "source": [
    "<BR>"
   ]
  },
  {
   "cell_type": "markdown",
   "metadata": {},
   "source": [
    "Define two output files: One for TA boresights, one for science boresights"
   ]
  },
  {
   "cell_type": "code",
   "execution_count": 16,
   "metadata": {},
   "outputs": [],
   "source": [
    "taoutfile=data_dir+'boresight/temp/miri_boresight_ta.txt'\n",
    "scioutfile=data_dir+'boresight/temp/miri_boresight_sci.txt'"
   ]
  },
  {
   "cell_type": "markdown",
   "metadata": {},
   "source": [
    "Log information about when the files were run, with what inputs"
   ]
  },
  {
   "cell_type": "code",
   "execution_count": 17,
   "metadata": {},
   "outputs": [],
   "source": [
    "now=datetime.datetime.now()"
   ]
  },
  {
   "cell_type": "code",
   "execution_count": 18,
   "metadata": {},
   "outputs": [],
   "source": [
    "print('#',now.isoformat(),file=open(taoutfile,\"w\"))\n",
    "print('#',now.isoformat(),file=open(scioutfile,\"w\"))\n",
    "print('# Created by user',getpass.getuser(),'at',socket.gethostname(),file=open(taoutfile,\"a\"))\n",
    "print('# Created by user',getpass.getuser(),'at',socket.gethostname(),file=open(scioutfile,\"a\"))\n",
    "print('# Boresight pixel file:',cdpfile,file=open(taoutfile,\"a\"))\n",
    "print('# Boresight pixel file:',cdpfile,file=open(scioutfile,\"a\"))\n",
    "print('# SIAF file:',siafversion,file=open(taoutfile,\"a\"))\n",
    "print('# SIAF file:',siafversion,file=open(scioutfile,\"a\"))\n",
    "print('# Offsets (arcsec) are set so that they should be ADDED to the commanded position',file=open(taoutfile,\"a\"))\n",
    "print('# Offsets (arcsec) are set so that they should be ADDED to the commanded position',file=open(scioutfile,\"a\"))"
   ]
  },
  {
   "cell_type": "markdown",
   "metadata": {},
   "source": [
    "Print a header line about the column entries"
   ]
  },
  {
   "cell_type": "code",
   "execution_count": 19,
   "metadata": {},
   "outputs": [],
   "source": [
    "print(\"{:20} {:10} {:10} {:10}\".format('# AperName','TAFilter','dv2','dv3'), file=open(taoutfile,\"a\"))\n",
    "print(\"{:20} {:10} {:10} {:10}\".format('# AperName','SciFilter','dv2','dv3'), file=open(scioutfile,\"a\"))"
   ]
  },
  {
   "cell_type": "markdown",
   "metadata": {},
   "source": [
    "<BR>"
   ]
  },
  {
   "cell_type": "markdown",
   "metadata": {},
   "source": [
    "Set up the desired sign of the outputs.  We want APT to ADD both the TA filter and science filter corrections, therefore we need to incorporate the negative sign on the TA filter offset into our reported values"
   ]
  },
  {
   "cell_type": "code",
   "execution_count": 20,
   "metadata": {},
   "outputs": [],
   "source": [
    "tasign=-1\n",
    "scisign=+1"
   ]
  },
  {
   "cell_type": "markdown",
   "metadata": {},
   "source": [
    "<BR>"
   ]
  },
  {
   "cell_type": "markdown",
   "metadata": {},
   "source": [
    "We will in each case do the conversion from pixel boresight offset to v2/v3 offset.  We will use the location of the TA aperture for MRS and LRS slit (because these science apertures don't have explicit pixel locations on the imager), and the science aperture for everything else.  Offsets are given in v2/v3 to avoid ambiguities with the Ideal coordinate systems."
   ]
  },
  {
   "cell_type": "markdown",
   "metadata": {},
   "source": [
    "<BR>"
   ]
  },
  {
   "cell_type": "markdown",
   "metadata": {},
   "source": [
    "## Do the MRS case ##"
   ]
  },
  {
   "cell_type": "code",
   "execution_count": 21,
   "metadata": {},
   "outputs": [],
   "source": [
    "print(\"\",file=open(taoutfile,\"a\"))\n",
    "print(\"\",file=open(scioutfile,\"a\"))\n",
    "\n",
    "# Loop over each TA filter computing offsets\n",
    "for i in range(0,nfilter):\n",
    "    thisentry=siaf['MIRIM_TAMRS']\n",
    "    xdet,ydet=thisentry.XDetRef-1,thisentry.YDetRef-1 # Define the location in 0-indexed pixels (subtract 1 from SIAF)\n",
    "    v2ref,v3ref=thisentry.V2Ref,thisentry.V3Ref\n",
    "    x,y=xdet+tbdata[i].field('col_offset'),ydet+tbdata[i].field('row_offset')\n",
    "    v2,v3=model(x,y)\n",
    "    dv2,dv3=v2-v2ref,v3-v3ref\n",
    "    # Print the negative of the offsets so that they can be added to the commanded position\n",
    "    print(\"{val1:20} {val2:10} {0:<10.4f} {1:<10.4f}\".format(tasign*dv2,tasign*dv3,val1='MIRIFU*',val2=tbdata[i].field('filter')),file=open(taoutfile,\"a\"))\n",
    "    \n",
    "# Loop over each science filter (for MRS only one option)\n",
    "print(\"{val1:20} {val2:10} {0:<10.4f} {1:<10.4f}\".format(0,0,val1='MIRIFU*',val2='ALL'),file=open(scioutfile,\"a\"))"
   ]
  },
  {
   "cell_type": "markdown",
   "metadata": {},
   "source": [
    "<BR>"
   ]
  },
  {
   "cell_type": "markdown",
   "metadata": {},
   "source": [
    "## Do the LRS slit case ##"
   ]
  },
  {
   "cell_type": "code",
   "execution_count": 22,
   "metadata": {},
   "outputs": [],
   "source": [
    "print(\"\",file=open(taoutfile,\"a\"))\n",
    "print(\"\",file=open(scioutfile,\"a\"))\n",
    "\n",
    "# Loop over each TA filter computing offsets AT THE SCIENCE APERTURE LOCATION\n",
    "for i in range(0,nfilter):\n",
    "    thisentry=siaf['MIRIM_TALRS']\n",
    "    xdet,ydet=thisentry.XDetRef-1,thisentry.YDetRef-1 # Define the location in 0-indexed pixels (subtract 1 from SIAF)\n",
    "    v2ref,v3ref=thisentry.V2Ref,thisentry.V3Ref\n",
    "    x,y=xdet+tbdata[i].field('col_offset'),ydet+tbdata[i].field('row_offset')\n",
    "    v2,v3=model(x,y)\n",
    "    dv2,dv3=v2-v2ref,v3-v3ref\n",
    "    # Print the value of the offsets so that they can be added to the commanded position\n",
    "    print(\"{val1:20} {val2:10} {0:<10.4f} {1:<10.4f}\".format(tasign*dv2,tasign*dv3,val1='MIRIM_SLIT',val2=tbdata[i].field('filter')),file=open(taoutfile,\"a\"))\n",
    "    \n",
    "# Loop over each science filter (for LRS only one option)\n",
    "print(\"{val1:20} {val2:10} {0:<10.4f} {1:<10.4f}\".format(0,0,val1='MIRIM_SLIT',val2='ALL'),file=open(scioutfile,\"a\"))"
   ]
  },
  {
   "cell_type": "markdown",
   "metadata": {},
   "source": [
    "<br>"
   ]
  },
  {
   "cell_type": "markdown",
   "metadata": {},
   "source": [
    "## Do the LRS slitless case ##"
   ]
  },
  {
   "cell_type": "code",
   "execution_count": 23,
   "metadata": {},
   "outputs": [],
   "source": [
    "print(\"\",file=open(taoutfile,\"a\"))\n",
    "print(\"\",file=open(scioutfile,\"a\"))\n",
    "\n",
    "# Loop over each TA filter computing offsets\n",
    "for i in range(0,nfilter):\n",
    "    thisentry=siaf['MIRIM_SLITLESSPRISM']\n",
    "    xdet,ydet=thisentry.XDetRef-1,thisentry.YDetRef-1 # Define the location in 0-indexed pixels (subtract 1 from SIAF)\n",
    "    v2ref,v3ref=thisentry.V2Ref,thisentry.V3Ref\n",
    "    x,y=xdet+tbdata[i].field('col_offset'),ydet+tbdata[i].field('row_offset')\n",
    "    v2,v3=model(x,y)\n",
    "    dv2,dv3=v2-v2ref,v3-v3ref\n",
    "    # Print the value of the offsets so that they can be added to the commanded position\n",
    "    print(\"{val1:20} {val2:10} {0:<10.4f} {1:<10.4f}\".format(tasign*dv2,tasign*dv3,val1='MIRIM_SLITLESSPRISM',val2=tbdata[i].field('filter')),file=open(taoutfile,\"a\"))\n",
    "    \n",
    "# Loop over each science filter (for LRS only one option)\n",
    "print(\"{val1:20} {val2:10} {0:<10.4f} {1:<10.4f}\".format(0,0,val1='MIRIM_SLITLESSPRISM',val2='ALL'),file=open(scioutfile,\"a\"))"
   ]
  },
  {
   "cell_type": "markdown",
   "metadata": {},
   "source": [
    "<BR>"
   ]
  },
  {
   "cell_type": "markdown",
   "metadata": {},
   "source": [
    "## Do the coronagraphs ##"
   ]
  },
  {
   "cell_type": "markdown",
   "metadata": {},
   "source": [
    "Note that we use the 'MASK' apertures since these are the ones that drive the actual pointing; the 'CORON' apertures are just convenient for display purposes"
   ]
  },
  {
   "cell_type": "code",
   "execution_count": 24,
   "metadata": {},
   "outputs": [],
   "source": [
    "apernames=['MIRIM_MASK1065','MIRIM_MASK1140','MIRIM_MASK1550','MIRIM_MASKLYOT']\n",
    "naper=len(apernames)"
   ]
  },
  {
   "cell_type": "code",
   "execution_count": 25,
   "metadata": {},
   "outputs": [],
   "source": [
    "# Loop over each aperture\n",
    "for j in range(0,naper):\n",
    "    print(\"\",file=open(taoutfile,\"a\"))\n",
    "    print(\"\",file=open(scioutfile,\"a\"))\n",
    "\n",
    "    # Loop over each TA filter computing offsets\n",
    "    for i in range(0,nfilter):\n",
    "        thisentry=siaf[apernames[j]]\n",
    "        xdet,ydet=thisentry.XDetRef-1,thisentry.YDetRef-1 # Define the location in 0-indexed pixels (subtract 1 from SIAF)\n",
    "        v2ref,v3ref=thisentry.V2Ref,thisentry.V3Ref\n",
    "        x,y=xdet+tbdata[i].field('col_offset'),ydet+tbdata[i].field('row_offset')\n",
    "        v2,v3=model(x,y)\n",
    "        dv2,dv3=v2-v2ref,v3-v3ref\n",
    "        # Print the value of the offsets so that they can be added to the commanded position\n",
    "        print(\"{val1:20} {val2:10} {0:<10.4f} {1:<10.4f}\".format(tasign*dv2,tasign*dv3,val1=apernames[j],val2=tbdata[i].field('filter')),file=open(taoutfile,\"a\"))\n",
    "    \n",
    "    # Loop over each science filter computing offsets\n",
    "    for i in range(0,nfilter):\n",
    "        thisentry=siaf[apernames[j]]\n",
    "        xdet,ydet=thisentry.XDetRef-1,thisentry.YDetRef-1 # Define the location in 0-indexed pixels (subtract 1 from SIAF)\n",
    "        v2ref,v3ref=thisentry.V2Ref,thisentry.V3Ref\n",
    "        x,y=xdet+tbdata[i].field('col_offset'),ydet+tbdata[i].field('row_offset')\n",
    "        v2,v3=model(x,y)\n",
    "        dv2,dv3=v2-v2ref,v3-v3ref\n",
    "        # Print the value of the offsets so that they can be added to the commanded position\n",
    "        print(\"{val1:20} {val2:10} {0:<10.4f} {1:<10.4f}\".format(scisign*dv2,scisign*dv3,val1=apernames[j],val2=tbdata[i].field('filter')),file=open(scioutfile,\"a\"))\n",
    "    "
   ]
  },
  {
   "cell_type": "markdown",
   "metadata": {},
   "source": [
    "<BR>"
   ]
  },
  {
   "cell_type": "markdown",
   "metadata": {},
   "source": [
    "## Do the imaging regions ## "
   ]
  },
  {
   "cell_type": "code",
   "execution_count": 26,
   "metadata": {},
   "outputs": [],
   "source": [
    "apernames=['MIRIM_FULL','MIRIM_ILLUM','MIRIM_BRIGHTSKY','MIRIM_SUB256','MIRIM_SUB128','MIRIM_SUB64']\n",
    "naper=len(apernames)"
   ]
  },
  {
   "cell_type": "code",
   "execution_count": 27,
   "metadata": {},
   "outputs": [],
   "source": [
    "# Loop over each aperture\n",
    "for j in range(0,naper):\n",
    "    print(\"\",file=open(taoutfile,\"a\"))\n",
    "    print(\"\",file=open(scioutfile,\"a\"))\n",
    "\n",
    "    # Loop over each TA filter computing offsets\n",
    "    for i in range(0,nfilter):\n",
    "        thisentry=siaf[apernames[j]]\n",
    "        xdet,ydet=thisentry.XDetRef-1,thisentry.YDetRef-1 # Define the location in 0-indexed pixels (subtract 1 from SIAF)\n",
    "        v2ref,v3ref=thisentry.V2Ref,thisentry.V3Ref\n",
    "        x,y=xdet+tbdata[i].field('col_offset'),ydet+tbdata[i].field('row_offset')\n",
    "        v2,v3=model(x,y)\n",
    "        dv2,dv3=v2-v2ref,v3-v3ref\n",
    "        # Print the value of the offsets so that they can be added to the commanded position\n",
    "        print(\"{val1:20} {val2:10} {0:<10.4f} {1:<10.4f}\".format(tasign*dv2,tasign*dv3,val1=apernames[j],val2=tbdata[i].field('filter')),file=open(taoutfile,\"a\"))\n",
    "    \n",
    "    # Loop over each science filter computing offsets\n",
    "    for i in range(0,nfilter):\n",
    "        thisentry=siaf[apernames[j]]\n",
    "        xdet,ydet=thisentry.XDetRef-1,thisentry.YDetRef-1 # Define the location in 0-indexed pixels (subtract 1 from SIAF)\n",
    "        v2ref,v3ref=thisentry.V2Ref,thisentry.V3Ref\n",
    "        x,y=xdet+tbdata[i].field('col_offset'),ydet+tbdata[i].field('row_offset')\n",
    "        v2,v3=model(x,y)\n",
    "        dv2,dv3=v2-v2ref,v3-v3ref\n",
    "        # Print the value of the offsets so that they can be added to the commanded position\n",
    "        print(\"{val1:20} {val2:10} {0:<10.4f} {1:<10.4f}\".format(scisign*dv2,scisign*dv3,val1=apernames[j],val2=tbdata[i].field('filter')),file=open(scioutfile,\"a\"))\n",
    "    "
   ]
  }
 ],
 "metadata": {
  "kernelspec": {
   "display_name": "Python 3",
   "language": "python",
   "name": "python3"
  },
  "language_info": {
   "codemirror_mode": {
    "name": "ipython",
    "version": 3
   },
   "file_extension": ".py",
   "mimetype": "text/x-python",
   "name": "python",
   "nbconvert_exporter": "python",
   "pygments_lexer": "ipython3",
   "version": "3.7.4"
  }
 },
 "nbformat": 4,
 "nbformat_minor": 2
}
