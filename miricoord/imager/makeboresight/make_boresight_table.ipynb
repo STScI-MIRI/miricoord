{
 "cells": [
  {
   "cell_type": "markdown",
   "metadata": {},
   "source": [
    "# This notebook creates the MIRI Imager boresight offsets table for the PRD #"
   ]
  },
  {
   "cell_type": "markdown",
   "metadata": {},
   "source": [
    "This version has been revised July 2 2022 to use coron-specific boresight offsets in the coron regions"
   ]
  },
  {
   "cell_type": "code",
   "execution_count": 1,
   "metadata": {},
   "outputs": [],
   "source": [
    "import numpy as np\n",
    "import os\n",
    "import getpass\n",
    "import socket\n",
    "import pdb as pdb\n",
    "from astropy.modeling import models\n",
    "from asdf import AsdfFile\n",
    "from jwst import datamodels\n",
    "from jwst.assign_wcs import miri\n",
    "from astropy.io import fits\n",
    "import datetime\n",
    "from astropy.io import ascii\n",
    "import math\n",
    "\n",
    "rpd=math.pi/180."
   ]
  },
  {
   "cell_type": "markdown",
   "metadata": {},
   "source": [
    "Import the MIRI coordinates code from https://github.com/STScI-MIRI/miricoord and ensure that it is on the PYTHONPATH.  Also ensure that the output data directory is set:<br>\n",
    "setenv MIRICOORD_DATA_DIR /YourLocalPathToData/ (this is where io will happen)"
   ]
  },
  {
   "cell_type": "code",
   "execution_count": 2,
   "metadata": {},
   "outputs": [],
   "source": [
    "data_dir=os.path.expandvars('$MIRICOORD_DATA_DIR')"
   ]
  },
  {
   "cell_type": "code",
   "execution_count": null,
   "metadata": {},
   "outputs": [],
   "source": []
  },
  {
   "cell_type": "markdown",
   "metadata": {},
   "source": [
    "Import the MIRI standalone tools"
   ]
  },
  {
   "cell_type": "code",
   "execution_count": 3,
   "metadata": {},
   "outputs": [
    {
     "data": {
      "text/plain": [
       "'flt1'"
      ]
     },
     "execution_count": 3,
     "metadata": {},
     "output_type": "execute_result"
    }
   ],
   "source": [
    "import miricoord.imager.mirim_tools as mt\n",
    "mt.version()"
   ]
  },
  {
   "cell_type": "markdown",
   "metadata": {},
   "source": [
    "Import the MIRI pipeline tools"
   ]
  },
  {
   "cell_type": "code",
   "execution_count": 4,
   "metadata": {},
   "outputs": [
    {
     "data": {
      "text/plain": [
       "'flt1'"
      ]
     },
     "execution_count": 4,
     "metadata": {},
     "output_type": "execute_result"
    }
   ],
   "source": [
    "import miricoord.imager.mirim_pipetools as mpt\n",
    "mpt.version()"
   ]
  },
  {
   "cell_type": "markdown",
   "metadata": {},
   "source": [
    "<br>"
   ]
  },
  {
   "cell_type": "markdown",
   "metadata": {},
   "source": [
    "Import the pysiaf tools for working with the SIAF, and read the MIRI apertures"
   ]
  },
  {
   "cell_type": "code",
   "execution_count": 5,
   "metadata": {},
   "outputs": [
    {
     "name": "stdout",
     "output_type": "stream",
     "text": [
      "**WARNING**: LOCAL JWST PRD VERSION PRDOPSSOC-051 DOESN'T MATCH THE CURRENT ONLINE VERSION PRDOPSSOC-055\n",
      "Please consider updating pysiaf, e.g. pip install --upgrade pysiaf or conda update pysiaf\n"
     ]
    }
   ],
   "source": [
    "import pysiaf"
   ]
  },
  {
   "cell_type": "code",
   "execution_count": 6,
   "metadata": {},
   "outputs": [],
   "source": [
    "siaf = pysiaf.Siaf('MIRI') "
   ]
  },
  {
   "cell_type": "code",
   "execution_count": 7,
   "metadata": {},
   "outputs": [
    {
     "name": "stdout",
     "output_type": "stream",
     "text": [
      "PRDOPSSOC-051\n"
     ]
    }
   ],
   "source": [
    "siafversion=pysiaf.JWST_PRD_VERSION\n",
    "print(siafversion)"
   ]
  },
  {
   "cell_type": "markdown",
   "metadata": {},
   "source": [
    "<BR>"
   ]
  },
  {
   "cell_type": "markdown",
   "metadata": {},
   "source": [
    "Load up the MIRI Imager distortion model (using F770W since we're COMPUTING offsets rather than using them)"
   ]
  },
  {
   "cell_type": "code",
   "execution_count": 8,
   "metadata": {},
   "outputs": [],
   "source": [
    "model=mpt.xytov2v3model('F770W')"
   ]
  },
  {
   "cell_type": "markdown",
   "metadata": {},
   "source": [
    "<BR>"
   ]
  },
  {
   "cell_type": "markdown",
   "metadata": {},
   "source": [
    "Point to the IDT-delivered CDP file that we're using"
   ]
  },
  {
   "cell_type": "code",
   "execution_count": 9,
   "metadata": {},
   "outputs": [],
   "source": [
    "cdpfile=mt.get_fitsreffile()"
   ]
  },
  {
   "cell_type": "code",
   "execution_count": 10,
   "metadata": {},
   "outputs": [],
   "source": [
    "hdul = fits.open(cdpfile)"
   ]
  },
  {
   "cell_type": "code",
   "execution_count": 11,
   "metadata": {},
   "outputs": [],
   "source": [
    "tbdata = hdul['Boresight offsets'].data"
   ]
  },
  {
   "cell_type": "code",
   "execution_count": 12,
   "metadata": {},
   "outputs": [],
   "source": [
    "#print(tbdata.columns)"
   ]
  },
  {
   "cell_type": "code",
   "execution_count": 13,
   "metadata": {},
   "outputs": [],
   "source": [
    "allfilters=tbdata.field('filter')"
   ]
  },
  {
   "cell_type": "code",
   "execution_count": 14,
   "metadata": {},
   "outputs": [],
   "source": [
    "nfilter=len(allfilters)"
   ]
  },
  {
   "cell_type": "code",
   "execution_count": 15,
   "metadata": {},
   "outputs": [
    {
     "data": {
      "text/plain": [
       "('F1065C', 0.6, 2.15)"
      ]
     },
     "execution_count": 15,
     "metadata": {},
     "output_type": "execute_result"
    }
   ],
   "source": [
    "tbdata[10]"
   ]
  },
  {
   "cell_type": "markdown",
   "metadata": {},
   "source": [
    "<BR>"
   ]
  },
  {
   "cell_type": "code",
   "execution_count": null,
   "metadata": {},
   "outputs": [],
   "source": []
  },
  {
   "cell_type": "code",
   "execution_count": 16,
   "metadata": {},
   "outputs": [],
   "source": [
    "# For the time being, read coron-specific boresight offsets from a temporary reference file\n",
    "coronfile='new_imag_distortion.fits'\n",
    "coron=fits.open(coronfile)\n",
    "\n",
    "bore1065=coron['BoresightCORON1065'].data\n",
    "bore1140=coron['BoresightCORON1140'].data\n",
    "bore1550=coron['BoresightCORON1550'].data\n",
    "borelyot=coron['BoresightCORONLYOT'].data"
   ]
  },
  {
   "cell_type": "code",
   "execution_count": null,
   "metadata": {},
   "outputs": [],
   "source": []
  },
  {
   "cell_type": "code",
   "execution_count": null,
   "metadata": {},
   "outputs": [],
   "source": []
  },
  {
   "cell_type": "markdown",
   "metadata": {},
   "source": [
    "Define two output files: One for TA boresights, one for science boresights"
   ]
  },
  {
   "cell_type": "code",
   "execution_count": 17,
   "metadata": {},
   "outputs": [],
   "source": [
    "taoutfile=data_dir+'boresight/temp/miri_boresight_ta.txt'\n",
    "scioutfile=data_dir+'boresight/temp/miri_boresight_sci.txt'"
   ]
  },
  {
   "cell_type": "markdown",
   "metadata": {},
   "source": [
    "Log information about when the files were run, with what inputs"
   ]
  },
  {
   "cell_type": "code",
   "execution_count": 18,
   "metadata": {},
   "outputs": [],
   "source": [
    "now=datetime.datetime.now()"
   ]
  },
  {
   "cell_type": "code",
   "execution_count": 19,
   "metadata": {},
   "outputs": [],
   "source": [
    "print('#',now.isoformat(),file=open(taoutfile,\"w\"))\n",
    "print('#',now.isoformat(),file=open(scioutfile,\"w\"))\n",
    "print('# Created by user',getpass.getuser(),'at',socket.gethostname(),file=open(taoutfile,\"a\"))\n",
    "print('# Created by user',getpass.getuser(),'at',socket.gethostname(),file=open(scioutfile,\"a\"))\n",
    "print('# Boresight pixel file:',cdpfile,file=open(taoutfile,\"a\"))\n",
    "print('# Boresight pixel file:',cdpfile,file=open(scioutfile,\"a\"))\n",
    "print('# SIAF file:',siafversion,file=open(taoutfile,\"a\"))\n",
    "print('# SIAF file:',siafversion,file=open(scioutfile,\"a\"))\n",
    "print('# Offsets (arcsec) are set so that they should be ADDED to the commanded position',file=open(taoutfile,\"a\"))\n",
    "print('# Offsets (arcsec) are set so that they should be ADDED to the commanded position',file=open(scioutfile,\"a\"))"
   ]
  },
  {
   "cell_type": "markdown",
   "metadata": {},
   "source": [
    "Print a header line about the column entries"
   ]
  },
  {
   "cell_type": "code",
   "execution_count": 20,
   "metadata": {},
   "outputs": [],
   "source": [
    "print(\"{:20} {:10} {:10} {:10}\".format('# AperName','TAFilter','dv2','dv3'), file=open(taoutfile,\"a\"))\n",
    "print(\"{:20} {:10} {:10} {:10}\".format('# AperName','SciFilter','dv2','dv3'), file=open(scioutfile,\"a\"))"
   ]
  },
  {
   "cell_type": "markdown",
   "metadata": {},
   "source": [
    "<BR>"
   ]
  },
  {
   "cell_type": "markdown",
   "metadata": {},
   "source": [
    "Set up the desired sign of the outputs.  We want APT to ADD both the TA filter and science filter corrections, therefore we need to incorporate the negative sign on the TA filter offset into our reported values"
   ]
  },
  {
   "cell_type": "code",
   "execution_count": 21,
   "metadata": {},
   "outputs": [],
   "source": [
    "# original\n",
    "tasign=-1\n",
    "scisign=+1\n",
    "\n"
   ]
  },
  {
   "cell_type": "markdown",
   "metadata": {},
   "source": [
    "<BR>"
   ]
  },
  {
   "cell_type": "markdown",
   "metadata": {},
   "source": [
    "We will in each case do the conversion from pixel boresight offset to v2/v3 offset.  We will use the location of the TA aperture for MRS and LRS slit (because these science apertures don't have explicit pixel locations on the imager), and the science aperture for everything else.  Offsets are given in v2/v3 to avoid ambiguities with the Ideal coordinate systems."
   ]
  },
  {
   "cell_type": "markdown",
   "metadata": {},
   "source": [
    "<BR>"
   ]
  },
  {
   "cell_type": "code",
   "execution_count": null,
   "metadata": {},
   "outputs": [],
   "source": []
  },
  {
   "cell_type": "code",
   "execution_count": 22,
   "metadata": {},
   "outputs": [],
   "source": [
    "#F560W to F2300C:\n",
    "# TA file:  0.0082     -0.0074 \n",
    "# Sci file: 0.1659     0.2187  \n",
    "# Total: 0.1741 0.2113"
   ]
  },
  {
   "cell_type": "code",
   "execution_count": 23,
   "metadata": {},
   "outputs": [],
   "source": [
    "v2ref,v3ref=-389.524965,-337.768837"
   ]
  },
  {
   "cell_type": "code",
   "execution_count": 24,
   "metadata": {},
   "outputs": [
    {
     "name": "stdout",
     "output_type": "stream",
     "text": [
      "SIAF version:  PRDOPSSOC-051\n"
     ]
    },
    {
     "data": {
      "text/plain": [
       "(-0.15566896217542303, 0.22522360936462174)"
      ]
     },
     "execution_count": 24,
     "metadata": {},
     "output_type": "execute_result"
    }
   ],
   "source": [
    "mt.v2v3toIdeal(v2ref+0.1741,v3ref+0.2113,'MIRIM_MASKLYOT')"
   ]
  },
  {
   "cell_type": "code",
   "execution_count": null,
   "metadata": {},
   "outputs": [],
   "source": []
  },
  {
   "cell_type": "code",
   "execution_count": 25,
   "metadata": {},
   "outputs": [],
   "source": [
    "# A note on usage: OPGS will use the boresight shifts as corrections to the MEASURED source location during TA\n",
    "# when determining the offset to use to go to the science aperture.  I've confirmed this using program 1050\n",
    "# Observation 9, which does TA in FND before going to the undithered MRS reference point.  This offset is\n",
    "# commanded with an SCSCAMMAIN in guider ideal coordinates.  The offset in FGS1 guider ideal coordinates is given\n",
    "# as -21.348, -0.330.  The expected offset just between SIAF ref locations is -21.344, -0.359.  The expected offset\n",
    "# if the TA location had the appropriate boresight offsets from PRD added to it is -21.348, -0.330.  "
   ]
  },
  {
   "cell_type": "code",
   "execution_count": null,
   "metadata": {},
   "outputs": [],
   "source": []
  },
  {
   "cell_type": "markdown",
   "metadata": {},
   "source": [
    "## Do the MRS case ##"
   ]
  },
  {
   "cell_type": "code",
   "execution_count": 26,
   "metadata": {},
   "outputs": [],
   "source": [
    "print(\"\",file=open(taoutfile,\"a\"))\n",
    "print(\"\",file=open(scioutfile,\"a\"))\n",
    "\n",
    "# Loop over each TA filter computing offsets\n",
    "for i in range(0,nfilter):\n",
    "    thisentry=siaf['MIRIM_TAMRS']\n",
    "    xdet,ydet=thisentry.XDetRef-1,thisentry.YDetRef-1 # Define the location in 0-indexed pixels (subtract 1 from SIAF)\n",
    "    v2ref,v3ref=thisentry.V2Ref,thisentry.V3Ref\n",
    "    x,y=xdet+tbdata[i].field('col_offset'),ydet+tbdata[i].field('row_offset')\n",
    "    v2,v3=model(x,y)\n",
    "    dv2,dv3=v2-v2ref,v3-v3ref\n",
    "    # Print the negative of the offsets so that they can be added to the commanded position\n",
    "    print(\"{val1:20} {val2:10} {0:<10.4f} {1:<10.4f}\".format(tasign*dv2,tasign*dv3,val1='MIRIFU*',val2=tbdata[i].field('filter')),file=open(taoutfile,\"a\"))\n",
    "    if (i == 2):\n",
    "        dv2_save=tasign*dv2\n",
    "        dv3_save=tasign*dv3\n",
    "        \n",
    "# Loop over each science filter (for MRS only one option)\n",
    "print(\"{val1:20} {val2:10} {0:<10.4f} {1:<10.4f}\".format(0,0,val1='MIRIFU*',val2='ALL'),file=open(scioutfile,\"a\"))"
   ]
  },
  {
   "cell_type": "code",
   "execution_count": 27,
   "metadata": {},
   "outputs": [
    {
     "name": "stdout",
     "output_type": "stream",
     "text": [
      "Should be at  996.5 992.5\n",
      "Actually at  996.5026649900974 992.499617652276\n"
     ]
    }
   ],
   "source": [
    "# Sanity check\n",
    "# If doing TA in F1000W, after TA the source would be centered at \n",
    "x0,y0 = xdet,ydet # In F1000W\n",
    "# In v2,v3 the source is at\n",
    "v2,v3=mt.xytov2v3(xdet,ydet,'F1000W')\n",
    "# So in F770W the source is currently at\n",
    "xstart,ystart=mt.v2v3toxy(v2,v3,'F770W')\n",
    "# OPGS adds the boresights to SIAF location to pretend source is at\n",
    "v2temp,v3temp = v2ref+dv2_save, v3ref+dv3_save\n",
    "# It wants to go to v2ref, v3ref and will apply an offset to get there\n",
    "# Figure out what this is using any reference filter for deltas:\n",
    "x1,y1=mt.v2v3toxy(v2temp,v3temp,'F770W')\n",
    "x2,y2=mt.v2v3toxy(v2ref,v3ref,'F770W')\n",
    "dx=x2-x1\n",
    "dy=y2-y1\n",
    "\n",
    "print('Should be at ',xdet,ydet)\n",
    "print('Actually at ',xstart[0]+dx[0],ystart[0]+dy[0])"
   ]
  },
  {
   "cell_type": "markdown",
   "metadata": {},
   "source": [
    "<BR>"
   ]
  },
  {
   "cell_type": "markdown",
   "metadata": {},
   "source": [
    "## Do the LRS slit case ##"
   ]
  },
  {
   "cell_type": "code",
   "execution_count": 28,
   "metadata": {},
   "outputs": [],
   "source": [
    "print(\"\",file=open(taoutfile,\"a\"))\n",
    "print(\"\",file=open(scioutfile,\"a\"))\n",
    "\n",
    "# Loop over each TA filter computing offsets AT THE SCIENCE APERTURE LOCATION\n",
    "for i in range(0,nfilter):\n",
    "    thisentry=siaf['MIRIM_TALRS']\n",
    "    xdet,ydet=thisentry.XDetRef-1,thisentry.YDetRef-1 # Define the location in 0-indexed pixels (subtract 1 from SIAF)\n",
    "    v2ref,v3ref=thisentry.V2Ref,thisentry.V3Ref\n",
    "    x,y=xdet+tbdata[i].field('col_offset'),ydet+tbdata[i].field('row_offset')\n",
    "    v2,v3=model(x,y)\n",
    "    dv2,dv3=v2-v2ref,v3-v3ref\n",
    "    # Print the value of the offsets so that they can be added to the commanded position\n",
    "    print(\"{val1:20} {val2:10} {0:<10.4f} {1:<10.4f}\".format(tasign*dv2,tasign*dv3,val1='MIRIM_SLIT',val2=tbdata[i].field('filter')),file=open(taoutfile,\"a\"))\n",
    "    \n",
    "# Loop over each science filter (for LRS only one option)\n",
    "print(\"{val1:20} {val2:10} {0:<10.4f} {1:<10.4f}\".format(0,0,val1='MIRIM_SLIT',val2='ALL'),file=open(scioutfile,\"a\"))"
   ]
  },
  {
   "cell_type": "markdown",
   "metadata": {},
   "source": [
    "<br>"
   ]
  },
  {
   "cell_type": "markdown",
   "metadata": {},
   "source": [
    "## Do the LRS slitless case ##"
   ]
  },
  {
   "cell_type": "code",
   "execution_count": 29,
   "metadata": {},
   "outputs": [],
   "source": [
    "print(\"\",file=open(taoutfile,\"a\"))\n",
    "print(\"\",file=open(scioutfile,\"a\"))\n",
    "\n",
    "# Loop over each TA filter computing offsets\n",
    "for i in range(0,nfilter):\n",
    "    thisentry=siaf['MIRIM_SLITLESSPRISM']\n",
    "    xdet,ydet=thisentry.XDetRef-1,thisentry.YDetRef-1 # Define the location in 0-indexed pixels (subtract 1 from SIAF)\n",
    "    v2ref,v3ref=thisentry.V2Ref,thisentry.V3Ref\n",
    "    x,y=xdet+tbdata[i].field('col_offset'),ydet+tbdata[i].field('row_offset')\n",
    "    v2,v3=model(x,y)\n",
    "    dv2,dv3=v2-v2ref,v3-v3ref\n",
    "    # Print the value of the offsets so that they can be added to the commanded position\n",
    "    print(\"{val1:20} {val2:10} {0:<10.4f} {1:<10.4f}\".format(tasign*dv2,tasign*dv3,val1='MIRIM_SLITLESSPRISM',val2=tbdata[i].field('filter')),file=open(taoutfile,\"a\"))\n",
    "    \n",
    "# Loop over each science filter (for LRS only one option)\n",
    "print(\"{val1:20} {val2:10} {0:<10.4f} {1:<10.4f}\".format(0,0,val1='MIRIM_SLITLESSPRISM',val2='ALL'),file=open(scioutfile,\"a\"))"
   ]
  },
  {
   "cell_type": "markdown",
   "metadata": {},
   "source": [
    "<BR>"
   ]
  },
  {
   "cell_type": "markdown",
   "metadata": {},
   "source": [
    "## Do the coronagraphs ##"
   ]
  },
  {
   "cell_type": "markdown",
   "metadata": {},
   "source": [
    "Note that we use the 'MASK' apertures since these are the ones that drive the actual pointing; the 'CORON' apertures are just convenient for display purposes.  We also need to use coronagraph-specific boresight\n",
    "offsets instead of the general offsets.  In July 2022, also use special-commanding results to update the SIAF center locations.\n",
    "\n",
    "As a result we'll do each coronagraph individually."
   ]
  },
  {
   "cell_type": "code",
   "execution_count": 30,
   "metadata": {},
   "outputs": [],
   "source": [
    "# Read in previous boresight offsets tables\n",
    "prevscifile=os.path.join(os.path.dirname(os.path.dirname(os.path.dirname(os.getcwd()))),'data/boresight/miri_boresight_sci-PRDOPSSOC-051.txt')\n",
    "prevtafile=os.path.join(os.path.dirname(os.path.dirname(os.path.dirname(os.getcwd()))),'data/boresight/miri_boresight_ta-PRDOPSSOC-051.txt')\n",
    "\n",
    "prevsci=ascii.read(prevscifile)\n",
    "prevta=ascii.read(prevtafile)"
   ]
  },
  {
   "cell_type": "code",
   "execution_count": null,
   "metadata": {},
   "outputs": [],
   "source": []
  },
  {
   "cell_type": "markdown",
   "metadata": {},
   "source": [
    "## Do the Coron1065 ##"
   ]
  },
  {
   "cell_type": "code",
   "execution_count": 31,
   "metadata": {},
   "outputs": [],
   "source": [
    "# Current SIAF location\n",
    "thisaper='MIRIM_MASK1065'\n",
    "\n",
    "# Which boresight table are we using?\n",
    "thisbore=bore1065.copy()"
   ]
  },
  {
   "cell_type": "code",
   "execution_count": 32,
   "metadata": {},
   "outputs": [],
   "source": [
    "# Commissioning special offsets in Ideal coordinates\n",
    "specialx=0.204\n",
    "specialy=0.190\n",
    "\n",
    "# Pierre additional tweaks in pixel coordinates\n",
    "pierrex=-0.00265\n",
    "pierrey=0.02535"
   ]
  },
  {
   "cell_type": "code",
   "execution_count": 33,
   "metadata": {},
   "outputs": [
    {
     "name": "stdout",
     "output_type": "stream",
     "text": [
      "Old SIAF reference point:  120.0 132.0\n",
      "Old SIAF reference point:  -393.741744 -420.900337\n"
     ]
    }
   ],
   "source": [
    "# Assume OPGS did the right thing based on analysis of Visit files\n",
    "# Source started at intended position in the FND filter\n",
    "xold,yold=siaf[thisaper].XDetRef-1,siaf[thisaper].YDetRef-1\n",
    "\n",
    "# According to SIAF, it would be this v2,v3 reference point\n",
    "v2oldref,v3oldref=siaf[thisaper].V2Ref,siaf[thisaper].V3Ref\n",
    "\n",
    "print('Old SIAF reference point: ',xold+1,yold+1)# 1-indexed\n",
    "print('Old SIAF reference point: ',v2oldref,v3oldref)"
   ]
  },
  {
   "cell_type": "code",
   "execution_count": 34,
   "metadata": {},
   "outputs": [
    {
     "name": "stdout",
     "output_type": "stream",
     "text": [
      "New SIAF XDetRef, YDetRef:    121.184 ,   133.116 \n",
      "New SIAF V2Ref, V3Ref:  -393.8615 , -420.7688 \n"
     ]
    }
   ],
   "source": [
    "# When we swapped to Coron filter, where did it go for real?\n",
    "# Subtract difference between FND and Coron filters in new measurements\n",
    "xbase,ybase = xold-thisbore[14][1], yold-thisbore[14][2]\n",
    "\n",
    "# What was the boresight shift APPLIED by OPGS?\n",
    "x1, y1 = xbase-(tbdata[10][1]-tbdata[14][1]), ybase-(tbdata[10][2]-tbdata[14][2])\n",
    "\n",
    "# Special commanding was added in Ideal coordinates, convert to dv2,dv3\n",
    "# Special commanding moves the SOURCE\n",
    "v2old,v3old=mt.xytov2v3(x1,y1,'F770W') # Temporary location, filter doesn't matter\n",
    "angle,parity=siaf[thisaper].V3IdlYAngle,siaf[thisaper].VIdlParity\n",
    "dv2sp = parity*specialx*math.cos(angle*rpd) + specialy*math.sin(angle*rpd)\n",
    "dv3sp = - parity*specialx*math.sin(angle*rpd) + specialy*math.cos(angle*rpd)\n",
    "# Effective location after special commanding\n",
    "tempx,tempy = mt.v2v3toxy(v2old,v3old,'F770W')\n",
    "x2, y2 = mt.v2v3toxy(v2old+dv2sp,v3old+dv3sp,'F770W')\n",
    "# Take out roundtrip errors\n",
    "x2,y2 = x2-(tempx-x1), y2-(tempy-y1)\n",
    "\n",
    "# Add Pierre tweaks\n",
    "xref,yref = x2[0]+pierrex, y2[0]+pierrey\n",
    "\n",
    "v2ref, v3ref = mt.xytov2v3(xref,yref,'F770W')\n",
    "v2ref, v3ref = v2ref[0], v3ref[0]\n",
    "\n",
    "# Print out the new SIAF information (limit decimal places so SIAF can be exact)\n",
    "print(\"New SIAF XDetRef, YDetRef: {0:>10.3f} ,{1:>10.3f} \".format(xref+1,yref+1))# 1-indexed\n",
    "print(\"New SIAF V2Ref, V3Ref: {0:>10.4f} ,{1:>10.4f} \".format(v2ref,v3ref))# 1-indexed"
   ]
  },
  {
   "cell_type": "code",
   "execution_count": 35,
   "metadata": {},
   "outputs": [],
   "source": [
    "# Add appropriate new boresight offset information to the PRD file\n",
    "\n",
    "print(\"\",file=open(taoutfile,\"a\"))\n",
    "print(\"\",file=open(scioutfile,\"a\"))\n",
    "\n",
    "# Loop over each filter computing offsets\n",
    "for i in range(0,nfilter):\n",
    "    thisentry=siaf[thisaper]\n",
    "    x,y=xref+thisbore[i].field('col_offset'),yref+thisbore[i].field('row_offset')\n",
    "    v2,v3=mt.xytov2v3(x,y,'F770W')# Use F770W to avoid introducing more offsets\n",
    "    dv2,dv3=v2[0]-v2ref,v3[0]-v3ref\n",
    "    # Print the value of the TA filter offsets so that they can be added to the commanded position\n",
    "    print(\"{val1:20} {val2:10} {0:<10.4f} {1:<10.4f}\".format(tasign*dv2,tasign*dv3,val1=thisaper,val2=thisbore[i].field('filter')),file=open(taoutfile,\"a\"))\n",
    "    # Print the value of the SCI offsets so that they can be added to the commanded position\n",
    "    print(\"{val1:20} {val2:10} {0:<10.4f} {1:<10.4f}\".format(scisign*dv2,scisign*dv3,val1=thisaper,val2=thisbore[i].field('filter')),file=open(scioutfile,\"a\"))\n",
    "    if (i == nfilter-1):\n",
    "        dv2_save=tasign*dv2\n",
    "        dv3_save=tasign*dv3"
   ]
  },
  {
   "cell_type": "code",
   "execution_count": 36,
   "metadata": {},
   "outputs": [
    {
     "name": "stdout",
     "output_type": "stream",
     "text": [
      "Should be at  120.18447214635731 132.11572644522153\n",
      "Actually at  120.18450237872538 132.116127143447\n"
     ]
    }
   ],
   "source": [
    "# Sanity check: if we used new SIAF and new boresight file, do we land at the correct position?\n",
    "# TA will start us at xref,yref in FND\n",
    "# That means the source would appear at \n",
    "xstart, ystart = xref-0.13582106901312335, yref-(-1.2279678857520966)\n",
    "# OPGS adds the boresights to SIAF location to pretend source is at\n",
    "v2temp,v3temp = v2ref+dv2_save, v3ref+dv3_save\n",
    "# It wants to go to v2ref, v3ref and will apply an offset to get there\n",
    "# Figure out what this is using any reference filter for deltas:\n",
    "x1,y1=mt.v2v3toxy(v2temp,v3temp,'F770W')\n",
    "x2,y2=mt.v2v3toxy(v2ref,v3ref,'F770W')\n",
    "dx=x2-x1\n",
    "dy=y2-y1\n",
    "\n",
    "print('Should be at ',xref,yref)\n",
    "print('Actually at ',xstart+dx[0],ystart+dy[0])"
   ]
  },
  {
   "cell_type": "code",
   "execution_count": null,
   "metadata": {},
   "outputs": [],
   "source": []
  },
  {
   "cell_type": "markdown",
   "metadata": {},
   "source": [
    "## Do the Coron1140 ##"
   ]
  },
  {
   "cell_type": "code",
   "execution_count": 37,
   "metadata": {},
   "outputs": [],
   "source": [
    "# Current SIAF location\n",
    "thisaper='MIRIM_MASK1140'\n",
    "\n",
    "# Which boresight table are we using?\n",
    "thisbore=bore1140.copy()"
   ]
  },
  {
   "cell_type": "code",
   "execution_count": 38,
   "metadata": {},
   "outputs": [],
   "source": [
    "# Commissioning special offsets in Ideal coordinates\n",
    "specialx=0.2185\n",
    "specialy=0.1273\n",
    "\n",
    "# Pierre additional tweaks in pixel coordinates\n",
    "pierrex=-0.0531\n",
    "pierrey=-0.0829"
   ]
  },
  {
   "cell_type": "code",
   "execution_count": 39,
   "metadata": {},
   "outputs": [
    {
     "name": "stdout",
     "output_type": "stream",
     "text": [
      "Old SIAF reference point:  119.5 354.5\n",
      "Old SIAF reference point:  -391.652301 -396.516128\n"
     ]
    }
   ],
   "source": [
    "# Assume OPGS did the right thing based on analysis of Visit files\n",
    "# Source started at intended position in the FND filter\n",
    "xold,yold=siaf[thisaper].XDetRef-1,siaf[thisaper].YDetRef-1\n",
    "\n",
    "# According to SIAF, it would be this v2,v3 reference point\n",
    "v2oldref,v3oldref=siaf[thisaper].V2Ref,siaf[thisaper].V3Ref\n",
    "\n",
    "print('Old SIAF reference point: ',xold+1,yold+1)# 1-indexed\n",
    "print('Old SIAF reference point: ',v2oldref,v3oldref)"
   ]
  },
  {
   "cell_type": "code",
   "execution_count": 40,
   "metadata": {},
   "outputs": [
    {
     "name": "stdout",
     "output_type": "stream",
     "text": [
      "New SIAF XDetRef, YDetRef:    120.748 ,   355.236 \n",
      "New SIAF V2Ref, V3Ref:  -391.7828 , -396.4235 \n"
     ]
    }
   ],
   "source": [
    "# When we swapped to Coron filter, where did it go for real?\n",
    "# Subtract difference between FND and Coron filters in new measurements\n",
    "xbase,ybase = xold-thisbore[14][1], yold-thisbore[14][2]\n",
    "\n",
    "# What was the boresight shift APPLIED by OPGS?\n",
    "x1, y1 = xbase-(tbdata[11][1]-tbdata[14][1]), ybase-(tbdata[11][2]-tbdata[14][2])\n",
    "\n",
    "# Special commanding was added in Ideal coordinates, convert to dv2,dv3\n",
    "# Special commanding moves the SOURCE\n",
    "v2old,v3old=mt.xytov2v3(x1,y1,'F770W') # Temporary location, filter doesn't matter\n",
    "angle,parity=siaf[thisaper].V3IdlYAngle,siaf[thisaper].VIdlParity\n",
    "dv2sp = parity*specialx*math.cos(angle*rpd) + specialy*math.sin(angle*rpd)\n",
    "dv3sp = - parity*specialx*math.sin(angle*rpd) + specialy*math.cos(angle*rpd)\n",
    "# Effective location after special commanding\n",
    "tempx,tempy = mt.v2v3toxy(v2old,v3old,'F770W')\n",
    "x2, y2 = mt.v2v3toxy(v2old+dv2sp,v3old+dv3sp,'F770W')\n",
    "# Take out roundtrip errors\n",
    "x2,y2 = x2-(tempx-x1), y2-(tempy-y1)\n",
    "\n",
    "# Add Pierre tweaks\n",
    "xref,yref = x2[0]+pierrex, y2[0]+pierrey\n",
    "\n",
    "v2ref, v3ref = mt.xytov2v3(xref,yref,'F770W')\n",
    "v2ref, v3ref = v2ref[0], v3ref[0]\n",
    "\n",
    "# Print out the new SIAF information (limit decimal places so SIAF can be exact)\n",
    "print(\"New SIAF XDetRef, YDetRef: {0:>10.3f} ,{1:>10.3f} \".format(xref+1,yref+1))# 1-indexed\n",
    "print(\"New SIAF V2Ref, V3Ref: {0:>10.4f} ,{1:>10.4f} \".format(v2ref,v3ref))# 1-indexed"
   ]
  },
  {
   "cell_type": "code",
   "execution_count": 41,
   "metadata": {},
   "outputs": [],
   "source": [
    "# Add appropriate new boresight offset information to the PRD file\n",
    "\n",
    "print(\"\",file=open(taoutfile,\"a\"))\n",
    "print(\"\",file=open(scioutfile,\"a\"))\n",
    "\n",
    "# Loop over each filter computing offsets\n",
    "for i in range(0,nfilter):\n",
    "    thisentry=siaf[thisaper]\n",
    "    x,y=xref+thisbore[i].field('col_offset'),yref+thisbore[i].field('row_offset')\n",
    "    v2,v3=mt.xytov2v3(x,y,'F770W')# Use F770W to avoid introducing more offsets\n",
    "    dv2,dv3=v2[0]-v2ref,v3[0]-v3ref\n",
    "    # Print the value of the TA filter offsets so that they can be added to the commanded position\n",
    "    print(\"{val1:20} {val2:10} {0:<10.4f} {1:<10.4f}\".format(tasign*dv2,tasign*dv3,val1=thisaper,val2=thisbore[i].field('filter')),file=open(taoutfile,\"a\"))\n",
    "    # Print the value of the SCI offsets so that they can be added to the commanded position\n",
    "    print(\"{val1:20} {val2:10} {0:<10.4f} {1:<10.4f}\".format(scisign*dv2,scisign*dv3,val1=thisaper,val2=thisbore[i].field('filter')),file=open(scioutfile,\"a\"))\n",
    "    if (i == nfilter-1):\n",
    "        dv2_save=tasign*dv2\n",
    "        dv3_save=tasign*dv3"
   ]
  },
  {
   "cell_type": "code",
   "execution_count": 42,
   "metadata": {},
   "outputs": [
    {
     "name": "stdout",
     "output_type": "stream",
     "text": [
      "Should be at  119.74841933189472 354.23620513287335\n",
      "Actually at  119.74839895123239 354.2362413785377\n"
     ]
    }
   ],
   "source": [
    "# Sanity check: if we used new SIAF and new boresight file, do we land at the correct position?\n",
    "# TA will start us at xref,yref in FND\n",
    "# That means the source would appear at \n",
    "xstart, ystart = xref-0.3271697855783265, yref-(-0.9660751864951773)\n",
    "# OPGS adds the boresights to SIAF location to pretend source is at\n",
    "v2temp,v3temp = v2ref+dv2_save, v3ref+dv3_save\n",
    "# It wants to go to v2ref, v3ref and will apply an offset to get there\n",
    "# Figure out what this is using any reference filter for deltas:\n",
    "x1,y1=mt.v2v3toxy(v2temp,v3temp,'F770W')\n",
    "x2,y2=mt.v2v3toxy(v2ref,v3ref,'F770W')\n",
    "dx=x2-x1\n",
    "dy=y2-y1\n",
    "\n",
    "print('Should be at ',xref,yref)\n",
    "print('Actually at ',xstart+dx[0],ystart+dy[0])"
   ]
  },
  {
   "cell_type": "code",
   "execution_count": null,
   "metadata": {},
   "outputs": [],
   "source": []
  },
  {
   "cell_type": "markdown",
   "metadata": {},
   "source": [
    "## Do the Coron1550 ##"
   ]
  },
  {
   "cell_type": "code",
   "execution_count": 43,
   "metadata": {},
   "outputs": [],
   "source": [
    "# Current SIAF location\n",
    "thisaper='MIRIM_MASK1550'\n",
    "\n",
    "# Which boresight table are we using?\n",
    "thisbore=bore1550.copy()"
   ]
  },
  {
   "cell_type": "code",
   "execution_count": 44,
   "metadata": {},
   "outputs": [],
   "source": [
    "# Commissioning special offsets in Ideal coordinates\n",
    "specialx=0.226\n",
    "specialy=0.156\n",
    "\n",
    "# Pierre additional tweaks in pixel coordinates\n",
    "pierrex=0.0418\n",
    "pierrey=0.0162"
   ]
  },
  {
   "cell_type": "code",
   "execution_count": 45,
   "metadata": {},
   "outputs": [
    {
     "name": "stdout",
     "output_type": "stream",
     "text": [
      "Old SIAF reference point:  119.5 575.0\n",
      "Old SIAF reference point:  -389.696723 -372.143242\n"
     ]
    }
   ],
   "source": [
    "# Assume OPGS did the right thing based on analysis of Visit files\n",
    "# Source started at intended position in the FND filter\n",
    "xold,yold=siaf[thisaper].XDetRef-1,siaf[thisaper].YDetRef-1\n",
    "\n",
    "# According to SIAF, it would be this v2,v3 reference point\n",
    "v2oldref,v3oldref=siaf[thisaper].V2Ref,siaf[thisaper].V3Ref\n",
    "\n",
    "print('Old SIAF reference point: ',xold+1,yold+1)# 1-indexed\n",
    "print('Old SIAF reference point: ',v2oldref,v3oldref)"
   ]
  },
  {
   "cell_type": "code",
   "execution_count": 46,
   "metadata": {},
   "outputs": [
    {
     "name": "stdout",
     "output_type": "stream",
     "text": [
      "New SIAF XDetRef, YDetRef:    120.746 ,   576.289 \n",
      "New SIAF V2Ref, V3Ref:  -389.8221 , -371.9888 \n"
     ]
    }
   ],
   "source": [
    "# When we swapped to Coron filter, where did it go for real?\n",
    "# Subtract difference between FND and Coron filters in new measurements\n",
    "xbase,ybase = xold-thisbore[14][1], yold-thisbore[14][2]\n",
    "\n",
    "# What was the boresight shift APPLIED by OPGS?\n",
    "x1, y1 = xbase-(tbdata[12][1]-tbdata[14][1]), ybase-(tbdata[12][2]-tbdata[14][2])\n",
    "\n",
    "# Special commanding was added in Ideal coordinates, convert to dv2,dv3\n",
    "# Special commanding moves the SOURCE\n",
    "v2old,v3old=mt.xytov2v3(x1,y1,'F770W') # Temporary location, filter doesn't matter\n",
    "angle,parity=siaf[thisaper].V3IdlYAngle,siaf[thisaper].VIdlParity\n",
    "dv2sp = parity*specialx*math.cos(angle*rpd) + specialy*math.sin(angle*rpd)\n",
    "dv3sp = - parity*specialx*math.sin(angle*rpd) + specialy*math.cos(angle*rpd)\n",
    "# Effective location after special commanding\n",
    "tempx,tempy = mt.v2v3toxy(v2old,v3old,'F770W')\n",
    "x2, y2 = mt.v2v3toxy(v2old+dv2sp,v3old+dv3sp,'F770W')\n",
    "# Take out roundtrip errors\n",
    "x2,y2 = x2-(tempx-x1), y2-(tempy-y1)\n",
    "\n",
    "# Add Pierre tweaks\n",
    "xref,yref = x2[0]+pierrex, y2[0]+pierrey\n",
    "\n",
    "v2ref, v3ref = mt.xytov2v3(xref,yref,'F770W')\n",
    "v2ref, v3ref = v2ref[0], v3ref[0]\n",
    "\n",
    "# Print out the new SIAF information (limit decimal places so SIAF can be exact)\n",
    "print(\"New SIAF XDetRef, YDetRef: {0:>10.3f} ,{1:>10.3f} \".format(xref+1,yref+1))# 1-indexed\n",
    "print(\"New SIAF V2Ref, V3Ref: {0:>10.4f} ,{1:>10.4f} \".format(v2ref,v3ref))# 1-indexed"
   ]
  },
  {
   "cell_type": "code",
   "execution_count": 47,
   "metadata": {},
   "outputs": [],
   "source": [
    "# Add appropriate new boresight offset information to the PRD file\n",
    "\n",
    "print(\"\",file=open(taoutfile,\"a\"))\n",
    "print(\"\",file=open(scioutfile,\"a\"))\n",
    "\n",
    "# Loop over each filter computing offsets\n",
    "for i in range(0,nfilter):\n",
    "    thisentry=siaf[thisaper]\n",
    "    x,y=xref+thisbore[i].field('col_offset'),yref+thisbore[i].field('row_offset')\n",
    "    v2,v3=mt.xytov2v3(x,y,'F770W')# Use F770W to avoid introducing more offsets\n",
    "    dv2,dv3=v2[0]-v2ref,v3[0]-v3ref\n",
    "    # Print the value of the TA filter offsets so that they can be added to the commanded position\n",
    "    print(\"{val1:20} {val2:10} {0:<10.4f} {1:<10.4f}\".format(tasign*dv2,tasign*dv3,val1=thisaper,val2=thisbore[i].field('filter')),file=open(taoutfile,\"a\"))\n",
    "    # Print the value of the SCI offsets so that they can be added to the commanded position\n",
    "    print(\"{val1:20} {val2:10} {0:<10.4f} {1:<10.4f}\".format(scisign*dv2,scisign*dv3,val1=thisaper,val2=thisbore[i].field('filter')),file=open(scioutfile,\"a\"))\n",
    "    if (i == nfilter-1):\n",
    "        dv2_save=tasign*dv2\n",
    "        dv3_save=tasign*dv3"
   ]
  },
  {
   "cell_type": "code",
   "execution_count": 48,
   "metadata": {},
   "outputs": [
    {
     "name": "stdout",
     "output_type": "stream",
     "text": [
      "Should be at  119.74602264094466 575.2885409472325\n",
      "Actually at  119.74599619541198 575.2884853452298\n"
     ]
    }
   ],
   "source": [
    "# Sanity check: if we used new SIAF and new boresight file, do we land at the correct position?\n",
    "# TA will start us at xref,yref in FND\n",
    "# That means the source would appear at \n",
    "xstart, ystart = xref-(-0.25904088927825986), yref-(-1.0810837582944424)\n",
    "# OPGS adds the boresights to SIAF location to pretend source is at\n",
    "v2temp,v3temp = v2ref+dv2_save, v3ref+dv3_save\n",
    "# It wants to go to v2ref, v3ref and will apply an offset to get there\n",
    "# Figure out what this is using any reference filter for deltas:\n",
    "x1,y1=mt.v2v3toxy(v2temp,v3temp,'F770W')\n",
    "x2,y2=mt.v2v3toxy(v2ref,v3ref,'F770W')\n",
    "dx=x2-x1\n",
    "dy=y2-y1\n",
    "\n",
    "print('Should be at ',xref,yref)\n",
    "print('Actually at ',xstart+dx[0],ystart+dy[0])"
   ]
  },
  {
   "cell_type": "code",
   "execution_count": null,
   "metadata": {},
   "outputs": [],
   "source": []
  },
  {
   "cell_type": "markdown",
   "metadata": {},
   "source": [
    "## Do the Lyot ##"
   ]
  },
  {
   "cell_type": "code",
   "execution_count": 49,
   "metadata": {},
   "outputs": [],
   "source": [
    "# Current SIAF location\n",
    "thisaper='MIRIM_MASKLYOT'\n",
    "\n",
    "# Which boresight table are we using?\n",
    "thisbore=borelyot.copy()"
   ]
  },
  {
   "cell_type": "code",
   "execution_count": 50,
   "metadata": {},
   "outputs": [],
   "source": [
    "# Commissioning special offsets in Ideal coordinates\n",
    "specialx=0.147\n",
    "specialy=0.183\n",
    "\n",
    "# Pierre additional tweaks in pixel coordinates\n",
    "pierrex=0.\n",
    "pierrey=0."
   ]
  },
  {
   "cell_type": "code",
   "execution_count": 51,
   "metadata": {},
   "outputs": [
    {
     "name": "stdout",
     "output_type": "stream",
     "text": [
      "Old SIAF reference point:  142.5 884.5\n",
      "Old SIAF reference point:  -389.524965 -337.768837\n"
     ]
    }
   ],
   "source": [
    "# Assume OPGS did the right thing based on analysis of Visit files\n",
    "# Source started at intended position in the FND filter\n",
    "xold,yold=siaf[thisaper].XDetRef-1,siaf[thisaper].YDetRef-1\n",
    "\n",
    "# According to SIAF, it would be this v2,v3 reference point\n",
    "v2oldref,v3oldref=siaf[thisaper].V2Ref,siaf[thisaper].V3Ref\n",
    "\n",
    "print('Old SIAF reference point: ',xold+1,yold+1)# 1-indexed\n",
    "print('Old SIAF reference point: ',v2oldref,v3oldref)"
   ]
  },
  {
   "cell_type": "code",
   "execution_count": 52,
   "metadata": {},
   "outputs": [
    {
     "name": "stdout",
     "output_type": "stream",
     "text": [
      "New SIAF XDetRef, YDetRef:    144.331 ,   885.880 \n",
      "New SIAF V2Ref, V3Ref:  -389.7132 , -337.5993 \n"
     ]
    }
   ],
   "source": [
    "# When we swapped to Coron filter, where did it go for real?\n",
    "# Subtract difference between FND and Coron filters in new measurements\n",
    "xbase,ybase = xold-thisbore[14][1], yold-thisbore[14][2]\n",
    "\n",
    "# What was the boresight shift APPLIED by OPGS?\n",
    "x1, y1 = xbase-(tbdata[13][1]-tbdata[14][1]), ybase-(tbdata[13][2]-tbdata[14][2])\n",
    "\n",
    "# Special commanding was added in Ideal coordinates, convert to dv2,dv3\n",
    "# Special commanding moves the SOURCE\n",
    "v2old,v3old=mt.xytov2v3(x1,y1,'F770W') # Temporary location, filter doesn't matter\n",
    "angle,parity=siaf[thisaper].V3IdlYAngle,siaf[thisaper].VIdlParity\n",
    "dv2sp = parity*specialx*math.cos(angle*rpd) + specialy*math.sin(angle*rpd)\n",
    "dv3sp = - parity*specialx*math.sin(angle*rpd) + specialy*math.cos(angle*rpd)\n",
    "# Effective location after special commanding\n",
    "tempx,tempy = mt.v2v3toxy(v2old,v3old,'F770W')\n",
    "x2, y2 = mt.v2v3toxy(v2old+dv2sp,v3old+dv3sp,'F770W')\n",
    "# Take out roundtrip errors\n",
    "x2,y2 = x2-(tempx-x1), y2-(tempy-y1)\n",
    "\n",
    "# Add Pierre tweaks\n",
    "xref,yref = x2[0]+pierrex, y2[0]+pierrey\n",
    "\n",
    "v2ref, v3ref = mt.xytov2v3(xref,yref,'F770W')\n",
    "v2ref, v3ref = v2ref[0], v3ref[0]\n",
    "\n",
    "# Print out the new SIAF information (limit decimal places so SIAF can be exact)\n",
    "print(\"New SIAF XDetRef, YDetRef: {0:>10.3f} ,{1:>10.3f} \".format(xref+1,yref+1))# 1-indexed\n",
    "print(\"New SIAF V2Ref, V3Ref: {0:>10.4f} ,{1:>10.4f} \".format(v2ref,v3ref))# 1-indexed"
   ]
  },
  {
   "cell_type": "code",
   "execution_count": 53,
   "metadata": {},
   "outputs": [],
   "source": [
    "# Add appropriate new boresight offset information to the PRD file\n",
    "\n",
    "print(\"\",file=open(taoutfile,\"a\"))\n",
    "print(\"\",file=open(scioutfile,\"a\"))\n",
    "\n",
    "# Loop over each filter computing offsets\n",
    "for i in range(0,nfilter):\n",
    "    thisentry=siaf[thisaper]\n",
    "    x,y=xref+thisbore[i].field('col_offset'),yref+thisbore[i].field('row_offset')\n",
    "    v2,v3=mt.xytov2v3(x,y,'F770W')# Use F770W to avoid introducing more offsets\n",
    "    dv2,dv3=v2[0]-v2ref,v3[0]-v3ref\n",
    "    # Print the value of the TA filter offsets so that they can be added to the commanded position\n",
    "    print(\"{val1:20} {val2:10} {0:<10.4f} {1:<10.4f}\".format(tasign*dv2,tasign*dv3,val1=thisaper,val2=thisbore[i].field('filter')),file=open(taoutfile,\"a\"))\n",
    "    # Print the value of the SCI offsets so that they can be added to the commanded position\n",
    "    print(\"{val1:20} {val2:10} {0:<10.4f} {1:<10.4f}\".format(scisign*dv2,scisign*dv3,val1=thisaper,val2=thisbore[i].field('filter')),file=open(scioutfile,\"a\"))\n",
    "    if (i == nfilter-1):\n",
    "        dv2_save=tasign*dv2\n",
    "        dv3_save=tasign*dv3"
   ]
  },
  {
   "cell_type": "code",
   "execution_count": 54,
   "metadata": {},
   "outputs": [
    {
     "name": "stdout",
     "output_type": "stream",
     "text": [
      "Should be at  143.3314934049834 884.8798585392627\n",
      "Actually at  143.33150770121213 884.8797780159804\n"
     ]
    }
   ],
   "source": [
    "# Sanity check: if we used new SIAF and new boresight file, do we land at the correct position?\n",
    "# TA will start us at xref,yref in FND\n",
    "# That means the source would appear at \n",
    "xstart, ystart = xref-(0.9187159536913048), yref-(-1.5764380715635262)\n",
    "# OPGS adds the boresights to SIAF location to pretend source is at\n",
    "v2temp,v3temp = v2ref+dv2_save, v3ref+dv3_save\n",
    "# It wants to go to v2ref, v3ref and will apply an offset to get there\n",
    "# Figure out what this is using any reference filter for deltas:\n",
    "x1,y1=mt.v2v3toxy(v2temp,v3temp,'F770W')\n",
    "x2,y2=mt.v2v3toxy(v2ref,v3ref,'F770W')\n",
    "dx=x2-x1\n",
    "dy=y2-y1\n",
    "\n",
    "print('Should be at ',xref,yref)\n",
    "print('Actually at ',xstart+dx[0],ystart+dy[0])"
   ]
  },
  {
   "cell_type": "code",
   "execution_count": null,
   "metadata": {},
   "outputs": [],
   "source": []
  },
  {
   "cell_type": "markdown",
   "metadata": {},
   "source": [
    "<BR>"
   ]
  },
  {
   "cell_type": "markdown",
   "metadata": {},
   "source": [
    "## Do the imaging regions ## "
   ]
  },
  {
   "cell_type": "code",
   "execution_count": 55,
   "metadata": {},
   "outputs": [],
   "source": [
    "apernames=['MIRIM_FULL','MIRIM_ILLUM','MIRIM_BRIGHTSKY','MIRIM_SUB256','MIRIM_SUB128','MIRIM_SUB64']\n",
    "naper=len(apernames)"
   ]
  },
  {
   "cell_type": "code",
   "execution_count": 56,
   "metadata": {},
   "outputs": [],
   "source": [
    "# Loop over each aperture\n",
    "for j in range(0,naper):\n",
    "    print(\"\",file=open(taoutfile,\"a\"))\n",
    "    print(\"\",file=open(scioutfile,\"a\"))\n",
    "\n",
    "    # Loop over each filter computing offsets\n",
    "    for i in range(0,nfilter):\n",
    "        thisentry=siaf[apernames[j]]\n",
    "        xdet,ydet=thisentry.XDetRef-1,thisentry.YDetRef-1 # Define the location in 0-indexed pixels (subtract 1 from SIAF)\n",
    "        v2ref,v3ref=thisentry.V2Ref,thisentry.V3Ref\n",
    "        x,y=xdet+tbdata[i].field('col_offset'),ydet+tbdata[i].field('row_offset')\n",
    "        v2,v3=model(x,y)\n",
    "        dv2,dv3=v2-v2ref,v3-v3ref\n",
    "        # Print the value of the TA filter offsets so that they can be added to the commanded position\n",
    "        print(\"{val1:20} {val2:10} {0:<10.4f} {1:<10.4f}\".format(tasign*dv2,tasign*dv3,val1=apernames[j],val2=tbdata[i].field('filter')),file=open(taoutfile,\"a\"))\n",
    "        # Print the value of the SCI offsets so that they can be added to the commanded position\n",
    "        print(\"{val1:20} {val2:10} {0:<10.4f} {1:<10.4f}\".format(scisign*dv2,scisign*dv3,val1=apernames[j],val2=tbdata[i].field('filter')),file=open(scioutfile,\"a\"))\n",
    "    "
   ]
  }
 ],
 "metadata": {
  "kernelspec": {
   "display_name": "Python 3 (ipykernel)",
   "language": "python",
   "name": "python3"
  },
  "language_info": {
   "codemirror_mode": {
    "name": "ipython",
    "version": 3
   },
   "file_extension": ".py",
   "mimetype": "text/x-python",
   "name": "python",
   "nbconvert_exporter": "python",
   "pygments_lexer": "ipython3",
   "version": "3.10.0"
  }
 },
 "nbformat": 4,
 "nbformat_minor": 2
}
