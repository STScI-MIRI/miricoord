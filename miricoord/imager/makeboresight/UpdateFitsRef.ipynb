{
 "cells": [
  {
   "cell_type": "code",
   "execution_count": 1,
   "id": "8a4ff4fe",
   "metadata": {},
   "outputs": [],
   "source": [
    "# This notebook will tack the coron-specific filter boresight offsets from a CSV file\n",
    "# into the FITS distortion reference file\n",
    "# \n",
    "# From here it can be called by miricoord, pulled out to pipeline ref files, etc.\n",
    "#\n",
    "# Offsets will be ZERO for filters in which it hasn't been measured for the coronagraphs,\n",
    "# including for F770W, which will ensure that we can call miricoord in the usual manner\n",
    "# and have it work as expected since we're tying F770W to each coron filter"
   ]
  },
  {
   "cell_type": "code",
   "execution_count": 2,
   "id": "564f270c",
   "metadata": {},
   "outputs": [],
   "source": [
    "from astropy.io import fits\n",
    "import numpy as np\n",
    "from astropy.io import ascii\n",
    "import miricoord.imager.mirim_tools as mt"
   ]
  },
  {
   "cell_type": "code",
   "execution_count": 3,
   "id": "4e9b2b43",
   "metadata": {},
   "outputs": [],
   "source": [
    "distfile=mt.get_fitsreffile()\n",
    "disthdus=fits.open(distfile)\n",
    "borehdu=disthdus['Boresight offsets']"
   ]
  },
  {
   "cell_type": "code",
   "execution_count": 4,
   "id": "5ec68c2c-8fd4-4222-8309-2f01ba6a4f9b",
   "metadata": {},
   "outputs": [
    {
     "name": "stdout",
     "output_type": "stream",
     "text": [
      "Filename: /Users/dlaw/jwcode/miricoord/data/fits/flt2/MIRI_FM_MIRIMAGE_DISTORTION_SS.05.00.fits\n",
      "No.    Name      Ver    Type      Cards   Dimensions   Format\n",
      "  0  PRIMARY       1 PrimaryHDU      41   ()      \n",
      "  1  B matrix      1 ImageHDU         9   (5, 5)   float64   \n",
      "  2  A matrix      1 ImageHDU         9   (5, 5)   float64   \n",
      "  3  T matrix      1 ImageHDU         9   (3, 3)   float64   \n",
      "  4  M matrix      1 ImageHDU         9   (3, 3)   float64   \n",
      "  5  BI matrix     1 ImageHDU         9   (5, 5)   float64   \n",
      "  6  AI matrix     1 ImageHDU         9   (5, 5)   float64   \n",
      "  7  TI matrix     1 ImageHDU         9   (3, 3)   float64   \n",
      "  8  MI matrix     1 ImageHDU         9   (3, 3)   float64   \n",
      "  9  Boresight offsets    1 BinTableHDU     15   15R x 3C   [7A, D, D]   \n",
      " 10  D matrix      1 ImageHDU         9   (5, 5)   float64   \n",
      " 11  C matrix      1 ImageHDU         9   (5, 5)   float64   \n",
      " 12  F matrix      1 ImageHDU         9   (5, 5)   float64   \n",
      " 13  E matrix      1 ImageHDU         9   (5, 5)   float64   \n",
      " 14  DI matrix     1 ImageHDU         9   (5, 5)   float64   \n",
      " 15  CI matrix     1 ImageHDU         9   (5, 5)   float64   \n",
      " 16  FI matrix     1 ImageHDU         9   (5, 5)   float64   \n",
      " 17  EI matrix     1 ImageHDU         9   (5, 5)   float64   \n",
      " 18  BoresightCORON1065    1 BinTableHDU     15   15R x 3C   [7A, D, D]   \n",
      " 19  BoresightCORON1140    1 BinTableHDU     15   15R x 3C   [7A, D, D]   \n",
      " 20  BoresightCORON1550    1 BinTableHDU     15   15R x 3C   [7A, D, D]   \n",
      " 21  BoresightCORONLYOT    1 BinTableHDU     15   15R x 3C   [7A, D, D]   \n"
     ]
    }
   ],
   "source": [
    "fits.info(distfile)"
   ]
  },
  {
   "cell_type": "code",
   "execution_count": 5,
   "id": "69f0e942",
   "metadata": {},
   "outputs": [
    {
     "data": {
      "text/plain": [
       "FITS_rec([('F560W',  0.08, 0.06), ('F770W',  0.  , 0.  ),\n",
       "          ('F1000W',  0.14, 0.62), ('F1130W', -0.15, 0.59),\n",
       "          ('F1280W',  0.08, 0.7 ), ('F1500W',  0.36, 0.74),\n",
       "          ('F1800W', -0.39, 0.73), ('F2100W',  0.02, 0.27),\n",
       "          ('F2550WR',  0.27, 1.45), ('F2550W',  0.15, 0.55),\n",
       "          ('F1065C',  0.6 , 2.15), ('F1140C',  0.42, 1.56),\n",
       "          ('F1550C',  1.17, 1.47), ('F2300C', -1.35, 2.11),\n",
       "          ('FND',  0.07, 0.26)],\n",
       "         dtype=(numpy.record, [('FILTER', 'S7'), ('COL_OFFSET', '>f8'), ('ROW_OFFSET', '>f8')]))"
      ]
     },
     "execution_count": 5,
     "metadata": {},
     "output_type": "execute_result"
    }
   ],
   "source": [
    "borehdu.data"
   ]
  },
  {
   "cell_type": "code",
   "execution_count": 6,
   "id": "cb5a1d71",
   "metadata": {},
   "outputs": [
    {
     "name": "stdout",
     "output_type": "stream",
     "text": [
      "nfilter =  15\n"
     ]
    }
   ],
   "source": [
    "# Make a copy of the boresight HDU for MASK1065, MASK1140, MASK1550, MASKLYOT\n",
    "borehdu1065=borehdu.copy()\n",
    "borehdu1065.header['EXTNAME']='BoresightCORON1065'\n",
    "\n",
    "borehdu1140=borehdu.copy()\n",
    "borehdu1140.header['EXTNAME']='BoresightCORON1140'\n",
    "\n",
    "borehdu1550=borehdu.copy()\n",
    "borehdu1550.header['EXTNAME']='BoresightCORON1550'\n",
    "\n",
    "borehdulyot=borehdu.copy()\n",
    "borehdulyot.header['EXTNAME']='BoresightCORONLYOT'\n",
    "\n",
    "nfilter=len(borehdu.data)\n",
    "print('nfilter = ',nfilter)"
   ]
  },
  {
   "cell_type": "code",
   "execution_count": 7,
   "id": "1f6c975e",
   "metadata": {},
   "outputs": [],
   "source": [
    "# Read the updated coron offsets csv\n",
    "coron=ascii.read('coronagraph_boresight_offsets-pixels.csv')"
   ]
  },
  {
   "cell_type": "code",
   "execution_count": 8,
   "id": "455530bf",
   "metadata": {},
   "outputs": [
    {
     "data": {
      "text/html": [
       "<div><i>Table length=18</i>\n",
       "<table id=\"table4506677520\" class=\"table-striped table-bordered table-condensed\">\n",
       "<thead><tr><th>subarray</th><th>filter</th><th>ref_filter</th><th>dx</th><th>dy</th></tr></thead>\n",
       "<thead><tr><th>str8</th><th>str6</th><th>str6</th><th>float64</th><th>float64</th></tr></thead>\n",
       "<tr><td>MASK1065</td><td>F1065C</td><td>F1065C</td><td>0.0</td><td>0.0</td></tr>\n",
       "<tr><td>MASK1065</td><td>F1500W</td><td>F1065C</td><td>0.19121024138381648</td><td>-0.822911052620391</td></tr>\n",
       "<tr><td>MASK1065</td><td>F560W</td><td>F1065C</td><td>-0.03309756541382852</td><td>-1.4387896999111953</td></tr>\n",
       "<tr><td>MASK1065</td><td>FND</td><td>F1065C</td><td>0.13582106901312335</td><td>-1.2279678857520966</td></tr>\n",
       "<tr><td>MASK1140</td><td>F1140C</td><td>F1140C</td><td>0.0</td><td>0.0</td></tr>\n",
       "<tr><td>MASK1140</td><td>F1500W</td><td>F1140C</td><td>0.38138752258285713</td><td>-0.5872124551206599</td></tr>\n",
       "<tr><td>MASK1140</td><td>F560W</td><td>F1140C</td><td>0.11230576482675791</td><td>-1.2461317298956693</td></tr>\n",
       "<tr><td>MASK1140</td><td>FND</td><td>F1140C</td><td>0.3271697855783265</td><td>-0.9660751864951773</td></tr>\n",
       "<tr><td>MASK1550</td><td>F1500W</td><td>F1550C</td><td>-0.08808294653695123</td><td>-0.7026117757770026</td></tr>\n",
       "<tr><td>MASK1550</td><td>F1550C</td><td>F1550C</td><td>0.0</td><td>0.0</td></tr>\n",
       "<tr><td>MASK1550</td><td>F560W</td><td>F1550C</td><td>-0.554970557452205</td><td>-1.4172281032294827</td></tr>\n",
       "<tr><td>MASK1550</td><td>F1000W</td><td>F1550C</td><td>-0.329</td><td>-0.855</td></tr>\n",
       "<tr><td>MASK1550</td><td>FND</td><td>F1550C</td><td>-0.25904088927825986</td><td>-1.0810837582944424</td></tr>\n",
       "<tr><td>MASKLYOT</td><td>F1000W</td><td>F2300C</td><td>0.9291579077406941</td><td>-1.3017924325688095</td></tr>\n",
       "<tr><td>MASKLYOT</td><td>F1500W</td><td>F2300C</td><td>0.9567633606371903</td><td>-1.1707678927579366</td></tr>\n",
       "<tr><td>MASKLYOT</td><td>F2300C</td><td>F2300C</td><td>0.0</td><td>0.0</td></tr>\n",
       "<tr><td>MASKLYOT</td><td>F560W</td><td>F2300C</td><td>1.0692616107126018</td><td>-2.0650607905938245</td></tr>\n",
       "<tr><td>MASKLYOT</td><td>FND</td><td>F2300C</td><td>0.9187159536913048</td><td>-1.5764380715635262</td></tr>\n",
       "</table></div>"
      ],
      "text/plain": [
       "<Table length=18>\n",
       "subarray filter ref_filter          dx                   dy        \n",
       "  str8    str6     str6          float64              float64      \n",
       "-------- ------ ---------- -------------------- -------------------\n",
       "MASK1065 F1065C     F1065C                  0.0                 0.0\n",
       "MASK1065 F1500W     F1065C  0.19121024138381648  -0.822911052620391\n",
       "MASK1065  F560W     F1065C -0.03309756541382852 -1.4387896999111953\n",
       "MASK1065    FND     F1065C  0.13582106901312335 -1.2279678857520966\n",
       "MASK1140 F1140C     F1140C                  0.0                 0.0\n",
       "MASK1140 F1500W     F1140C  0.38138752258285713 -0.5872124551206599\n",
       "MASK1140  F560W     F1140C  0.11230576482675791 -1.2461317298956693\n",
       "MASK1140    FND     F1140C   0.3271697855783265 -0.9660751864951773\n",
       "MASK1550 F1500W     F1550C -0.08808294653695123 -0.7026117757770026\n",
       "MASK1550 F1550C     F1550C                  0.0                 0.0\n",
       "MASK1550  F560W     F1550C   -0.554970557452205 -1.4172281032294827\n",
       "MASK1550 F1000W     F1550C               -0.329              -0.855\n",
       "MASK1550    FND     F1550C -0.25904088927825986 -1.0810837582944424\n",
       "MASKLYOT F1000W     F2300C   0.9291579077406941 -1.3017924325688095\n",
       "MASKLYOT F1500W     F2300C   0.9567633606371903 -1.1707678927579366\n",
       "MASKLYOT F2300C     F2300C                  0.0                 0.0\n",
       "MASKLYOT  F560W     F2300C   1.0692616107126018 -2.0650607905938245\n",
       "MASKLYOT    FND     F2300C   0.9187159536913048 -1.5764380715635262"
      ]
     },
     "execution_count": 8,
     "metadata": {},
     "output_type": "execute_result"
    }
   ],
   "source": [
    "coron"
   ]
  },
  {
   "cell_type": "code",
   "execution_count": null,
   "id": "d436a37e",
   "metadata": {},
   "outputs": [],
   "source": []
  },
  {
   "cell_type": "code",
   "execution_count": 9,
   "id": "2ac43fb6",
   "metadata": {},
   "outputs": [
    {
     "name": "stderr",
     "output_type": "stream",
     "text": [
      "/var/folders/lg/jw_brb093bl9n39fbgn1cw080001fw/T/ipykernel_50789/2624377715.py:5: DeprecationWarning: Conversion of an array with ndim > 0 to a scalar is deprecated, and will error in future. Ensure you extract a single element from your array before performing this operation. (Deprecated NumPy 1.25.)\n",
      "  borehdu1065.data['COL_OFFSET'][ii]=coron[indx]['dx']\n",
      "/var/folders/lg/jw_brb093bl9n39fbgn1cw080001fw/T/ipykernel_50789/2624377715.py:6: DeprecationWarning: Conversion of an array with ndim > 0 to a scalar is deprecated, and will error in future. Ensure you extract a single element from your array before performing this operation. (Deprecated NumPy 1.25.)\n",
      "  borehdu1065.data['ROW_OFFSET'][ii]=coron[indx]['dy']\n"
     ]
    }
   ],
   "source": [
    "# Populate information in the borehdu1065 HDU\n",
    "for ii in range(0,nfilter):\n",
    "    indx=np.where((coron['subarray'] == 'MASK1065')&(coron['filter'] == borehdu1065.data['FILTER'][ii]))[0]\n",
    "    if (len(indx) == 1):\n",
    "        borehdu1065.data['COL_OFFSET'][ii]=coron[indx]['dx']\n",
    "        borehdu1065.data['ROW_OFFSET'][ii]=coron[indx]['dy']\n",
    "    else:\n",
    "        borehdu1065.data['COL_OFFSET'][ii]=0\n",
    "        borehdu1065.data['ROW_OFFSET'][ii]=0"
   ]
  },
  {
   "cell_type": "code",
   "execution_count": 10,
   "id": "7acd38d0",
   "metadata": {},
   "outputs": [
    {
     "name": "stderr",
     "output_type": "stream",
     "text": [
      "/var/folders/lg/jw_brb093bl9n39fbgn1cw080001fw/T/ipykernel_50789/3756976466.py:5: DeprecationWarning: Conversion of an array with ndim > 0 to a scalar is deprecated, and will error in future. Ensure you extract a single element from your array before performing this operation. (Deprecated NumPy 1.25.)\n",
      "  borehdu1140.data['COL_OFFSET'][ii]=coron[indx]['dx']\n",
      "/var/folders/lg/jw_brb093bl9n39fbgn1cw080001fw/T/ipykernel_50789/3756976466.py:6: DeprecationWarning: Conversion of an array with ndim > 0 to a scalar is deprecated, and will error in future. Ensure you extract a single element from your array before performing this operation. (Deprecated NumPy 1.25.)\n",
      "  borehdu1140.data['ROW_OFFSET'][ii]=coron[indx]['dy']\n"
     ]
    }
   ],
   "source": [
    "# Populate information in the borehdu1140 HDU\n",
    "for ii in range(0,nfilter):\n",
    "    indx=np.where((coron['subarray'] == 'MASK1140')&(coron['filter'] == borehdu1140.data['FILTER'][ii]))[0]\n",
    "    if (len(indx) == 1):\n",
    "        borehdu1140.data['COL_OFFSET'][ii]=coron[indx]['dx']\n",
    "        borehdu1140.data['ROW_OFFSET'][ii]=coron[indx]['dy']\n",
    "    else:\n",
    "        borehdu1140.data['COL_OFFSET'][ii]=0\n",
    "        borehdu1140.data['ROW_OFFSET'][ii]=0"
   ]
  },
  {
   "cell_type": "code",
   "execution_count": 11,
   "id": "eb65badb",
   "metadata": {},
   "outputs": [
    {
     "name": "stderr",
     "output_type": "stream",
     "text": [
      "/var/folders/lg/jw_brb093bl9n39fbgn1cw080001fw/T/ipykernel_50789/2941484206.py:5: DeprecationWarning: Conversion of an array with ndim > 0 to a scalar is deprecated, and will error in future. Ensure you extract a single element from your array before performing this operation. (Deprecated NumPy 1.25.)\n",
      "  borehdu1550.data['COL_OFFSET'][ii]=coron[indx]['dx']\n",
      "/var/folders/lg/jw_brb093bl9n39fbgn1cw080001fw/T/ipykernel_50789/2941484206.py:6: DeprecationWarning: Conversion of an array with ndim > 0 to a scalar is deprecated, and will error in future. Ensure you extract a single element from your array before performing this operation. (Deprecated NumPy 1.25.)\n",
      "  borehdu1550.data['ROW_OFFSET'][ii]=coron[indx]['dy']\n"
     ]
    }
   ],
   "source": [
    "# Populate information in the borehdu1550 HDU\n",
    "for ii in range(0,nfilter):\n",
    "    indx=np.where((coron['subarray'] == 'MASK1550')&(coron['filter'] == borehdu1550.data['FILTER'][ii]))[0]\n",
    "    if (len(indx) == 1):\n",
    "        borehdu1550.data['COL_OFFSET'][ii]=coron[indx]['dx']\n",
    "        borehdu1550.data['ROW_OFFSET'][ii]=coron[indx]['dy']\n",
    "    else:\n",
    "        borehdu1550.data['COL_OFFSET'][ii]=0\n",
    "        borehdu1550.data['ROW_OFFSET'][ii]=0"
   ]
  },
  {
   "cell_type": "code",
   "execution_count": 12,
   "id": "c03a27b4",
   "metadata": {},
   "outputs": [
    {
     "name": "stderr",
     "output_type": "stream",
     "text": [
      "/var/folders/lg/jw_brb093bl9n39fbgn1cw080001fw/T/ipykernel_50789/2497336618.py:5: DeprecationWarning: Conversion of an array with ndim > 0 to a scalar is deprecated, and will error in future. Ensure you extract a single element from your array before performing this operation. (Deprecated NumPy 1.25.)\n",
      "  borehdulyot.data['COL_OFFSET'][ii]=coron[indx]['dx']\n",
      "/var/folders/lg/jw_brb093bl9n39fbgn1cw080001fw/T/ipykernel_50789/2497336618.py:6: DeprecationWarning: Conversion of an array with ndim > 0 to a scalar is deprecated, and will error in future. Ensure you extract a single element from your array before performing this operation. (Deprecated NumPy 1.25.)\n",
      "  borehdulyot.data['ROW_OFFSET'][ii]=coron[indx]['dy']\n"
     ]
    }
   ],
   "source": [
    "# Populate information in the borehdulyot HDU\n",
    "for ii in range(0,nfilter):\n",
    "    indx=np.where((coron['subarray'] == 'MASKLYOT')&(coron['filter'] == borehdulyot.data['FILTER'][ii]))[0]\n",
    "    if (len(indx) == 1):\n",
    "        borehdulyot.data['COL_OFFSET'][ii]=coron[indx]['dx']\n",
    "        borehdulyot.data['ROW_OFFSET'][ii]=coron[indx]['dy']\n",
    "    else:\n",
    "        borehdulyot.data['COL_OFFSET'][ii]=0\n",
    "        borehdulyot.data['ROW_OFFSET'][ii]=0"
   ]
  },
  {
   "cell_type": "code",
   "execution_count": 13,
   "id": "5f05b01d",
   "metadata": {},
   "outputs": [
    {
     "name": "stdout",
     "output_type": "stream",
     "text": [
      "Filename: (No file associated with this HDUList)\n",
      "No.    Name      Ver    Type      Cards   Dimensions   Format\n",
      "  0  PRIMARY       1 PrimaryHDU      41   ()      \n",
      "  1  B matrix      1 ImageHDU         9   (5, 5)   float64   \n",
      "  2  A matrix      1 ImageHDU         9   (5, 5)   float64   \n",
      "  3  T matrix      1 ImageHDU         9   (3, 3)   float64   \n",
      "  4  M matrix      1 ImageHDU         9   (3, 3)   float64   \n",
      "  5  BI matrix     1 ImageHDU         9   (5, 5)   float64   \n",
      "  6  AI matrix     1 ImageHDU         9   (5, 5)   float64   \n",
      "  7  TI matrix     1 ImageHDU         9   (3, 3)   float64   \n",
      "  8  MI matrix     1 ImageHDU         9   (3, 3)   float64   \n",
      "  9  Boresight offsets    1 BinTableHDU     15   15R x 3C   ['7A', 'D', 'D']   \n",
      " 10  D matrix      1 ImageHDU         9   (5, 5)   float64   \n",
      " 11  C matrix      1 ImageHDU         9   (5, 5)   float64   \n",
      " 12  F matrix      1 ImageHDU         9   (5, 5)   float64   \n",
      " 13  E matrix      1 ImageHDU         9   (5, 5)   float64   \n",
      " 14  DI matrix     1 ImageHDU         9   (5, 5)   float64   \n",
      " 15  CI matrix     1 ImageHDU         9   (5, 5)   float64   \n",
      " 16  FI matrix     1 ImageHDU         9   (5, 5)   float64   \n",
      " 17  EI matrix     1 ImageHDU         9   (5, 5)   float64   \n",
      " 18  BoresightCORON1065    1 BinTableHDU     15   15R x 3C   ['7A', 'D', 'D']   \n",
      " 19  BoresightCORON1140    1 BinTableHDU     15   15R x 3C   ['7A', 'D', 'D']   \n",
      " 20  BoresightCORON1550    1 BinTableHDU     15   15R x 3C   ['7A', 'D', 'D']   \n",
      " 21  BoresightCORONLYOT    1 BinTableHDU     15   15R x 3C   ['7A', 'D', 'D']   \n"
     ]
    }
   ],
   "source": [
    "# Append new HDUs to the distortion file\n",
    "newhdus=disthdus.copy()\n",
    "\n",
    "for key, borehdu in [('BoresightCORON1065', borehdu1065),\n",
    "                 ('BoresightCORON1140', borehdu1140),\n",
    "                 ('BoresightCORON1550', borehdu1550),\n",
    "                 ('BoresightCORONLYOT', borehdulyot)\n",
    "                 ]:\n",
    "    try:\n",
    "        newhdus[key] = borehdu\n",
    "    except KeyError:\n",
    "        newhdus.append(borehdu)\n",
    "        \n",
    "newhdus.info()"
   ]
  },
  {
   "cell_type": "code",
   "execution_count": 14,
   "id": "6158a5a8",
   "metadata": {},
   "outputs": [
    {
     "data": {
      "text/plain": [
       "SIMPLE  =                    T / conforms to FITS standard                      \n",
       "BITPIX  =                    8 / array data type                                \n",
       "NAXIS   =                    0 / number of array dimensions                     \n",
       "EXTEND  =                    T                                                  \n",
       "TELESCOP= 'JWST    '           / The telescope used to acquire the data         \n",
       "INSTRUME= 'MIRI    '           / Instrument used to acquire data                \n",
       "MODELNAM= 'FM      '           / Instrument model name                          \n",
       "DETECTOR= 'MIRIMAGE'           / String mnemonic for SCA used to acquire data   \n",
       "DETSETNG= 'N/A     '           / Detector settings parameter                    \n",
       "EXP_TYPE= 'MIR_IMAGE'          / Exposure type                                  \n",
       "READPATT= 'N/A     '           / Detector read out pattern parameter set        \n",
       "SUBARRAY= 'FULL    '           / Det. subarray; istortion applies to full array \n",
       "FASTAXIS=                    1 / Detector fast readout axis orientation         \n",
       "SLOWAXIS=                    2 / Detector slow readout axis orientation         \n",
       "SUBSTRT1=                    1                                                  \n",
       "SUBSIZE1=                 1032                                                  \n",
       "SUBSTRT2=                    1                                                  \n",
       "SUBSIZE2=                 1024                                                  \n",
       "FILTER  = 'N/A     '           / Filter used by the instrument (imaging)        \n",
       "CHANNEL = 'N/A     '                                                            \n",
       "BAND    = 'N/A     '                                                            \n",
       "FILENAME= 'MIRI_FM_MIRIMAGE_DISTORTION_SS.06.00.fits' / Name of this file       \n",
       "REFTYPE = 'DISTORTION'         / Type of data found in file                     \n",
       "DESCRIP = 'Imager distortion transforms' / Content summary                      \n",
       "VERSION = 'SS.06.00'           / Original file name                             \n",
       "DATE    = '2022-05-26T18:49:29.214' / The date this file as created (UTC)       \n",
       "USEAFTER= '2000-01-01T00:00:00' / Date after which CDP should be used (UTC)     \n",
       "DPSW    = 'CAP_103_Make_Transform_CDP.py' / The data processing software used   \n",
       "DPSW_VER= '13.8.2018'          /  Data processing software version              \n",
       "AUTHOR  = 'Samuel Ronayette / Alistair Glasse' / Authors of CDP                 \n",
       "CREATOR = 'CAP_103_Make_Transform_CDP.py' / Converted from IDL by Tea Temim)    \n",
       "ORIGIN  = 'MIRI European Consortium' / Organization responsible                 \n",
       "FITMODEL= 'Zemax_MWMar18.csv'  / Source for polynomial fit                      \n",
       "PEDIGREE= 'SIMULATION'         / Pedigree (source) of reference data            \n",
       "HISTORY Description of reference file creation                                  \n",
       "HISTORY DOCUMENT: MIRI-TN-00070-ATC Iss 13 - Imager Distortion CDP              \n",
       "HISTORY     DOC2: MIRI-RP-00919-CEA Iss4.4 - Source for distortion map          \n",
       "HISTORY SOFTWARE: Python 3 programme CAP_103_Make_Transform_CDP.py              \n",
       "HISTORY DATA USED:                                                              \n",
       "HISTORY DIFFERENCES: included on-orbit boresight prediction from JWST-RPT-029250\n",
       "HISTORY SS.05.00 adds Coron-specific boresight tables                           \n",
       "HISTORY SS.06.00 updates Coron-specific boresight tables                        "
      ]
     },
     "execution_count": 14,
     "metadata": {},
     "output_type": "execute_result"
    }
   ],
   "source": [
    "# Update header info\n",
    "newhdus[0].header['FILENAME']='MIRI_FM_MIRIMAGE_DISTORTION_SS.06.00.fits'\n",
    "newhdus[0].header['VERSION']='SS.06.00'\n",
    "newhdus[0].header['HISTORY']='SS.06.00 updates Coron-specific boresight tables'\n",
    "newhdus[0].header"
   ]
  },
  {
   "cell_type": "code",
   "execution_count": 15,
   "id": "7ad227d8",
   "metadata": {},
   "outputs": [],
   "source": [
    "new_path = '../../imager/makeboresight/MIRI_FM_MIRIMAGE_DISTORTION_SS.06.00.fits'\n",
    "newhdus.writeto(new_path, overwrite=True)"
   ]
  },
  {
   "cell_type": "code",
   "execution_count": 16,
   "id": "f781a87b",
   "metadata": {},
   "outputs": [
    {
     "data": {
      "text/plain": [
       "FITS_rec([('F560W', -0.55497056, -1.4172281 ),\n",
       "          ('F770W',  0.        ,  0.        ),\n",
       "          ('F1000W', -0.329     , -0.855     ),\n",
       "          ('F1130W',  0.        ,  0.        ),\n",
       "          ('F1280W',  0.        ,  0.        ),\n",
       "          ('F1500W', -0.08808295, -0.70261178),\n",
       "          ('F1800W',  0.        ,  0.        ),\n",
       "          ('F2100W',  0.        ,  0.        ),\n",
       "          ('F2550WR',  0.        ,  0.        ),\n",
       "          ('F2550W',  0.        ,  0.        ),\n",
       "          ('F1065C',  0.        ,  0.        ),\n",
       "          ('F1140C',  0.        ,  0.        ),\n",
       "          ('F1550C',  0.        ,  0.        ),\n",
       "          ('F2300C',  0.        ,  0.        ),\n",
       "          ('FND', -0.25904089, -1.08108376)],\n",
       "         dtype=(numpy.record, [('FILTER', 'S7'), ('COL_OFFSET', '>f8'), ('ROW_OFFSET', '>f8')]))"
      ]
     },
     "execution_count": 16,
     "metadata": {},
     "output_type": "execute_result"
    }
   ],
   "source": [
    "borehdu1550.data"
   ]
  },
  {
   "cell_type": "code",
   "execution_count": 17,
   "id": "869c5c4a-c6cc-42fa-ad9c-1e62820fae90",
   "metadata": {},
   "outputs": [
    {
     "data": {
      "text/plain": [
       "FITS_rec([('F560W', -0.55497056, -1.4172281 ),\n",
       "          ('F770W',  0.        ,  0.        ),\n",
       "          ('F1000W', -0.329     , -0.855     ),\n",
       "          ('F1130W',  0.        ,  0.        ),\n",
       "          ('F1280W',  0.        ,  0.        ),\n",
       "          ('F1500W', -0.08808295, -0.70261178),\n",
       "          ('F1800W',  0.        ,  0.        ),\n",
       "          ('F2100W',  0.        ,  0.        ),\n",
       "          ('F2550WR',  0.        ,  0.        ),\n",
       "          ('F2550W',  0.        ,  0.        ),\n",
       "          ('F1065C',  0.        ,  0.        ),\n",
       "          ('F1140C',  0.        ,  0.        ),\n",
       "          ('F1550C',  0.        ,  0.        ),\n",
       "          ('F2300C',  0.        ,  0.        ),\n",
       "          ('FND', -0.25904089, -1.08108376)],\n",
       "         dtype=(numpy.record, [('FILTER', 'S7'), ('COL_OFFSET', '>f8'), ('ROW_OFFSET', '>f8')]))"
      ]
     },
     "execution_count": 17,
     "metadata": {},
     "output_type": "execute_result"
    }
   ],
   "source": [
    "fits.getdata(new_path, 20)"
   ]
  },
  {
   "cell_type": "code",
   "execution_count": null,
   "id": "d8b665d6-3324-46cb-ba9d-369a796e0706",
   "metadata": {},
   "outputs": [],
   "source": []
  }
 ],
 "metadata": {
  "kernelspec": {
   "display_name": "Python 3 (ipykernel)",
   "language": "python",
   "name": "python3"
  },
  "language_info": {
   "codemirror_mode": {
    "name": "ipython",
    "version": 3
   },
   "file_extension": ".py",
   "mimetype": "text/x-python",
   "name": "python",
   "nbconvert_exporter": "python",
   "pygments_lexer": "ipython3",
   "version": "3.13.2"
  }
 },
 "nbformat": 4,
 "nbformat_minor": 5
}
