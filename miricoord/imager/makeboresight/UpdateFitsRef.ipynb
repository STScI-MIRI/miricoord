{
 "cells": [
  {
   "cell_type": "code",
   "execution_count": null,
   "id": "8a4ff4fe",
   "metadata": {},
   "outputs": [],
   "source": [
    "# This notebook will tack the coron-specific filter boresight offsets from a CSV file\n",
    "# into the FITS distortion reference file\n",
    "# \n",
    "# From here it can be called by miricoord, pulled out to pipeline ref files, etc.\n",
    "#\n",
    "# Offsets will be ZERO for filters in which it hasn't been measured for the coronagraphs,\n",
    "# including for F770W, which will ensure that we can call miricoord in the usual manner\n",
    "# and have it work as expected since we're tying F770W to each coron filter"
   ]
  },
  {
   "cell_type": "code",
   "execution_count": null,
   "id": "564f270c",
   "metadata": {},
   "outputs": [],
   "source": [
    "from astropy.io import fits\n",
    "import numpy as np\n",
    "from astropy.io import ascii\n",
    "import miricoord.imager.mirim_tools as mt"
   ]
  },
  {
   "cell_type": "code",
   "execution_count": null,
   "id": "4e9b2b43",
   "metadata": {},
   "outputs": [],
   "source": [
    "distfile=mt.get_fitsreffile()\n",
    "disthdus=fits.open(distfile)\n",
    "borehdu=disthdus['Boresight offsets']"
   ]
  },
  {
   "cell_type": "code",
   "execution_count": null,
   "id": "5ec68c2c-8fd4-4222-8309-2f01ba6a4f9b",
   "metadata": {},
   "outputs": [],
   "source": [
    "fits.info(distfile)"
   ]
  },
  {
   "cell_type": "code",
   "execution_count": null,
   "id": "69f0e942",
   "metadata": {},
   "outputs": [],
   "source": [
    "borehdu.data"
   ]
  },
  {
   "cell_type": "code",
   "execution_count": null,
   "id": "cb5a1d71",
   "metadata": {},
   "outputs": [],
   "source": [
    "# Make a copy of the boresight HDU for MASK1065, MASK1140, MASK1550, MASKLYOT\n",
    "borehdu1065=borehdu.copy()\n",
    "borehdu1065.header['EXTNAME']='BoresightCORON1065'\n",
    "\n",
    "borehdu1140=borehdu.copy()\n",
    "borehdu1140.header['EXTNAME']='BoresightCORON1140'\n",
    "\n",
    "borehdu1550=borehdu.copy()\n",
    "borehdu1550.header['EXTNAME']='BoresightCORON1550'\n",
    "\n",
    "borehdulyot=borehdu.copy()\n",
    "borehdulyot.header['EXTNAME']='BoresightCORONLYOT'\n",
    "\n",
    "nfilter=len(borehdu.data)\n",
    "print('nfilter = ',nfilter)"
   ]
  },
  {
   "cell_type": "code",
   "execution_count": null,
   "id": "1f6c975e",
   "metadata": {},
   "outputs": [],
   "source": [
    "# Read the updated coron offsets csv\n",
    "coron=ascii.read('coronagraph_boresight_offsets-pixels.csv')"
   ]
  },
  {
   "cell_type": "code",
   "execution_count": null,
   "id": "455530bf",
   "metadata": {},
   "outputs": [],
   "source": [
    "coron"
   ]
  },
  {
   "cell_type": "code",
   "execution_count": null,
   "id": "d436a37e",
   "metadata": {},
   "outputs": [],
   "source": []
  },
  {
   "cell_type": "code",
   "execution_count": null,
   "id": "2ac43fb6",
   "metadata": {},
   "outputs": [],
   "source": [
    "# Populate information in the borehdu1065 HDU\n",
    "for ii in range(0,nfilter):\n",
    "    indx=np.where((coron['subarray'] == 'MASK1065')&(coron['filter'] == borehdu1065.data['FILTER'][ii]))[0]\n",
    "    if (len(indx) == 1):\n",
    "        borehdu1065.data['COL_OFFSET'][ii]=coron[indx]['dx']\n",
    "        borehdu1065.data['ROW_OFFSET'][ii]=coron[indx]['dy']\n",
    "    else:\n",
    "        borehdu1065.data['COL_OFFSET'][ii]=0\n",
    "        borehdu1065.data['ROW_OFFSET'][ii]=0"
   ]
  },
  {
   "cell_type": "code",
   "execution_count": null,
   "id": "7acd38d0",
   "metadata": {},
   "outputs": [],
   "source": [
    "# Populate information in the borehdu1140 HDU\n",
    "for ii in range(0,nfilter):\n",
    "    indx=np.where((coron['subarray'] == 'MASK1140')&(coron['filter'] == borehdu1140.data['FILTER'][ii]))[0]\n",
    "    if (len(indx) == 1):\n",
    "        borehdu1140.data['COL_OFFSET'][ii]=coron[indx]['dx']\n",
    "        borehdu1140.data['ROW_OFFSET'][ii]=coron[indx]['dy']\n",
    "    else:\n",
    "        borehdu1140.data['COL_OFFSET'][ii]=0\n",
    "        borehdu1140.data['ROW_OFFSET'][ii]=0"
   ]
  },
  {
   "cell_type": "code",
   "execution_count": null,
   "id": "eb65badb",
   "metadata": {},
   "outputs": [],
   "source": [
    "# Populate information in the borehdu1550 HDU\n",
    "for ii in range(0,nfilter):\n",
    "    indx=np.where((coron['subarray'] == 'MASK1550')&(coron['filter'] == borehdu1550.data['FILTER'][ii]))[0]\n",
    "    if (len(indx) == 1):\n",
    "        borehdu1550.data['COL_OFFSET'][ii]=coron[indx]['dx']\n",
    "        borehdu1550.data['ROW_OFFSET'][ii]=coron[indx]['dy']\n",
    "    else:\n",
    "        borehdu1550.data['COL_OFFSET'][ii]=0\n",
    "        borehdu1550.data['ROW_OFFSET'][ii]=0"
   ]
  },
  {
   "cell_type": "code",
   "execution_count": null,
   "id": "c03a27b4",
   "metadata": {},
   "outputs": [],
   "source": [
    "# Populate information in the borehdulyot HDU\n",
    "for ii in range(0,nfilter):\n",
    "    indx=np.where((coron['subarray'] == 'MASKLYOT')&(coron['filter'] == borehdulyot.data['FILTER'][ii]))[0]\n",
    "    if (len(indx) == 1):\n",
    "        borehdulyot.data['COL_OFFSET'][ii]=coron[indx]['dx']\n",
    "        borehdulyot.data['ROW_OFFSET'][ii]=coron[indx]['dy']\n",
    "    else:\n",
    "        borehdulyot.data['COL_OFFSET'][ii]=0\n",
    "        borehdulyot.data['ROW_OFFSET'][ii]=0"
   ]
  },
  {
   "cell_type": "code",
   "execution_count": null,
   "id": "5f05b01d",
   "metadata": {},
   "outputs": [],
   "source": [
    "# Append new HDUs to the distortion file\n",
    "newhdus=disthdus.copy()\n",
    "\n",
    "for key, borehdu in [('BoresightCORON1065', borehdu1065),\n",
    "                 ('BoresightCORON1140', borehdu1140),\n",
    "                 ('BoresightCORON1550', borehdu1550),\n",
    "                 ('BoresightCORONLYOT', borehdulyot)\n",
    "                 ]:\n",
    "    try:\n",
    "        newhdus[key] = borehdu\n",
    "    except KeyError:\n",
    "        newhdus.append(borehdu)\n",
    "        \n",
    "newhdus.info()"
   ]
  },
  {
   "cell_type": "code",
   "execution_count": null,
   "id": "6158a5a8",
   "metadata": {},
   "outputs": [],
   "source": [
    "# Update header info\n",
    "newhdus[0].header['FILENAME']='MIRI_FM_MIRIMAGE_DISTORTION_SS.06.00.fits'\n",
    "newhdus[0].header['VERSION']='SS.06.00'\n",
    "newhdus[0].header['HISTORY']='SS.06.00 updates Coron-specific boresight tables'\n",
    "newhdus[0].header"
   ]
  },
  {
   "cell_type": "code",
   "execution_count": null,
   "id": "7ad227d8",
   "metadata": {},
   "outputs": [],
   "source": [
    "new_path = '../../imager/makeboresight/MIRI_FM_MIRIMAGE_DISTORTION_SS.06.00.fits'\n",
    "newhdus.writeto(new_path, overwrite=True)"
   ]
  },
  {
   "cell_type": "code",
   "execution_count": null,
   "id": "f781a87b",
   "metadata": {},
   "outputs": [],
   "source": [
    "borehdu1550.data"
   ]
  },
  {
   "cell_type": "code",
   "execution_count": null,
   "id": "869c5c4a-c6cc-42fa-ad9c-1e62820fae90",
   "metadata": {},
   "outputs": [],
   "source": [
    "fits.getdata(new_path, 20)"
   ]
  },
  {
   "cell_type": "code",
   "execution_count": null,
   "id": "d8b665d6-3324-46cb-ba9d-369a796e0706",
   "metadata": {},
   "outputs": [],
   "source": []
  }
 ],
 "metadata": {
  "kernelspec": {
   "display_name": "Python 3 (ipykernel)",
   "language": "python",
   "name": "python3"
  },
  "language_info": {
   "codemirror_mode": {
    "name": "ipython",
    "version": 3
   },
   "file_extension": ".py",
   "mimetype": "text/x-python",
   "name": "python",
   "nbconvert_exporter": "python",
   "pygments_lexer": "ipython3",
   "version": "3.10.0"
  }
 },
 "nbformat": 4,
 "nbformat_minor": 5
}
