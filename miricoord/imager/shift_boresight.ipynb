{
 "cells": [
  {
   "cell_type": "code",
   "execution_count": 1,
   "id": "fc83a23f",
   "metadata": {},
   "outputs": [],
   "source": [
    "from astropy.io import fits\n",
    "from numpy.linalg import inv as inv\n",
    "import miricoord.imager.mirim_tools as mt"
   ]
  },
  {
   "cell_type": "code",
   "execution_count": 2,
   "id": "280e5951",
   "metadata": {},
   "outputs": [],
   "source": [
    "v2shift = +0.0302\n",
    "v3shift = +0.1426"
   ]
  },
  {
   "cell_type": "code",
   "execution_count": null,
   "id": "cb172637",
   "metadata": {},
   "outputs": [],
   "source": []
  },
  {
   "cell_type": "code",
   "execution_count": 3,
   "id": "2a5d4a13",
   "metadata": {},
   "outputs": [
    {
     "name": "stdout",
     "output_type": "stream",
     "text": [
      "/Users/dlaw/jwcode/miricoord/data/fits/flt3/MIRI_FM_MIRIMAGE_DISTORTION_SS.06.00.fits\n"
     ]
    }
   ],
   "source": [
    "# Old distortion file\n",
    "mt.set_toolversion('flt3')\n",
    "oldfile=mt.get_fitsreffile()\n",
    "print(oldfile)"
   ]
  },
  {
   "cell_type": "code",
   "execution_count": 4,
   "id": "8927649e",
   "metadata": {},
   "outputs": [],
   "source": [
    "# New Imager distortion file\n",
    "new_imafile=oldfile.replace('flt3/MIRI_FM_MIRIMAGE_DISTORTION_SS.06.00.fits','flt9/MIRI_FM_MIRIMAGE_DISTORTION_SS.09.00.fits')"
   ]
  },
  {
   "cell_type": "code",
   "execution_count": null,
   "id": "bf17e2b2",
   "metadata": {},
   "outputs": [],
   "source": []
  },
  {
   "cell_type": "code",
   "execution_count": 5,
   "id": "44003b64",
   "metadata": {},
   "outputs": [],
   "source": [
    "# Read in the old reference file and update the boresight reference point in the TI matrix\n",
    "hdu=fits.open(oldfile)\n",
    "tidata=hdu['TI matrix'].data\n",
    "tidata[0,2] += v2shift\n",
    "tidata[1,2] += v3shift\n",
    "\n",
    "# Update the T matrix for the reverse transform\n",
    "tdata=inv(tidata)\n",
    "\n",
    "# Put the updated matrices in the file\n",
    "hdu['TI matrix'].data = tidata\n",
    "hdu['T matrix'].data = tdata\n",
    "hdu[0].header['HISTORY']='20250606: Shift V2/V3 boresight to match latest FGS calibration.'\n",
    "hdu.writeto(new_imafile,overwrite=True)"
   ]
  },
  {
   "cell_type": "code",
   "execution_count": null,
   "id": "c49519c1",
   "metadata": {},
   "outputs": [],
   "source": []
  },
  {
   "cell_type": "code",
   "execution_count": 6,
   "id": "bbb4fce8",
   "metadata": {},
   "outputs": [
    {
     "data": {
      "text/plain": [
       "(array([-453.37849012]), array([-373.8105493]))"
      ]
     },
     "execution_count": 6,
     "metadata": {},
     "output_type": "execute_result"
    }
   ],
   "source": [
    "# Test where a reference pixel used to be\n",
    "mt.set_toolversion('flt3')\n",
    "v2old,v3old = mt.xytov2v3(692.5,511.5,'F770W')\n",
    "v2old,v3old"
   ]
  },
  {
   "cell_type": "code",
   "execution_count": 7,
   "id": "707552b4",
   "metadata": {},
   "outputs": [
    {
     "data": {
      "text/plain": [
       "(array([-453.34829012]), array([-373.6679493]))"
      ]
     },
     "execution_count": 7,
     "metadata": {},
     "output_type": "execute_result"
    }
   ],
   "source": [
    "# Test where a reference pixel moved to\n",
    "mt.set_toolversion('flt9')\n",
    "v2new,v3new = mt.xytov2v3(692.5,511.5,'F770W')\n",
    "v2new,v3new"
   ]
  },
  {
   "cell_type": "code",
   "execution_count": null,
   "id": "b1272d80",
   "metadata": {},
   "outputs": [],
   "source": []
  },
  {
   "cell_type": "code",
   "execution_count": null,
   "id": "e5e43765",
   "metadata": {},
   "outputs": [],
   "source": []
  }
 ],
 "metadata": {
  "kernelspec": {
   "display_name": "Python 3 (ipykernel)",
   "language": "python",
   "name": "python3"
  },
  "language_info": {
   "codemirror_mode": {
    "name": "ipython",
    "version": 3
   },
   "file_extension": ".py",
   "mimetype": "text/x-python",
   "name": "python",
   "nbconvert_exporter": "python",
   "pygments_lexer": "ipython3",
   "version": "3.13.2"
  }
 },
 "nbformat": 4,
 "nbformat_minor": 5
}
